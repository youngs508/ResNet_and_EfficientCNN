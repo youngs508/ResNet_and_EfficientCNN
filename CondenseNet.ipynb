{
 "cells": [
  {
   "cell_type": "code",
   "execution_count": 1,
   "id": "f5d549cb",
   "metadata": {},
   "outputs": [
    {
     "name": "stdout",
     "output_type": "stream",
     "text": [
      "number of training images: 6680\n",
      "numbe of validation images: 835\n",
      "number of testing images: 836\n"
     ]
    }
   ],
   "source": [
    "import os\n",
    "import torch\n",
    "from torch.autograd import Variable\n",
    "import torchvision.datasets as dsets\n",
    "import torchvision.transforms as transforms\n",
    "import torch.nn.init\n",
    "from PIL import ImageFile\n",
    "\n",
    "\n",
    "ImageFile.LOAD_TRUNCATED_IMAGES = True\n",
    "\n",
    "torch.manual_seed(777)  # reproducibility\n",
    "\n",
    "# parameters\n",
    "total_dog_classes = 133\n",
    "learning_rate = 0.001\n",
    "batch_size = 10\n",
    "keep_prob = 0.7\n",
    "data_dir=\"./all_images/dogImages/\"\n",
    "TRAIN = 'train'\n",
    "VAL = 'valid'\n",
    "TEST = 'test'\n",
    "\n",
    "\n",
    "# TODO: Define your transforms for the training, validation, and testing sets\n",
    "data_transforms = {TRAIN: transforms.Compose([\n",
    "        transforms.RandomResizedCrop(224),    \n",
    "        transforms.RandomHorizontalFlip(),\n",
    "        transforms.ToTensor(),\n",
    "        transforms.Normalize([0.485, 0.456, 0.406], [0.229, 0.224, 0.225])\n",
    "    ]),\n",
    "                  VAL: transforms.Compose([\n",
    "        transforms.Resize(256),\n",
    "        transforms.CenterCrop(224),\n",
    "        transforms.ToTensor(),\n",
    "        transforms.Normalize([0.485, 0.456, 0.406], [0.229, 0.224, 0.225])\n",
    "    ]),\n",
    "                  TEST: transforms.Compose([\n",
    "        transforms.Resize(256),\n",
    "        transforms.CenterCrop(224),\n",
    "        transforms.ToTensor(),\n",
    "        transforms.Normalize([0.485, 0.456, 0.406], [0.229, 0.224, 0.225])\n",
    "    ])}\n",
    "\n",
    "image_datasets = {x: dsets.ImageFolder(os.path.join(data_dir, x), data_transforms[x]) for x in [TRAIN, VAL, TEST]}\n",
    "\n",
    "\n",
    "\n",
    "dataloaders = {x: torch.utils.data.DataLoader(image_datasets[x], batch_size=10,\n",
    "                                             shuffle=True, num_workers=0)\n",
    "              for x in [TRAIN, VAL, TEST]}\n",
    "\n",
    "dataset_sizes = {x: len(image_datasets[x]) for x in [TRAIN, VAL, TEST]}\n",
    "class_names = image_datasets[TRAIN].classes\n",
    "\n",
    "device = torch.device(\"cuda:0\" if torch.cuda.is_available() else \"cpu\")\n",
    "\n",
    "print(\"number of training images:\", len(image_datasets[TRAIN]))\n",
    "print(\"numbe of validation images:\", len(image_datasets[VAL]))\n",
    "print(\"number of testing images:\", len(image_datasets[TEST]))"
   ]
  },
  {
   "cell_type": "code",
   "execution_count": 2,
   "id": "663bbcca",
   "metadata": {},
   "outputs": [],
   "source": [
    "import torch\n",
    "import torchvision\n",
    "import torchvision.transforms as transforms\n",
    "from torchvision.utils import save_image\n",
    "import torch.nn as nn\n",
    "import torch.nn.functional as F\n",
    "import torch.optim as optim\n",
    "import numpy as np\n",
    "import os\n",
    "import glob\n",
    "import PIL\n",
    "from PIL import Image\n",
    "from torch.utils import data as D\n",
    "from torch.utils.data.sampler import SubsetRandomSampler\n",
    "import random\n",
    "import torchsummary\n",
    "\n",
    "# model\n",
    "'''EfficientNet in PyTorch.\n",
    "Paper: \"EfficientNet: Rethinking Model Scaling for Convolutional Neural Networks\".\n",
    "Reference: https://github.com/keras-team/keras-applications/blob/master/keras_applications/efficientnet.py\n",
    "'''\n",
    "\n",
    "import torch\n",
    "\n",
    "def swish(x):\n",
    "    return x * x.sigmoid()\n",
    "\n",
    "def drop_connect(x, drop_ratio):\n",
    "    keep_ratio = 1.0 - drop_ratio\n",
    "    mask = torch.empty([x.shape[0], 1, 1, 1], dtype=x.dtype, device=x.device)\n",
    "    mask.bernoulli_(keep_ratio)\n",
    "    x.div_(keep_ratio)\n",
    "    x.mul_(mask)\n",
    "    return x\n",
    "\n",
    "\n",
    "class SE(nn.Module):\n",
    "    '''Squeeze-and-Excitation block with Swish.'''\n",
    "\n",
    "    def __init__(self, in_channels, se_channels):\n",
    "        super(SE, self).__init__()\n",
    "        self.se1 = nn.Conv2d(in_channels, se_channels,\n",
    "                             kernel_size=1, bias=True)\n",
    "        self.se2 = nn.Conv2d(se_channels, in_channels,\n",
    "                             kernel_size=1, bias=True)\n",
    "\n",
    "    def forward(self, x):\n",
    "        out = F.adaptive_avg_pool2d(x, (1, 1))\n",
    "        out = swish(self.se1(out))\n",
    "        out = self.se2(out).sigmoid()\n",
    "        out = x * out\n",
    "        return out\n",
    "\n",
    "\n",
    "class Block(nn.Module):\n",
    "    '''expansion + depthwise + pointwise + squeeze-excitation'''\n",
    "\n",
    "    def __init__(self,\n",
    "                 in_channels,\n",
    "                 out_channels,\n",
    "                 kernel_size,\n",
    "                 stride,\n",
    "                 expand_ratio=1,\n",
    "                 se_ratio=0.,\n",
    "                 drop_rate=0.):\n",
    "        super(Block, self).__init__()\n",
    "        self.stride = stride\n",
    "        self.drop_rate = drop_rate\n",
    "        self.expand_ratio = expand_ratio\n",
    "\n",
    "        # Expansion\n",
    "        channels = expand_ratio * in_channels\n",
    "        self.conv1 = nn.Conv2d(in_channels,\n",
    "                               channels,\n",
    "                               kernel_size=1,\n",
    "                               stride=1,\n",
    "                               padding=0,\n",
    "                               bias=False)\n",
    "        self.bn1 = nn.BatchNorm2d(channels)\n",
    "\n",
    "        # Depthwise conv\n",
    "        self.conv2 = nn.Conv2d(channels,\n",
    "                               channels,\n",
    "                               kernel_size=kernel_size,\n",
    "                               stride=stride,\n",
    "                               padding=(1 if kernel_size == 3 else 2),\n",
    "                               groups=channels,\n",
    "                               bias=False)\n",
    "        self.bn2 = nn.BatchNorm2d(channels)\n",
    "\n",
    "        # SE layers\n",
    "        se_channels = int(in_channels * se_ratio)\n",
    "        self.se = SE(channels, se_channels)\n",
    "\n",
    "        # Output\n",
    "        self.conv3 = nn.Conv2d(channels,\n",
    "                               out_channels,\n",
    "                               kernel_size=1,\n",
    "                               stride=1,\n",
    "                               padding=0,\n",
    "                               bias=False)\n",
    "        self.bn3 = nn.BatchNorm2d(out_channels)\n",
    "\n",
    "        # Skip connection if in and out shapes are the same (MV-V2 style)\n",
    "        self.has_skip = (stride == 1) and (in_channels == out_channels)\n",
    "\n",
    "    def forward(self, x):\n",
    "        out = x if self.expand_ratio == 1 else swish(self.bn1(self.conv1(x)))\n",
    "        out = swish(self.bn2(self.conv2(out)))\n",
    "        out = self.se(out)\n",
    "        out = self.bn3(self.conv3(out))\n",
    "        if self.has_skip:\n",
    "            if self.training and self.drop_rate > 0:\n",
    "                out = drop_connect(out, self.drop_rate)\n",
    "            out = out + x\n",
    "        return out\n",
    "\n",
    "\n",
    "class EfficientNet(nn.Module):\n",
    "    def __init__(self, cfg, num_classes=total_dog_classes):\n",
    "        super(EfficientNet, self).__init__()\n",
    "        self.cfg = cfg\n",
    "        self.conv1 = nn.Conv2d(3,\n",
    "                               64,\n",
    "                               kernel_size=7,\n",
    "                               stride=2,\n",
    "                               padding=3,\n",
    "                               bias=False)\n",
    "        self.bn1 = nn.BatchNorm2d(64)\n",
    "        self.layers = self._make_layers(in_channels=64)\n",
    "        self.linear = nn.Linear(cfg['out_channels'][-1], num_classes)\n",
    "\n",
    "    def _make_layers(self, in_channels):\n",
    "        layers = []\n",
    "        cfg = [self.cfg[k] for k in ['expansion', 'out_channels', 'num_blocks', 'kernel_size',\n",
    "                                     'stride']]\n",
    "        b = 0\n",
    "        blocks = sum(self.cfg['num_blocks'])\n",
    "        for expansion, out_channels, num_blocks, kernel_size, stride in zip(*cfg):\n",
    "            strides = [stride] + [1] * (num_blocks - 1)\n",
    "            for stride in strides:\n",
    "                drop_rate = self.cfg['drop_connect_rate'] * b / blocks\n",
    "                layers.append(\n",
    "                    Block(in_channels,\n",
    "                          out_channels,\n",
    "                          kernel_size,\n",
    "                          stride,\n",
    "                          expansion,\n",
    "                          se_ratio=0.25,\n",
    "                          drop_rate=drop_rate))\n",
    "                in_channels = out_channels\n",
    "        return nn.Sequential(*layers)\n",
    "\n",
    "    def forward(self, x):\n",
    "        out = swish(self.bn1(self.conv1(x)))\n",
    "        out = self.layers(out)\n",
    "        out = F.adaptive_avg_pool2d(out, 1)\n",
    "        out = out.view(out.size(0), -1)\n",
    "        dropout_rate = self.cfg['dropout_rate']\n",
    "        if self.training and dropout_rate > 0:\n",
    "            out = F.dropout(out, p=dropout_rate)\n",
    "        out = self.linear(out)\n",
    "        return out\n",
    "\n",
    "cfg = {\n",
    "    'num_blocks': [1, 2, 2, 3, 3, 4, 1],\n",
    "    'expansion': [1, 2, 2, 4, 4, 6, 6],\n",
    "    'out_channels': [16, 24, 40, 80, 112, 192, 320],\n",
    "    'kernel_size': [3, 3, 5, 3, 5, 5, 3],\n",
    "    'stride': [1, 2, 2, 2, 1, 2, 1],\n",
    "    'dropout_rate': 0.2,\n",
    "    'drop_connect_rate': 0.2,\n",
    "}"
   ]
  },
  {
   "cell_type": "code",
   "execution_count": 3,
   "id": "7913bb70",
   "metadata": {},
   "outputs": [
    {
     "name": "stdout",
     "output_type": "stream",
     "text": [
      "EfficientNet(\n",
      "  (conv1): Conv2d(3, 64, kernel_size=(7, 7), stride=(2, 2), padding=(3, 3), bias=False)\n",
      "  (bn1): BatchNorm2d(64, eps=1e-05, momentum=0.1, affine=True, track_running_stats=True)\n",
      "  (layers): Sequential(\n",
      "    (0): Block(\n",
      "      (conv1): Conv2d(64, 64, kernel_size=(1, 1), stride=(1, 1), bias=False)\n",
      "      (bn1): BatchNorm2d(64, eps=1e-05, momentum=0.1, affine=True, track_running_stats=True)\n",
      "      (conv2): Conv2d(64, 64, kernel_size=(3, 3), stride=(1, 1), padding=(1, 1), groups=64, bias=False)\n",
      "      (bn2): BatchNorm2d(64, eps=1e-05, momentum=0.1, affine=True, track_running_stats=True)\n",
      "      (se): SE(\n",
      "        (se1): Conv2d(64, 16, kernel_size=(1, 1), stride=(1, 1))\n",
      "        (se2): Conv2d(16, 64, kernel_size=(1, 1), stride=(1, 1))\n",
      "      )\n",
      "      (conv3): Conv2d(64, 16, kernel_size=(1, 1), stride=(1, 1), bias=False)\n",
      "      (bn3): BatchNorm2d(16, eps=1e-05, momentum=0.1, affine=True, track_running_stats=True)\n",
      "    )\n",
      "    (1): Block(\n",
      "      (conv1): Conv2d(16, 32, kernel_size=(1, 1), stride=(1, 1), bias=False)\n",
      "      (bn1): BatchNorm2d(32, eps=1e-05, momentum=0.1, affine=True, track_running_stats=True)\n",
      "      (conv2): Conv2d(32, 32, kernel_size=(3, 3), stride=(2, 2), padding=(1, 1), groups=32, bias=False)\n",
      "      (bn2): BatchNorm2d(32, eps=1e-05, momentum=0.1, affine=True, track_running_stats=True)\n",
      "      (se): SE(\n",
      "        (se1): Conv2d(32, 4, kernel_size=(1, 1), stride=(1, 1))\n",
      "        (se2): Conv2d(4, 32, kernel_size=(1, 1), stride=(1, 1))\n",
      "      )\n",
      "      (conv3): Conv2d(32, 24, kernel_size=(1, 1), stride=(1, 1), bias=False)\n",
      "      (bn3): BatchNorm2d(24, eps=1e-05, momentum=0.1, affine=True, track_running_stats=True)\n",
      "    )\n",
      "    (2): Block(\n",
      "      (conv1): Conv2d(24, 48, kernel_size=(1, 1), stride=(1, 1), bias=False)\n",
      "      (bn1): BatchNorm2d(48, eps=1e-05, momentum=0.1, affine=True, track_running_stats=True)\n",
      "      (conv2): Conv2d(48, 48, kernel_size=(3, 3), stride=(1, 1), padding=(1, 1), groups=48, bias=False)\n",
      "      (bn2): BatchNorm2d(48, eps=1e-05, momentum=0.1, affine=True, track_running_stats=True)\n",
      "      (se): SE(\n",
      "        (se1): Conv2d(48, 6, kernel_size=(1, 1), stride=(1, 1))\n",
      "        (se2): Conv2d(6, 48, kernel_size=(1, 1), stride=(1, 1))\n",
      "      )\n",
      "      (conv3): Conv2d(48, 24, kernel_size=(1, 1), stride=(1, 1), bias=False)\n",
      "      (bn3): BatchNorm2d(24, eps=1e-05, momentum=0.1, affine=True, track_running_stats=True)\n",
      "    )\n",
      "    (3): Block(\n",
      "      (conv1): Conv2d(24, 48, kernel_size=(1, 1), stride=(1, 1), bias=False)\n",
      "      (bn1): BatchNorm2d(48, eps=1e-05, momentum=0.1, affine=True, track_running_stats=True)\n",
      "      (conv2): Conv2d(48, 48, kernel_size=(5, 5), stride=(2, 2), padding=(2, 2), groups=48, bias=False)\n",
      "      (bn2): BatchNorm2d(48, eps=1e-05, momentum=0.1, affine=True, track_running_stats=True)\n",
      "      (se): SE(\n",
      "        (se1): Conv2d(48, 6, kernel_size=(1, 1), stride=(1, 1))\n",
      "        (se2): Conv2d(6, 48, kernel_size=(1, 1), stride=(1, 1))\n",
      "      )\n",
      "      (conv3): Conv2d(48, 40, kernel_size=(1, 1), stride=(1, 1), bias=False)\n",
      "      (bn3): BatchNorm2d(40, eps=1e-05, momentum=0.1, affine=True, track_running_stats=True)\n",
      "    )\n",
      "    (4): Block(\n",
      "      (conv1): Conv2d(40, 80, kernel_size=(1, 1), stride=(1, 1), bias=False)\n",
      "      (bn1): BatchNorm2d(80, eps=1e-05, momentum=0.1, affine=True, track_running_stats=True)\n",
      "      (conv2): Conv2d(80, 80, kernel_size=(5, 5), stride=(1, 1), padding=(2, 2), groups=80, bias=False)\n",
      "      (bn2): BatchNorm2d(80, eps=1e-05, momentum=0.1, affine=True, track_running_stats=True)\n",
      "      (se): SE(\n",
      "        (se1): Conv2d(80, 10, kernel_size=(1, 1), stride=(1, 1))\n",
      "        (se2): Conv2d(10, 80, kernel_size=(1, 1), stride=(1, 1))\n",
      "      )\n",
      "      (conv3): Conv2d(80, 40, kernel_size=(1, 1), stride=(1, 1), bias=False)\n",
      "      (bn3): BatchNorm2d(40, eps=1e-05, momentum=0.1, affine=True, track_running_stats=True)\n",
      "    )\n",
      "    (5): Block(\n",
      "      (conv1): Conv2d(40, 160, kernel_size=(1, 1), stride=(1, 1), bias=False)\n",
      "      (bn1): BatchNorm2d(160, eps=1e-05, momentum=0.1, affine=True, track_running_stats=True)\n",
      "      (conv2): Conv2d(160, 160, kernel_size=(3, 3), stride=(2, 2), padding=(1, 1), groups=160, bias=False)\n",
      "      (bn2): BatchNorm2d(160, eps=1e-05, momentum=0.1, affine=True, track_running_stats=True)\n",
      "      (se): SE(\n",
      "        (se1): Conv2d(160, 10, kernel_size=(1, 1), stride=(1, 1))\n",
      "        (se2): Conv2d(10, 160, kernel_size=(1, 1), stride=(1, 1))\n",
      "      )\n",
      "      (conv3): Conv2d(160, 80, kernel_size=(1, 1), stride=(1, 1), bias=False)\n",
      "      (bn3): BatchNorm2d(80, eps=1e-05, momentum=0.1, affine=True, track_running_stats=True)\n",
      "    )\n",
      "    (6): Block(\n",
      "      (conv1): Conv2d(80, 320, kernel_size=(1, 1), stride=(1, 1), bias=False)\n",
      "      (bn1): BatchNorm2d(320, eps=1e-05, momentum=0.1, affine=True, track_running_stats=True)\n",
      "      (conv2): Conv2d(320, 320, kernel_size=(3, 3), stride=(1, 1), padding=(1, 1), groups=320, bias=False)\n",
      "      (bn2): BatchNorm2d(320, eps=1e-05, momentum=0.1, affine=True, track_running_stats=True)\n",
      "      (se): SE(\n",
      "        (se1): Conv2d(320, 20, kernel_size=(1, 1), stride=(1, 1))\n",
      "        (se2): Conv2d(20, 320, kernel_size=(1, 1), stride=(1, 1))\n",
      "      )\n",
      "      (conv3): Conv2d(320, 80, kernel_size=(1, 1), stride=(1, 1), bias=False)\n",
      "      (bn3): BatchNorm2d(80, eps=1e-05, momentum=0.1, affine=True, track_running_stats=True)\n",
      "    )\n",
      "    (7): Block(\n",
      "      (conv1): Conv2d(80, 320, kernel_size=(1, 1), stride=(1, 1), bias=False)\n",
      "      (bn1): BatchNorm2d(320, eps=1e-05, momentum=0.1, affine=True, track_running_stats=True)\n",
      "      (conv2): Conv2d(320, 320, kernel_size=(3, 3), stride=(1, 1), padding=(1, 1), groups=320, bias=False)\n",
      "      (bn2): BatchNorm2d(320, eps=1e-05, momentum=0.1, affine=True, track_running_stats=True)\n",
      "      (se): SE(\n",
      "        (se1): Conv2d(320, 20, kernel_size=(1, 1), stride=(1, 1))\n",
      "        (se2): Conv2d(20, 320, kernel_size=(1, 1), stride=(1, 1))\n",
      "      )\n",
      "      (conv3): Conv2d(320, 80, kernel_size=(1, 1), stride=(1, 1), bias=False)\n",
      "      (bn3): BatchNorm2d(80, eps=1e-05, momentum=0.1, affine=True, track_running_stats=True)\n",
      "    )\n",
      "    (8): Block(\n",
      "      (conv1): Conv2d(80, 320, kernel_size=(1, 1), stride=(1, 1), bias=False)\n",
      "      (bn1): BatchNorm2d(320, eps=1e-05, momentum=0.1, affine=True, track_running_stats=True)\n",
      "      (conv2): Conv2d(320, 320, kernel_size=(5, 5), stride=(1, 1), padding=(2, 2), groups=320, bias=False)\n",
      "      (bn2): BatchNorm2d(320, eps=1e-05, momentum=0.1, affine=True, track_running_stats=True)\n",
      "      (se): SE(\n",
      "        (se1): Conv2d(320, 20, kernel_size=(1, 1), stride=(1, 1))\n",
      "        (se2): Conv2d(20, 320, kernel_size=(1, 1), stride=(1, 1))\n",
      "      )\n",
      "      (conv3): Conv2d(320, 112, kernel_size=(1, 1), stride=(1, 1), bias=False)\n",
      "      (bn3): BatchNorm2d(112, eps=1e-05, momentum=0.1, affine=True, track_running_stats=True)\n",
      "    )\n",
      "    (9): Block(\n",
      "      (conv1): Conv2d(112, 448, kernel_size=(1, 1), stride=(1, 1), bias=False)\n",
      "      (bn1): BatchNorm2d(448, eps=1e-05, momentum=0.1, affine=True, track_running_stats=True)\n",
      "      (conv2): Conv2d(448, 448, kernel_size=(5, 5), stride=(1, 1), padding=(2, 2), groups=448, bias=False)\n",
      "      (bn2): BatchNorm2d(448, eps=1e-05, momentum=0.1, affine=True, track_running_stats=True)\n",
      "      (se): SE(\n",
      "        (se1): Conv2d(448, 28, kernel_size=(1, 1), stride=(1, 1))\n",
      "        (se2): Conv2d(28, 448, kernel_size=(1, 1), stride=(1, 1))\n",
      "      )\n",
      "      (conv3): Conv2d(448, 112, kernel_size=(1, 1), stride=(1, 1), bias=False)\n",
      "      (bn3): BatchNorm2d(112, eps=1e-05, momentum=0.1, affine=True, track_running_stats=True)\n",
      "    )\n",
      "    (10): Block(\n",
      "      (conv1): Conv2d(112, 448, kernel_size=(1, 1), stride=(1, 1), bias=False)\n",
      "      (bn1): BatchNorm2d(448, eps=1e-05, momentum=0.1, affine=True, track_running_stats=True)\n",
      "      (conv2): Conv2d(448, 448, kernel_size=(5, 5), stride=(1, 1), padding=(2, 2), groups=448, bias=False)\n",
      "      (bn2): BatchNorm2d(448, eps=1e-05, momentum=0.1, affine=True, track_running_stats=True)\n",
      "      (se): SE(\n",
      "        (se1): Conv2d(448, 28, kernel_size=(1, 1), stride=(1, 1))\n",
      "        (se2): Conv2d(28, 448, kernel_size=(1, 1), stride=(1, 1))\n",
      "      )\n",
      "      (conv3): Conv2d(448, 112, kernel_size=(1, 1), stride=(1, 1), bias=False)\n",
      "      (bn3): BatchNorm2d(112, eps=1e-05, momentum=0.1, affine=True, track_running_stats=True)\n",
      "    )\n",
      "    (11): Block(\n",
      "      (conv1): Conv2d(112, 672, kernel_size=(1, 1), stride=(1, 1), bias=False)\n",
      "      (bn1): BatchNorm2d(672, eps=1e-05, momentum=0.1, affine=True, track_running_stats=True)\n",
      "      (conv2): Conv2d(672, 672, kernel_size=(5, 5), stride=(2, 2), padding=(2, 2), groups=672, bias=False)\n",
      "      (bn2): BatchNorm2d(672, eps=1e-05, momentum=0.1, affine=True, track_running_stats=True)\n",
      "      (se): SE(\n",
      "        (se1): Conv2d(672, 28, kernel_size=(1, 1), stride=(1, 1))\n",
      "        (se2): Conv2d(28, 672, kernel_size=(1, 1), stride=(1, 1))\n",
      "      )\n",
      "      (conv3): Conv2d(672, 192, kernel_size=(1, 1), stride=(1, 1), bias=False)\n",
      "      (bn3): BatchNorm2d(192, eps=1e-05, momentum=0.1, affine=True, track_running_stats=True)\n",
      "    )\n",
      "    (12): Block(\n",
      "      (conv1): Conv2d(192, 1152, kernel_size=(1, 1), stride=(1, 1), bias=False)\n",
      "      (bn1): BatchNorm2d(1152, eps=1e-05, momentum=0.1, affine=True, track_running_stats=True)\n",
      "      (conv2): Conv2d(1152, 1152, kernel_size=(5, 5), stride=(1, 1), padding=(2, 2), groups=1152, bias=False)\n",
      "      (bn2): BatchNorm2d(1152, eps=1e-05, momentum=0.1, affine=True, track_running_stats=True)\n",
      "      (se): SE(\n",
      "        (se1): Conv2d(1152, 48, kernel_size=(1, 1), stride=(1, 1))\n",
      "        (se2): Conv2d(48, 1152, kernel_size=(1, 1), stride=(1, 1))\n",
      "      )\n",
      "      (conv3): Conv2d(1152, 192, kernel_size=(1, 1), stride=(1, 1), bias=False)\n",
      "      (bn3): BatchNorm2d(192, eps=1e-05, momentum=0.1, affine=True, track_running_stats=True)\n",
      "    )\n",
      "    (13): Block(\n",
      "      (conv1): Conv2d(192, 1152, kernel_size=(1, 1), stride=(1, 1), bias=False)\n",
      "      (bn1): BatchNorm2d(1152, eps=1e-05, momentum=0.1, affine=True, track_running_stats=True)\n",
      "      (conv2): Conv2d(1152, 1152, kernel_size=(5, 5), stride=(1, 1), padding=(2, 2), groups=1152, bias=False)\n",
      "      (bn2): BatchNorm2d(1152, eps=1e-05, momentum=0.1, affine=True, track_running_stats=True)\n",
      "      (se): SE(\n",
      "        (se1): Conv2d(1152, 48, kernel_size=(1, 1), stride=(1, 1))\n",
      "        (se2): Conv2d(48, 1152, kernel_size=(1, 1), stride=(1, 1))\n",
      "      )\n",
      "      (conv3): Conv2d(1152, 192, kernel_size=(1, 1), stride=(1, 1), bias=False)\n",
      "      (bn3): BatchNorm2d(192, eps=1e-05, momentum=0.1, affine=True, track_running_stats=True)\n",
      "    )\n",
      "    (14): Block(\n",
      "      (conv1): Conv2d(192, 1152, kernel_size=(1, 1), stride=(1, 1), bias=False)\n",
      "      (bn1): BatchNorm2d(1152, eps=1e-05, momentum=0.1, affine=True, track_running_stats=True)\n",
      "      (conv2): Conv2d(1152, 1152, kernel_size=(5, 5), stride=(1, 1), padding=(2, 2), groups=1152, bias=False)\n",
      "      (bn2): BatchNorm2d(1152, eps=1e-05, momentum=0.1, affine=True, track_running_stats=True)\n",
      "      (se): SE(\n",
      "        (se1): Conv2d(1152, 48, kernel_size=(1, 1), stride=(1, 1))\n",
      "        (se2): Conv2d(48, 1152, kernel_size=(1, 1), stride=(1, 1))\n",
      "      )\n",
      "      (conv3): Conv2d(1152, 192, kernel_size=(1, 1), stride=(1, 1), bias=False)\n",
      "      (bn3): BatchNorm2d(192, eps=1e-05, momentum=0.1, affine=True, track_running_stats=True)\n",
      "    )\n",
      "    (15): Block(\n",
      "      (conv1): Conv2d(192, 1152, kernel_size=(1, 1), stride=(1, 1), bias=False)\n",
      "      (bn1): BatchNorm2d(1152, eps=1e-05, momentum=0.1, affine=True, track_running_stats=True)\n",
      "      (conv2): Conv2d(1152, 1152, kernel_size=(3, 3), stride=(1, 1), padding=(1, 1), groups=1152, bias=False)\n",
      "      (bn2): BatchNorm2d(1152, eps=1e-05, momentum=0.1, affine=True, track_running_stats=True)\n",
      "      (se): SE(\n",
      "        (se1): Conv2d(1152, 48, kernel_size=(1, 1), stride=(1, 1))\n",
      "        (se2): Conv2d(48, 1152, kernel_size=(1, 1), stride=(1, 1))\n",
      "      )\n",
      "      (conv3): Conv2d(1152, 320, kernel_size=(1, 1), stride=(1, 1), bias=False)\n",
      "      (bn3): BatchNorm2d(320, eps=1e-05, momentum=0.1, affine=True, track_running_stats=True)\n",
      "    )\n",
      "  )\n",
      "  (linear): Linear(in_features=320, out_features=133, bias=True)\n",
      ")\n"
     ]
    }
   ],
   "source": [
    "model_scratch = EfficientNet(cfg)\n",
    "print(model_scratch)\n",
    "\n",
    "# move tensors to GPU if CUDA is available\n",
    "use_cuda = torch.cuda.is_available()\n",
    "if use_cuda:\n",
    "    model_scratch.cuda()\n",
    "else:\n",
    "    print(\"cuda is not available.\")"
   ]
  },
  {
   "cell_type": "code",
   "execution_count": 4,
   "id": "8c5720d3",
   "metadata": {},
   "outputs": [],
   "source": [
    "import torch.optim as optim\n",
    "from torch.optim import lr_scheduler\n",
    "### TODO: select loss function\n",
    "criterion_scratch = nn.CrossEntropyLoss()\n",
    "\n",
    "### TODO: select optimizer\n",
    "optimizer_scratch = optim.SGD(model_scratch.parameters(), lr=learning_rate, momentum=0.9)\n",
    "exp_lr_scheduler = lr_scheduler.StepLR(optimizer_scratch, step_size = 7, gamma=0.1)"
   ]
  },
  {
   "cell_type": "code",
   "execution_count": 5,
   "id": "c35f1976",
   "metadata": {},
   "outputs": [],
   "source": [
    "import matplotlib.pyplot as plt\n",
    "from PIL import ImageFile\n",
    "import numpy as np\n",
    "import time\n",
    "import copy\n",
    "\n",
    "%matplotlib inline\n",
    "ImageFile.LOAD_TRUNCATED_IMAGES = True\n",
    "\n",
    "from tqdm import tqdm\n",
    "import torch\n",
    "\n",
    "batch_size = 10\n",
    "train_data = image_datasets[TRAIN]\n",
    "test_data = image_datasets[TEST]\n",
    "# dataloaders\n",
    "train_data_loader = dataloaders[TRAIN]\n",
    "valid_data_loader = dataloaders[VAL]\n",
    "\n",
    "# training function\n",
    "def fit(model, dataloader, optimizer, criterion, train_data, device, use_amp):\n",
    "    print('Training')\n",
    "    if use_amp == 'yes':\n",
    "        scaler = torch.cuda.amp.GradScaler() \n",
    "    model.train()\n",
    "    train_running_loss = 0.0\n",
    "    train_running_correct = 0\n",
    "    for i, (image,target) in tqdm(enumerate(dataloader), total=int(len(train_data)/batch_size)):\n",
    "        image, target = image.to(device), target.to(device)\n",
    "        optimizer.zero_grad()\n",
    "        \n",
    "        if use_amp == 'yes':\n",
    "            with torch.cuda.amp.autocast():\n",
    "                outputs = model(image)\n",
    "                loss = criterion(outputs, target)\n",
    "        \n",
    "        elif use_amp == 'no':\n",
    "            outputs = model(image)\n",
    "            loss = criterion(outputs, target)\n",
    "            \n",
    "        train_running_loss += (1/(i+1))*(loss.item() - train_running_loss)\n",
    "        _, preds = torch.max(outputs, 1)\n",
    "        train_running_correct += (preds == target).sum().item()\n",
    "        \n",
    "        if use_amp == 'yes':\n",
    "            scaler.scale(loss).backward()\n",
    "            scaler.step(optimizer)\n",
    "            scaler.update()\n",
    "        \n",
    "        elif use_amp == 'no':\n",
    "            loss.backward()\n",
    "            optimizer.step()\n",
    "        \n",
    "    train_loss = train_running_loss\n",
    "    train_accuracy = 100. * train_running_correct/dataset_sizes[TRAIN]    \n",
    "    return train_loss, train_accuracy\n",
    "\n",
    "# validation function\n",
    "def validate(model, dataloader, optimizer, criterion, val_data, device, use_amp):\n",
    "    print('Validating')\n",
    "    if use_amp == True:\n",
    "        scaler = torch.cuda.amp.GradScaler() \n",
    "        \n",
    "    model.eval()\n",
    "    val_running_loss = 0.0\n",
    "    val_running_correct = 0\n",
    "    with torch.no_grad():\n",
    "        for i, (image,target) in tqdm(enumerate(dataloader), total=int(len(val_data)/batch_size)):\n",
    "            image, target = image.to(device), target.to(device)\n",
    "            \n",
    "            if use_amp == 'yes':\n",
    "                with torch.cuda.amp.autocast():\n",
    "                    outputs = model(image)\n",
    "                    loss = criterion(outputs, target)\n",
    "        \n",
    "            elif use_amp == 'no':\n",
    "                outputs = model(image)\n",
    "                loss = criterion(outputs, target)\n",
    "            \n",
    "            val_running_loss += (1/(i+1))*(loss.item() - val_running_loss)\n",
    "            _, preds = torch.max(outputs, 1)\n",
    "            val_running_correct += (preds == target).sum().item()\n",
    "        \n",
    "        val_loss = val_running_loss\n",
    "        val_accuracy = 100. * val_running_correct/dataset_sizes[VAL]        \n",
    "        return val_loss, val_accuracy\n",
    "    \n",
    "def train(epochs, model, criterion, optimizer, scheduler):\n",
    "    since = time.time()\n",
    "     \n",
    "    train_loss = []\n",
    "    train_acc = []\n",
    "    val_loss = []\n",
    "    val_acc = []\n",
    "\n",
    "    use_amp = input(\"Do you want to use amp? (yes/no)\")\n",
    "    if use_amp == 'yes':\n",
    "        print('Tranining and validating with Automatic Mixed Precision')\n",
    "    else:\n",
    "        print('Tranining and validating without Automatic Mixed Precision')\n",
    "    \n",
    "    start = time.time()\n",
    "    for epoch in range(epochs):\n",
    "        print(f\"Epoch {epoch+1} of {epochs}\")\n",
    "        train_epoch_loss, train_epoch_accuracy = fit(model, train_data_loader, \n",
    "                                                     optimizer, criterion, \n",
    "                                                     train_data, device, use_amp)\n",
    "        val_epoch_loss, val_epoch_accuracy = validate(model, valid_data_loader, \n",
    "                                                     optimizer, criterion, \n",
    "                                                     test_data, device, use_amp)\n",
    "        train_loss.append(train_epoch_loss)\n",
    "        train_acc.append(train_epoch_accuracy)\n",
    "        val_loss.append(val_epoch_loss)\n",
    "        val_acc.append(val_epoch_accuracy)\n",
    "        print(f\"Train Loss: {train_epoch_loss:.4f}, Train Acc: {train_epoch_accuracy:.2f}\")\n",
    "        print(f'Val Loss: {val_epoch_loss:.4f}, Val Acc: {val_epoch_accuracy:.2f}')\n",
    "    end = time.time()\n",
    "    print(f\"Took {((end-start)/60):.3f} minutes to train for {epochs} epochs\")\n",
    "\n",
    "    # save model checkpoint\n",
    "    torch.save({\n",
    "                'epoch': epochs,\n",
    "                'model_state_dict': model.state_dict(),\n",
    "                'optimizer_state_dict': optimizer.state_dict(),\n",
    "                'loss': criterion,\n",
    "                }, f\"./graphs/condense_amp_{use_amp}_model.pt\")\n",
    "    \n",
    "    return train_loss, val_loss, train_acc, val_acc, use_amp\n",
    "    "
   ]
  },
  {
   "cell_type": "code",
   "execution_count": 6,
   "id": "ede69d4e",
   "metadata": {},
   "outputs": [
    {
     "name": "stdout",
     "output_type": "stream",
     "text": [
      "Do you want to use amp? (yes/no)yes\n"
     ]
    },
    {
     "name": "stderr",
     "output_type": "stream",
     "text": [
      "\r",
      "  0%|          | 0/668 [00:00<?, ?it/s]"
     ]
    },
    {
     "name": "stdout",
     "output_type": "stream",
     "text": [
      "Tranining and validating with Automatic Mixed Precision\n",
      "Epoch 1 of 100\n",
      "Training\n"
     ]
    },
    {
     "name": "stderr",
     "output_type": "stream",
     "text": [
      "100%|██████████| 668/668 [02:13<00:00,  4.99it/s]\n",
      "  1%|          | 1/83 [00:00<00:08,  9.27it/s]"
     ]
    },
    {
     "name": "stdout",
     "output_type": "stream",
     "text": [
      "Validating\n"
     ]
    },
    {
     "name": "stderr",
     "output_type": "stream",
     "text": [
      "84it [00:11,  7.27it/s]                        \n",
      "  0%|          | 0/668 [00:00<?, ?it/s]"
     ]
    },
    {
     "name": "stdout",
     "output_type": "stream",
     "text": [
      "Train Loss: 4.8395, Train Acc: 1.57\n",
      "Val Loss: 4.7233, Val Acc: 2.75\n",
      "Epoch 2 of 100\n",
      "Training\n"
     ]
    },
    {
     "name": "stderr",
     "output_type": "stream",
     "text": [
      "100%|██████████| 668/668 [02:13<00:00,  4.99it/s]\n",
      "  1%|          | 1/83 [00:00<00:08,  9.78it/s]"
     ]
    },
    {
     "name": "stdout",
     "output_type": "stream",
     "text": [
      "Validating\n"
     ]
    },
    {
     "name": "stderr",
     "output_type": "stream",
     "text": [
      "84it [00:11,  7.33it/s]                        \n",
      "  0%|          | 0/668 [00:00<?, ?it/s]"
     ]
    },
    {
     "name": "stdout",
     "output_type": "stream",
     "text": [
      "Train Loss: 4.6527, Train Acc: 2.84\n",
      "Val Loss: 4.4657, Val Acc: 3.35\n",
      "Epoch 3 of 100\n",
      "Training\n"
     ]
    },
    {
     "name": "stderr",
     "output_type": "stream",
     "text": [
      "100%|██████████| 668/668 [02:13<00:00,  4.99it/s]\n",
      "  2%|▏         | 2/83 [00:00<00:07, 10.54it/s]"
     ]
    },
    {
     "name": "stdout",
     "output_type": "stream",
     "text": [
      "Validating\n"
     ]
    },
    {
     "name": "stderr",
     "output_type": "stream",
     "text": [
      "84it [00:11,  7.29it/s]                        \n",
      "  0%|          | 1/668 [00:00<02:01,  5.51it/s]"
     ]
    },
    {
     "name": "stdout",
     "output_type": "stream",
     "text": [
      "Train Loss: 4.5186, Train Acc: 3.77\n",
      "Val Loss: 4.3240, Val Acc: 5.63\n",
      "Epoch 4 of 100\n",
      "Training\n"
     ]
    },
    {
     "name": "stderr",
     "output_type": "stream",
     "text": [
      "100%|██████████| 668/668 [02:13<00:00,  4.99it/s]\n",
      "  1%|          | 1/83 [00:00<00:12,  6.58it/s]"
     ]
    },
    {
     "name": "stdout",
     "output_type": "stream",
     "text": [
      "Validating\n"
     ]
    },
    {
     "name": "stderr",
     "output_type": "stream",
     "text": [
      "84it [00:11,  7.31it/s]                        \n",
      "  0%|          | 0/668 [00:00<?, ?it/s]"
     ]
    },
    {
     "name": "stdout",
     "output_type": "stream",
     "text": [
      "Train Loss: 4.4118, Train Acc: 4.61\n",
      "Val Loss: 4.1836, Val Acc: 7.19\n",
      "Epoch 5 of 100\n",
      "Training\n"
     ]
    },
    {
     "name": "stderr",
     "output_type": "stream",
     "text": [
      "100%|██████████| 668/668 [02:13<00:00,  4.99it/s]\n",
      "  1%|          | 1/83 [00:00<00:11,  7.21it/s]"
     ]
    },
    {
     "name": "stdout",
     "output_type": "stream",
     "text": [
      "Validating\n"
     ]
    },
    {
     "name": "stderr",
     "output_type": "stream",
     "text": [
      "84it [00:11,  7.28it/s]                        \n",
      "  0%|          | 0/668 [00:00<?, ?it/s]"
     ]
    },
    {
     "name": "stdout",
     "output_type": "stream",
     "text": [
      "Train Loss: 4.3437, Train Acc: 5.21\n",
      "Val Loss: 4.1643, Val Acc: 6.95\n",
      "Epoch 6 of 100\n",
      "Training\n"
     ]
    },
    {
     "name": "stderr",
     "output_type": "stream",
     "text": [
      "100%|██████████| 668/668 [02:13<00:00,  4.99it/s]\n",
      "  0%|          | 0/83 [00:00<?, ?it/s]"
     ]
    },
    {
     "name": "stdout",
     "output_type": "stream",
     "text": [
      "Validating\n"
     ]
    },
    {
     "name": "stderr",
     "output_type": "stream",
     "text": [
      "84it [00:11,  7.26it/s]                        \n",
      "  0%|          | 0/668 [00:00<?, ?it/s]"
     ]
    },
    {
     "name": "stdout",
     "output_type": "stream",
     "text": [
      "Train Loss: 4.2821, Train Acc: 5.99\n",
      "Val Loss: 4.0219, Val Acc: 6.83\n",
      "Epoch 7 of 100\n",
      "Training\n"
     ]
    },
    {
     "name": "stderr",
     "output_type": "stream",
     "text": [
      "100%|██████████| 668/668 [02:13<00:00,  5.00it/s]\n",
      "  1%|          | 1/83 [00:00<00:09,  8.45it/s]"
     ]
    },
    {
     "name": "stdout",
     "output_type": "stream",
     "text": [
      "Validating\n"
     ]
    },
    {
     "name": "stderr",
     "output_type": "stream",
     "text": [
      "84it [00:11,  7.26it/s]                        \n",
      "  0%|          | 1/668 [00:00<02:12,  5.04it/s]"
     ]
    },
    {
     "name": "stdout",
     "output_type": "stream",
     "text": [
      "Train Loss: 4.2126, Train Acc: 7.08\n",
      "Val Loss: 3.9683, Val Acc: 8.98\n",
      "Epoch 8 of 100\n",
      "Training\n"
     ]
    },
    {
     "name": "stderr",
     "output_type": "stream",
     "text": [
      "100%|██████████| 668/668 [02:13<00:00,  5.00it/s]\n",
      "  0%|          | 0/83 [00:00<?, ?it/s]"
     ]
    },
    {
     "name": "stdout",
     "output_type": "stream",
     "text": [
      "Validating\n"
     ]
    },
    {
     "name": "stderr",
     "output_type": "stream",
     "text": [
      "84it [00:11,  7.30it/s]                        \n",
      "  0%|          | 0/668 [00:00<?, ?it/s]"
     ]
    },
    {
     "name": "stdout",
     "output_type": "stream",
     "text": [
      "Train Loss: 4.1332, Train Acc: 8.07\n",
      "Val Loss: 3.9016, Val Acc: 8.98\n",
      "Epoch 9 of 100\n",
      "Training\n"
     ]
    },
    {
     "name": "stderr",
     "output_type": "stream",
     "text": [
      "100%|██████████| 668/668 [02:13<00:00,  4.99it/s]\n",
      "  1%|          | 1/83 [00:00<00:10,  7.72it/s]"
     ]
    },
    {
     "name": "stdout",
     "output_type": "stream",
     "text": [
      "Validating\n"
     ]
    },
    {
     "name": "stderr",
     "output_type": "stream",
     "text": [
      "84it [00:11,  7.28it/s]                        \n",
      "  0%|          | 0/668 [00:00<?, ?it/s]"
     ]
    },
    {
     "name": "stdout",
     "output_type": "stream",
     "text": [
      "Train Loss: 4.0545, Train Acc: 8.92\n",
      "Val Loss: 3.7651, Val Acc: 12.69\n",
      "Epoch 10 of 100\n",
      "Training\n"
     ]
    },
    {
     "name": "stderr",
     "output_type": "stream",
     "text": [
      "100%|██████████| 668/668 [02:13<00:00,  4.99it/s]\n",
      "  2%|▏         | 2/83 [00:00<00:07, 11.28it/s]"
     ]
    },
    {
     "name": "stdout",
     "output_type": "stream",
     "text": [
      "Validating\n"
     ]
    },
    {
     "name": "stderr",
     "output_type": "stream",
     "text": [
      "84it [00:11,  7.26it/s]                        \n",
      "  0%|          | 0/668 [00:00<?, ?it/s]"
     ]
    },
    {
     "name": "stdout",
     "output_type": "stream",
     "text": [
      "Train Loss: 3.9815, Train Acc: 10.13\n",
      "Val Loss: 3.6875, Val Acc: 12.46\n",
      "Epoch 11 of 100\n",
      "Training\n"
     ]
    },
    {
     "name": "stderr",
     "output_type": "stream",
     "text": [
      "100%|██████████| 668/668 [02:13<00:00,  4.99it/s]\n",
      "  1%|          | 1/83 [00:00<00:09,  8.66it/s]"
     ]
    },
    {
     "name": "stdout",
     "output_type": "stream",
     "text": [
      "Validating\n"
     ]
    },
    {
     "name": "stderr",
     "output_type": "stream",
     "text": [
      "84it [00:11,  7.26it/s]                        \n",
      "  0%|          | 0/668 [00:00<?, ?it/s]"
     ]
    },
    {
     "name": "stdout",
     "output_type": "stream",
     "text": [
      "Train Loss: 3.8974, Train Acc: 11.03\n",
      "Val Loss: 3.5369, Val Acc: 13.89\n",
      "Epoch 12 of 100\n",
      "Training\n"
     ]
    },
    {
     "name": "stderr",
     "output_type": "stream",
     "text": [
      "100%|██████████| 668/668 [02:13<00:00,  4.99it/s]\n",
      "  1%|          | 1/83 [00:00<00:10,  7.82it/s]"
     ]
    },
    {
     "name": "stdout",
     "output_type": "stream",
     "text": [
      "Validating\n"
     ]
    },
    {
     "name": "stderr",
     "output_type": "stream",
     "text": [
      "84it [00:11,  7.29it/s]                        \n",
      "  0%|          | 1/668 [00:00<02:08,  5.21it/s]"
     ]
    },
    {
     "name": "stdout",
     "output_type": "stream",
     "text": [
      "Train Loss: 3.8401, Train Acc: 11.63\n",
      "Val Loss: 3.5358, Val Acc: 16.89\n",
      "Epoch 13 of 100\n",
      "Training\n"
     ]
    },
    {
     "name": "stderr",
     "output_type": "stream",
     "text": [
      "100%|██████████| 668/668 [02:14<00:00,  4.98it/s]\n",
      "  0%|          | 0/83 [00:00<?, ?it/s]"
     ]
    },
    {
     "name": "stdout",
     "output_type": "stream",
     "text": [
      "Validating\n"
     ]
    },
    {
     "name": "stderr",
     "output_type": "stream",
     "text": [
      "84it [00:11,  7.41it/s]                        \n",
      "  0%|          | 0/668 [00:00<?, ?it/s]"
     ]
    },
    {
     "name": "stdout",
     "output_type": "stream",
     "text": [
      "Train Loss: 3.7221, Train Acc: 13.22\n",
      "Val Loss: 3.4188, Val Acc: 17.01\n",
      "Epoch 14 of 100\n",
      "Training\n"
     ]
    },
    {
     "name": "stderr",
     "output_type": "stream",
     "text": [
      "100%|██████████| 668/668 [02:13<00:00,  4.99it/s]\n",
      "  1%|          | 1/83 [00:00<00:11,  6.93it/s]"
     ]
    },
    {
     "name": "stdout",
     "output_type": "stream",
     "text": [
      "Validating\n"
     ]
    },
    {
     "name": "stderr",
     "output_type": "stream",
     "text": [
      "84it [00:11,  7.30it/s]                        \n",
      "  0%|          | 0/668 [00:00<?, ?it/s]"
     ]
    },
    {
     "name": "stdout",
     "output_type": "stream",
     "text": [
      "Train Loss: 3.6778, Train Acc: 14.09\n",
      "Val Loss: 3.2965, Val Acc: 18.56\n",
      "Epoch 15 of 100\n",
      "Training\n"
     ]
    },
    {
     "name": "stderr",
     "output_type": "stream",
     "text": [
      "100%|██████████| 668/668 [02:14<00:00,  4.98it/s]\n",
      "  0%|          | 0/83 [00:00<?, ?it/s]"
     ]
    },
    {
     "name": "stdout",
     "output_type": "stream",
     "text": [
      "Validating\n"
     ]
    },
    {
     "name": "stderr",
     "output_type": "stream",
     "text": [
      "84it [00:11,  7.30it/s]                        \n",
      "  0%|          | 0/668 [00:00<?, ?it/s]"
     ]
    },
    {
     "name": "stdout",
     "output_type": "stream",
     "text": [
      "Train Loss: 3.6078, Train Acc: 15.58\n",
      "Val Loss: 3.2753, Val Acc: 18.68\n",
      "Epoch 16 of 100\n",
      "Training\n"
     ]
    },
    {
     "name": "stderr",
     "output_type": "stream",
     "text": [
      "100%|██████████| 668/668 [02:13<00:00,  4.99it/s]\n",
      "  1%|          | 1/83 [00:00<00:15,  5.42it/s]"
     ]
    },
    {
     "name": "stdout",
     "output_type": "stream",
     "text": [
      "Validating\n"
     ]
    },
    {
     "name": "stderr",
     "output_type": "stream",
     "text": [
      "84it [00:11,  7.27it/s]                        \n",
      "  0%|          | 0/668 [00:00<?, ?it/s]"
     ]
    },
    {
     "name": "stdout",
     "output_type": "stream",
     "text": [
      "Train Loss: 3.5456, Train Acc: 16.20\n",
      "Val Loss: 3.2993, Val Acc: 20.48\n",
      "Epoch 17 of 100\n",
      "Training\n"
     ]
    },
    {
     "name": "stderr",
     "output_type": "stream",
     "text": [
      "100%|██████████| 668/668 [02:13<00:00,  5.00it/s]\n",
      "  1%|          | 1/83 [00:00<00:09,  8.72it/s]"
     ]
    },
    {
     "name": "stdout",
     "output_type": "stream",
     "text": [
      "Validating\n"
     ]
    },
    {
     "name": "stderr",
     "output_type": "stream",
     "text": [
      "84it [00:11,  7.31it/s]                        \n",
      "  0%|          | 0/668 [00:00<?, ?it/s]"
     ]
    },
    {
     "name": "stdout",
     "output_type": "stream",
     "text": [
      "Train Loss: 3.4694, Train Acc: 17.51\n",
      "Val Loss: 3.1218, Val Acc: 24.19\n",
      "Epoch 18 of 100\n",
      "Training\n"
     ]
    },
    {
     "name": "stderr",
     "output_type": "stream",
     "text": [
      "100%|██████████| 668/668 [02:13<00:00,  4.99it/s]\n",
      "  1%|          | 1/83 [00:00<00:11,  7.20it/s]"
     ]
    },
    {
     "name": "stdout",
     "output_type": "stream",
     "text": [
      "Validating\n"
     ]
    },
    {
     "name": "stderr",
     "output_type": "stream",
     "text": [
      "84it [00:11,  7.28it/s]                        \n",
      "  0%|          | 1/668 [00:00<02:11,  5.09it/s]"
     ]
    },
    {
     "name": "stdout",
     "output_type": "stream",
     "text": [
      "Train Loss: 3.4092, Train Acc: 18.68\n",
      "Val Loss: 2.9777, Val Acc: 26.95\n",
      "Epoch 19 of 100\n",
      "Training\n"
     ]
    },
    {
     "name": "stderr",
     "output_type": "stream",
     "text": [
      "100%|██████████| 668/668 [02:13<00:00,  4.99it/s]\n",
      "  2%|▏         | 2/83 [00:00<00:06, 12.02it/s]"
     ]
    },
    {
     "name": "stdout",
     "output_type": "stream",
     "text": [
      "Validating\n"
     ]
    },
    {
     "name": "stderr",
     "output_type": "stream",
     "text": [
      "84it [00:11,  7.32it/s]                        \n",
      "  0%|          | 0/668 [00:00<?, ?it/s]"
     ]
    },
    {
     "name": "stdout",
     "output_type": "stream",
     "text": [
      "Train Loss: 3.3184, Train Acc: 19.69\n",
      "Val Loss: 2.9308, Val Acc: 28.14\n",
      "Epoch 20 of 100\n",
      "Training\n"
     ]
    },
    {
     "name": "stderr",
     "output_type": "stream",
     "text": [
      "100%|██████████| 668/668 [02:13<00:00,  4.99it/s]\n",
      "  2%|▏         | 2/83 [00:00<00:07, 11.35it/s]"
     ]
    },
    {
     "name": "stdout",
     "output_type": "stream",
     "text": [
      "Validating\n"
     ]
    },
    {
     "name": "stderr",
     "output_type": "stream",
     "text": [
      "84it [00:11,  7.32it/s]                        \n",
      "  0%|          | 0/668 [00:00<?, ?it/s]"
     ]
    },
    {
     "name": "stdout",
     "output_type": "stream",
     "text": [
      "Train Loss: 3.2875, Train Acc: 20.51\n",
      "Val Loss: 2.7629, Val Acc: 30.78\n",
      "Epoch 21 of 100\n",
      "Training\n"
     ]
    },
    {
     "name": "stderr",
     "output_type": "stream",
     "text": [
      "100%|██████████| 668/668 [02:13<00:00,  4.99it/s]\n",
      "  1%|          | 1/83 [00:00<00:12,  6.64it/s]"
     ]
    },
    {
     "name": "stdout",
     "output_type": "stream",
     "text": [
      "Validating\n"
     ]
    },
    {
     "name": "stderr",
     "output_type": "stream",
     "text": [
      "84it [00:11,  7.34it/s]                        \n",
      "  0%|          | 0/668 [00:00<?, ?it/s]"
     ]
    },
    {
     "name": "stdout",
     "output_type": "stream",
     "text": [
      "Train Loss: 3.2095, Train Acc: 22.17\n",
      "Val Loss: 2.6817, Val Acc: 31.26\n",
      "Epoch 22 of 100\n",
      "Training\n"
     ]
    },
    {
     "name": "stderr",
     "output_type": "stream",
     "text": [
      "100%|██████████| 668/668 [02:14<00:00,  4.98it/s]\n",
      "  0%|          | 0/83 [00:00<?, ?it/s]"
     ]
    },
    {
     "name": "stdout",
     "output_type": "stream",
     "text": [
      "Validating\n"
     ]
    },
    {
     "name": "stderr",
     "output_type": "stream",
     "text": [
      "84it [00:11,  7.26it/s]                        \n",
      "  0%|          | 0/668 [00:00<?, ?it/s]"
     ]
    },
    {
     "name": "stdout",
     "output_type": "stream",
     "text": [
      "Train Loss: 3.1623, Train Acc: 23.04\n",
      "Val Loss: 2.6529, Val Acc: 31.02\n",
      "Epoch 23 of 100\n",
      "Training\n"
     ]
    },
    {
     "name": "stderr",
     "output_type": "stream",
     "text": [
      "100%|██████████| 668/668 [02:14<00:00,  4.98it/s]\n",
      "  2%|▏         | 2/83 [00:00<00:07, 10.20it/s]"
     ]
    },
    {
     "name": "stdout",
     "output_type": "stream",
     "text": [
      "Validating\n"
     ]
    },
    {
     "name": "stderr",
     "output_type": "stream",
     "text": [
      "84it [00:11,  7.31it/s]                        \n",
      "  0%|          | 1/668 [00:00<02:05,  5.30it/s]"
     ]
    },
    {
     "name": "stdout",
     "output_type": "stream",
     "text": [
      "Train Loss: 3.0849, Train Acc: 24.76\n",
      "Val Loss: 2.5622, Val Acc: 31.98\n",
      "Epoch 24 of 100\n",
      "Training\n"
     ]
    },
    {
     "name": "stderr",
     "output_type": "stream",
     "text": [
      "100%|██████████| 668/668 [02:13<00:00,  4.99it/s]\n",
      "  1%|          | 1/83 [00:00<00:09,  8.35it/s]"
     ]
    },
    {
     "name": "stdout",
     "output_type": "stream",
     "text": [
      "Validating\n"
     ]
    },
    {
     "name": "stderr",
     "output_type": "stream",
     "text": [
      "84it [00:11,  7.28it/s]                        \n",
      "  0%|          | 0/668 [00:00<?, ?it/s]"
     ]
    },
    {
     "name": "stdout",
     "output_type": "stream",
     "text": [
      "Train Loss: 3.0218, Train Acc: 25.76\n",
      "Val Loss: 2.5309, Val Acc: 32.57\n",
      "Epoch 25 of 100\n",
      "Training\n"
     ]
    },
    {
     "name": "stderr",
     "output_type": "stream",
     "text": [
      "100%|██████████| 668/668 [02:13<00:00,  4.99it/s]\n",
      "  2%|▏         | 2/83 [00:00<00:07, 11.10it/s]"
     ]
    },
    {
     "name": "stdout",
     "output_type": "stream",
     "text": [
      "Validating\n"
     ]
    },
    {
     "name": "stderr",
     "output_type": "stream",
     "text": [
      "84it [00:11,  7.34it/s]                        \n",
      "  0%|          | 1/668 [00:00<02:10,  5.10it/s]"
     ]
    },
    {
     "name": "stdout",
     "output_type": "stream",
     "text": [
      "Train Loss: 2.9492, Train Acc: 26.90\n",
      "Val Loss: 2.4819, Val Acc: 33.65\n",
      "Epoch 26 of 100\n",
      "Training\n"
     ]
    },
    {
     "name": "stderr",
     "output_type": "stream",
     "text": [
      "100%|██████████| 668/668 [02:14<00:00,  4.98it/s]\n",
      "  2%|▏         | 2/83 [00:00<00:07, 10.21it/s]"
     ]
    },
    {
     "name": "stdout",
     "output_type": "stream",
     "text": [
      "Validating\n"
     ]
    },
    {
     "name": "stderr",
     "output_type": "stream",
     "text": [
      "84it [00:11,  7.27it/s]                        \n",
      "  0%|          | 0/668 [00:00<?, ?it/s]"
     ]
    },
    {
     "name": "stdout",
     "output_type": "stream",
     "text": [
      "Train Loss: 2.9054, Train Acc: 27.44\n",
      "Val Loss: 2.3552, Val Acc: 35.69\n",
      "Epoch 27 of 100\n",
      "Training\n"
     ]
    },
    {
     "name": "stderr",
     "output_type": "stream",
     "text": [
      "100%|██████████| 668/668 [02:13<00:00,  4.99it/s]\n",
      "  0%|          | 0/83 [00:00<?, ?it/s]"
     ]
    },
    {
     "name": "stdout",
     "output_type": "stream",
     "text": [
      "Validating\n"
     ]
    },
    {
     "name": "stderr",
     "output_type": "stream",
     "text": [
      "84it [00:11,  7.29it/s]                        \n",
      "  0%|          | 0/668 [00:00<?, ?it/s]"
     ]
    },
    {
     "name": "stdout",
     "output_type": "stream",
     "text": [
      "Train Loss: 2.8838, Train Acc: 28.25\n",
      "Val Loss: 2.4445, Val Acc: 35.33\n",
      "Epoch 28 of 100\n",
      "Training\n"
     ]
    },
    {
     "name": "stderr",
     "output_type": "stream",
     "text": [
      "100%|██████████| 668/668 [02:14<00:00,  4.98it/s]\n",
      "  0%|          | 0/83 [00:00<?, ?it/s]"
     ]
    },
    {
     "name": "stdout",
     "output_type": "stream",
     "text": [
      "Validating\n"
     ]
    },
    {
     "name": "stderr",
     "output_type": "stream",
     "text": [
      "84it [00:11,  7.20it/s]                        \n",
      "  0%|          | 0/668 [00:00<?, ?it/s]"
     ]
    },
    {
     "name": "stdout",
     "output_type": "stream",
     "text": [
      "Train Loss: 2.7950, Train Acc: 29.58\n",
      "Val Loss: 2.2201, Val Acc: 39.88\n",
      "Epoch 29 of 100\n",
      "Training\n"
     ]
    },
    {
     "name": "stderr",
     "output_type": "stream",
     "text": [
      "100%|██████████| 668/668 [02:14<00:00,  4.98it/s]\n",
      "  1%|          | 1/83 [00:00<00:16,  5.12it/s]"
     ]
    },
    {
     "name": "stdout",
     "output_type": "stream",
     "text": [
      "Validating\n"
     ]
    },
    {
     "name": "stderr",
     "output_type": "stream",
     "text": [
      "84it [00:11,  7.30it/s]                        \n",
      "  0%|          | 1/668 [00:00<01:58,  5.64it/s]"
     ]
    },
    {
     "name": "stdout",
     "output_type": "stream",
     "text": [
      "Train Loss: 2.7278, Train Acc: 31.78\n",
      "Val Loss: 2.1399, Val Acc: 42.75\n",
      "Epoch 30 of 100\n",
      "Training\n"
     ]
    },
    {
     "name": "stderr",
     "output_type": "stream",
     "text": [
      "100%|██████████| 668/668 [02:14<00:00,  4.98it/s]\n",
      "  1%|          | 1/83 [00:00<00:08,  9.39it/s]"
     ]
    },
    {
     "name": "stdout",
     "output_type": "stream",
     "text": [
      "Validating\n"
     ]
    },
    {
     "name": "stderr",
     "output_type": "stream",
     "text": [
      "84it [00:11,  7.26it/s]                        \n",
      "  0%|          | 0/668 [00:00<?, ?it/s]"
     ]
    },
    {
     "name": "stdout",
     "output_type": "stream",
     "text": [
      "Train Loss: 2.7039, Train Acc: 32.07\n",
      "Val Loss: 2.0704, Val Acc: 42.04\n",
      "Epoch 31 of 100\n",
      "Training\n"
     ]
    },
    {
     "name": "stderr",
     "output_type": "stream",
     "text": [
      "100%|██████████| 668/668 [02:13<00:00,  4.99it/s]\n",
      "  1%|          | 1/83 [00:00<00:09,  8.79it/s]"
     ]
    },
    {
     "name": "stdout",
     "output_type": "stream",
     "text": [
      "Validating\n"
     ]
    },
    {
     "name": "stderr",
     "output_type": "stream",
     "text": [
      "84it [00:11,  7.23it/s]                        \n",
      "  0%|          | 0/668 [00:00<?, ?it/s]"
     ]
    },
    {
     "name": "stdout",
     "output_type": "stream",
     "text": [
      "Train Loss: 2.6334, Train Acc: 33.65\n",
      "Val Loss: 2.1432, Val Acc: 39.88\n",
      "Epoch 32 of 100\n",
      "Training\n"
     ]
    },
    {
     "name": "stderr",
     "output_type": "stream",
     "text": [
      "100%|██████████| 668/668 [02:14<00:00,  4.98it/s]\n",
      "  2%|▏         | 2/83 [00:00<00:07, 10.15it/s]"
     ]
    },
    {
     "name": "stdout",
     "output_type": "stream",
     "text": [
      "Validating\n"
     ]
    },
    {
     "name": "stderr",
     "output_type": "stream",
     "text": [
      "84it [00:11,  7.31it/s]                        \n",
      "  0%|          | 0/668 [00:00<?, ?it/s]"
     ]
    },
    {
     "name": "stdout",
     "output_type": "stream",
     "text": [
      "Train Loss: 2.6254, Train Acc: 33.68\n",
      "Val Loss: 2.0137, Val Acc: 43.83\n",
      "Epoch 33 of 100\n",
      "Training\n"
     ]
    },
    {
     "name": "stderr",
     "output_type": "stream",
     "text": [
      "100%|██████████| 668/668 [02:14<00:00,  4.98it/s]\n",
      "  1%|          | 1/83 [00:00<00:10,  8.18it/s]"
     ]
    },
    {
     "name": "stdout",
     "output_type": "stream",
     "text": [
      "Validating\n"
     ]
    },
    {
     "name": "stderr",
     "output_type": "stream",
     "text": [
      "84it [00:11,  7.26it/s]                        \n",
      "  0%|          | 0/668 [00:00<?, ?it/s]"
     ]
    },
    {
     "name": "stdout",
     "output_type": "stream",
     "text": [
      "Train Loss: 2.5593, Train Acc: 35.39\n",
      "Val Loss: 1.9840, Val Acc: 43.95\n",
      "Epoch 34 of 100\n",
      "Training\n"
     ]
    },
    {
     "name": "stderr",
     "output_type": "stream",
     "text": [
      "100%|██████████| 668/668 [02:14<00:00,  4.97it/s]\n",
      "  0%|          | 0/83 [00:00<?, ?it/s]"
     ]
    },
    {
     "name": "stdout",
     "output_type": "stream",
     "text": [
      "Validating\n"
     ]
    },
    {
     "name": "stderr",
     "output_type": "stream",
     "text": [
      "84it [00:11,  7.26it/s]                        \n",
      "  0%|          | 1/668 [00:00<02:00,  5.52it/s]"
     ]
    },
    {
     "name": "stdout",
     "output_type": "stream",
     "text": [
      "Train Loss: 2.5044, Train Acc: 36.42\n",
      "Val Loss: 1.9429, Val Acc: 45.75\n",
      "Epoch 35 of 100\n",
      "Training\n"
     ]
    },
    {
     "name": "stderr",
     "output_type": "stream",
     "text": [
      "100%|██████████| 668/668 [02:14<00:00,  4.96it/s]\n",
      "  0%|          | 0/83 [00:00<?, ?it/s]"
     ]
    },
    {
     "name": "stdout",
     "output_type": "stream",
     "text": [
      "Validating\n"
     ]
    },
    {
     "name": "stderr",
     "output_type": "stream",
     "text": [
      "84it [00:11,  7.26it/s]                        \n",
      "  0%|          | 1/668 [00:00<02:07,  5.21it/s]"
     ]
    },
    {
     "name": "stdout",
     "output_type": "stream",
     "text": [
      "Train Loss: 2.4483, Train Acc: 37.40\n",
      "Val Loss: 1.8822, Val Acc: 47.19\n",
      "Epoch 36 of 100\n",
      "Training\n"
     ]
    },
    {
     "name": "stderr",
     "output_type": "stream",
     "text": [
      "100%|██████████| 668/668 [02:14<00:00,  4.97it/s]\n",
      "  0%|          | 0/83 [00:00<?, ?it/s]"
     ]
    },
    {
     "name": "stdout",
     "output_type": "stream",
     "text": [
      "Validating\n"
     ]
    },
    {
     "name": "stderr",
     "output_type": "stream",
     "text": [
      "84it [00:11,  7.24it/s]                        \n",
      "  0%|          | 1/668 [00:00<02:00,  5.55it/s]"
     ]
    },
    {
     "name": "stdout",
     "output_type": "stream",
     "text": [
      "Train Loss: 2.4009, Train Acc: 38.59\n",
      "Val Loss: 1.7738, Val Acc: 47.43\n",
      "Epoch 37 of 100\n",
      "Training\n"
     ]
    },
    {
     "name": "stderr",
     "output_type": "stream",
     "text": [
      "100%|██████████| 668/668 [02:14<00:00,  4.97it/s]\n",
      "  1%|          | 1/83 [00:00<00:08,  9.81it/s]"
     ]
    },
    {
     "name": "stdout",
     "output_type": "stream",
     "text": [
      "Validating\n"
     ]
    },
    {
     "name": "stderr",
     "output_type": "stream",
     "text": [
      "84it [00:11,  7.28it/s]                        \n",
      "  0%|          | 0/668 [00:00<?, ?it/s]"
     ]
    },
    {
     "name": "stdout",
     "output_type": "stream",
     "text": [
      "Train Loss: 2.3493, Train Acc: 40.30\n",
      "Val Loss: 1.9295, Val Acc: 48.02\n",
      "Epoch 38 of 100\n",
      "Training\n"
     ]
    },
    {
     "name": "stderr",
     "output_type": "stream",
     "text": [
      "100%|██████████| 668/668 [02:14<00:00,  4.97it/s]\n",
      "  1%|          | 1/83 [00:00<00:09,  8.57it/s]"
     ]
    },
    {
     "name": "stdout",
     "output_type": "stream",
     "text": [
      "Validating\n"
     ]
    },
    {
     "name": "stderr",
     "output_type": "stream",
     "text": [
      "84it [00:11,  7.28it/s]                        \n",
      "  0%|          | 0/668 [00:00<?, ?it/s]"
     ]
    },
    {
     "name": "stdout",
     "output_type": "stream",
     "text": [
      "Train Loss: 2.3273, Train Acc: 40.48\n",
      "Val Loss: 1.7631, Val Acc: 51.50\n",
      "Epoch 39 of 100\n",
      "Training\n"
     ]
    },
    {
     "name": "stderr",
     "output_type": "stream",
     "text": [
      "100%|██████████| 668/668 [02:14<00:00,  4.98it/s]\n",
      "  1%|          | 1/83 [00:00<00:08,  9.69it/s]"
     ]
    },
    {
     "name": "stdout",
     "output_type": "stream",
     "text": [
      "Validating\n"
     ]
    },
    {
     "name": "stderr",
     "output_type": "stream",
     "text": [
      "84it [00:11,  7.27it/s]                        \n",
      "  0%|          | 1/668 [00:00<02:01,  5.51it/s]"
     ]
    },
    {
     "name": "stdout",
     "output_type": "stream",
     "text": [
      "Train Loss: 2.3009, Train Acc: 40.39\n",
      "Val Loss: 1.7810, Val Acc: 49.82\n",
      "Epoch 40 of 100\n",
      "Training\n"
     ]
    },
    {
     "name": "stderr",
     "output_type": "stream",
     "text": [
      "100%|██████████| 668/668 [02:14<00:00,  4.98it/s]\n",
      "  1%|          | 1/83 [00:00<00:10,  7.73it/s]"
     ]
    },
    {
     "name": "stdout",
     "output_type": "stream",
     "text": [
      "Validating\n"
     ]
    },
    {
     "name": "stderr",
     "output_type": "stream",
     "text": [
      "84it [00:11,  7.32it/s]                        \n",
      "  0%|          | 0/668 [00:00<?, ?it/s]"
     ]
    },
    {
     "name": "stdout",
     "output_type": "stream",
     "text": [
      "Train Loss: 2.2457, Train Acc: 42.53\n",
      "Val Loss: 1.7306, Val Acc: 50.54\n",
      "Epoch 41 of 100\n",
      "Training\n"
     ]
    },
    {
     "name": "stderr",
     "output_type": "stream",
     "text": [
      "100%|██████████| 668/668 [02:14<00:00,  4.97it/s]\n",
      "  1%|          | 1/83 [00:00<00:11,  7.42it/s]"
     ]
    },
    {
     "name": "stdout",
     "output_type": "stream",
     "text": [
      "Validating\n"
     ]
    },
    {
     "name": "stderr",
     "output_type": "stream",
     "text": [
      "84it [00:11,  7.27it/s]                        \n",
      "  0%|          | 1/668 [00:00<02:11,  5.09it/s]"
     ]
    },
    {
     "name": "stdout",
     "output_type": "stream",
     "text": [
      "Train Loss: 2.2011, Train Acc: 43.74\n",
      "Val Loss: 1.6832, Val Acc: 52.93\n",
      "Epoch 42 of 100\n",
      "Training\n"
     ]
    },
    {
     "name": "stderr",
     "output_type": "stream",
     "text": [
      "100%|██████████| 668/668 [02:14<00:00,  4.97it/s]\n",
      "  1%|          | 1/83 [00:00<00:11,  7.37it/s]"
     ]
    },
    {
     "name": "stdout",
     "output_type": "stream",
     "text": [
      "Validating\n"
     ]
    },
    {
     "name": "stderr",
     "output_type": "stream",
     "text": [
      "84it [00:11,  7.23it/s]                        \n",
      "  0%|          | 0/668 [00:00<?, ?it/s]"
     ]
    },
    {
     "name": "stdout",
     "output_type": "stream",
     "text": [
      "Train Loss: 2.1587, Train Acc: 44.24\n",
      "Val Loss: 1.7035, Val Acc: 55.09\n",
      "Epoch 43 of 100\n",
      "Training\n"
     ]
    },
    {
     "name": "stderr",
     "output_type": "stream",
     "text": [
      "100%|██████████| 668/668 [02:14<00:00,  4.98it/s]\n",
      "  1%|          | 1/83 [00:00<00:10,  7.73it/s]"
     ]
    },
    {
     "name": "stdout",
     "output_type": "stream",
     "text": [
      "Validating\n"
     ]
    },
    {
     "name": "stderr",
     "output_type": "stream",
     "text": [
      "84it [00:11,  7.27it/s]                        \n",
      "  0%|          | 0/668 [00:00<?, ?it/s]"
     ]
    },
    {
     "name": "stdout",
     "output_type": "stream",
     "text": [
      "Train Loss: 2.1509, Train Acc: 44.69\n",
      "Val Loss: 1.7247, Val Acc: 52.57\n",
      "Epoch 44 of 100\n",
      "Training\n"
     ]
    },
    {
     "name": "stderr",
     "output_type": "stream",
     "text": [
      "100%|██████████| 668/668 [02:14<00:00,  4.95it/s]\n",
      "  1%|          | 1/83 [00:00<00:12,  6.73it/s]"
     ]
    },
    {
     "name": "stdout",
     "output_type": "stream",
     "text": [
      "Validating\n"
     ]
    },
    {
     "name": "stderr",
     "output_type": "stream",
     "text": [
      "84it [00:11,  7.26it/s]                        \n",
      "  0%|          | 1/668 [00:00<02:11,  5.08it/s]"
     ]
    },
    {
     "name": "stdout",
     "output_type": "stream",
     "text": [
      "Train Loss: 2.1325, Train Acc: 45.40\n",
      "Val Loss: 1.6705, Val Acc: 53.05\n",
      "Epoch 45 of 100\n",
      "Training\n"
     ]
    },
    {
     "name": "stderr",
     "output_type": "stream",
     "text": [
      "100%|██████████| 668/668 [02:38<00:00,  4.23it/s]\n",
      "  1%|          | 1/83 [00:00<00:14,  5.55it/s]"
     ]
    },
    {
     "name": "stdout",
     "output_type": "stream",
     "text": [
      "Validating\n"
     ]
    },
    {
     "name": "stderr",
     "output_type": "stream",
     "text": [
      "84it [00:12,  6.90it/s]                        \n",
      "  0%|          | 0/668 [00:00<?, ?it/s]"
     ]
    },
    {
     "name": "stdout",
     "output_type": "stream",
     "text": [
      "Train Loss: 2.0899, Train Acc: 46.53\n",
      "Val Loss: 1.6000, Val Acc: 55.93\n",
      "Epoch 46 of 100\n",
      "Training\n"
     ]
    },
    {
     "name": "stderr",
     "output_type": "stream",
     "text": [
      "100%|██████████| 668/668 [02:36<00:00,  4.27it/s]\n",
      "  1%|          | 1/83 [00:00<00:09,  9.10it/s]"
     ]
    },
    {
     "name": "stdout",
     "output_type": "stream",
     "text": [
      "Validating\n"
     ]
    },
    {
     "name": "stderr",
     "output_type": "stream",
     "text": [
      "84it [00:11,  7.28it/s]                        \n",
      "  0%|          | 1/668 [00:00<01:58,  5.63it/s]"
     ]
    },
    {
     "name": "stdout",
     "output_type": "stream",
     "text": [
      "Train Loss: 2.0668, Train Acc: 46.69\n",
      "Val Loss: 1.5615, Val Acc: 57.25\n",
      "Epoch 47 of 100\n",
      "Training\n"
     ]
    },
    {
     "name": "stderr",
     "output_type": "stream",
     "text": [
      "100%|██████████| 668/668 [02:14<00:00,  4.98it/s]\n",
      "  1%|          | 1/83 [00:00<00:09,  8.54it/s]"
     ]
    },
    {
     "name": "stdout",
     "output_type": "stream",
     "text": [
      "Validating\n"
     ]
    },
    {
     "name": "stderr",
     "output_type": "stream",
     "text": [
      "84it [00:11,  7.38it/s]                        \n",
      "  0%|          | 1/668 [00:00<02:01,  5.49it/s]"
     ]
    },
    {
     "name": "stdout",
     "output_type": "stream",
     "text": [
      "Train Loss: 2.0172, Train Acc: 48.02\n",
      "Val Loss: 1.5050, Val Acc: 57.72\n",
      "Epoch 48 of 100\n",
      "Training\n"
     ]
    },
    {
     "name": "stderr",
     "output_type": "stream",
     "text": [
      "100%|██████████| 668/668 [02:13<00:00,  4.99it/s]\n",
      "  1%|          | 1/83 [00:00<00:11,  7.27it/s]"
     ]
    },
    {
     "name": "stdout",
     "output_type": "stream",
     "text": [
      "Validating\n"
     ]
    },
    {
     "name": "stderr",
     "output_type": "stream",
     "text": [
      "84it [00:11,  7.39it/s]                        \n",
      "  0%|          | 1/668 [00:00<01:53,  5.87it/s]"
     ]
    },
    {
     "name": "stdout",
     "output_type": "stream",
     "text": [
      "Train Loss: 1.9729, Train Acc: 48.46\n",
      "Val Loss: 1.5470, Val Acc: 56.17\n",
      "Epoch 49 of 100\n",
      "Training\n"
     ]
    },
    {
     "name": "stderr",
     "output_type": "stream",
     "text": [
      "100%|██████████| 668/668 [02:13<00:00,  4.99it/s]\n",
      "  1%|          | 1/83 [00:00<00:10,  8.07it/s]"
     ]
    },
    {
     "name": "stdout",
     "output_type": "stream",
     "text": [
      "Validating\n"
     ]
    },
    {
     "name": "stderr",
     "output_type": "stream",
     "text": [
      "84it [00:11,  7.26it/s]                        \n",
      "  0%|          | 1/668 [00:00<02:06,  5.25it/s]"
     ]
    },
    {
     "name": "stdout",
     "output_type": "stream",
     "text": [
      "Train Loss: 1.9448, Train Acc: 49.69\n",
      "Val Loss: 1.5254, Val Acc: 56.77\n",
      "Epoch 50 of 100\n",
      "Training\n"
     ]
    },
    {
     "name": "stderr",
     "output_type": "stream",
     "text": [
      "100%|██████████| 668/668 [02:14<00:00,  4.97it/s]\n",
      "  1%|          | 1/83 [00:00<00:14,  5.69it/s]"
     ]
    },
    {
     "name": "stdout",
     "output_type": "stream",
     "text": [
      "Validating\n"
     ]
    },
    {
     "name": "stderr",
     "output_type": "stream",
     "text": [
      "84it [00:11,  7.26it/s]                        \n",
      "  0%|          | 1/668 [00:00<02:03,  5.39it/s]"
     ]
    },
    {
     "name": "stdout",
     "output_type": "stream",
     "text": [
      "Train Loss: 1.9102, Train Acc: 49.94\n",
      "Val Loss: 1.5305, Val Acc: 56.65\n",
      "Epoch 51 of 100\n",
      "Training\n"
     ]
    },
    {
     "name": "stderr",
     "output_type": "stream",
     "text": [
      "100%|██████████| 668/668 [02:14<00:00,  4.98it/s]\n",
      "  0%|          | 0/83 [00:00<?, ?it/s]"
     ]
    },
    {
     "name": "stdout",
     "output_type": "stream",
     "text": [
      "Validating\n"
     ]
    },
    {
     "name": "stderr",
     "output_type": "stream",
     "text": [
      "84it [00:11,  7.27it/s]                        \n",
      "  0%|          | 0/668 [00:00<?, ?it/s]"
     ]
    },
    {
     "name": "stdout",
     "output_type": "stream",
     "text": [
      "Train Loss: 1.9139, Train Acc: 49.76\n",
      "Val Loss: 1.4510, Val Acc: 59.64\n",
      "Epoch 52 of 100\n",
      "Training\n"
     ]
    },
    {
     "name": "stderr",
     "output_type": "stream",
     "text": [
      "100%|██████████| 668/668 [02:13<00:00,  4.99it/s]\n",
      "  1%|          | 1/83 [00:00<00:10,  7.80it/s]"
     ]
    },
    {
     "name": "stdout",
     "output_type": "stream",
     "text": [
      "Validating\n"
     ]
    },
    {
     "name": "stderr",
     "output_type": "stream",
     "text": [
      "84it [00:11,  7.30it/s]                        \n",
      "  0%|          | 0/668 [00:00<?, ?it/s]"
     ]
    },
    {
     "name": "stdout",
     "output_type": "stream",
     "text": [
      "Train Loss: 1.8750, Train Acc: 50.93\n",
      "Val Loss: 1.4273, Val Acc: 59.88\n",
      "Epoch 53 of 100\n",
      "Training\n"
     ]
    },
    {
     "name": "stderr",
     "output_type": "stream",
     "text": [
      "100%|██████████| 668/668 [02:14<00:00,  4.96it/s]\n",
      "  1%|          | 1/83 [00:00<00:08,  9.85it/s]"
     ]
    },
    {
     "name": "stdout",
     "output_type": "stream",
     "text": [
      "Validating\n"
     ]
    },
    {
     "name": "stderr",
     "output_type": "stream",
     "text": [
      "84it [00:11,  7.26it/s]                        \n",
      "  0%|          | 0/668 [00:00<?, ?it/s]"
     ]
    },
    {
     "name": "stdout",
     "output_type": "stream",
     "text": [
      "Train Loss: 1.8477, Train Acc: 52.08\n",
      "Val Loss: 1.3829, Val Acc: 61.08\n",
      "Epoch 54 of 100\n",
      "Training\n"
     ]
    },
    {
     "name": "stderr",
     "output_type": "stream",
     "text": [
      "100%|██████████| 668/668 [03:00<00:00,  3.69it/s]\n",
      "  1%|          | 1/83 [00:00<00:10,  7.89it/s]"
     ]
    },
    {
     "name": "stdout",
     "output_type": "stream",
     "text": [
      "Validating\n"
     ]
    },
    {
     "name": "stderr",
     "output_type": "stream",
     "text": [
      "84it [00:12,  6.51it/s]                        \n",
      "  0%|          | 0/668 [00:00<?, ?it/s]"
     ]
    },
    {
     "name": "stdout",
     "output_type": "stream",
     "text": [
      "Train Loss: 1.8603, Train Acc: 51.18\n",
      "Val Loss: 1.4518, Val Acc: 58.08\n",
      "Epoch 55 of 100\n",
      "Training\n"
     ]
    },
    {
     "name": "stderr",
     "output_type": "stream",
     "text": [
      "100%|██████████| 668/668 [03:25<00:00,  3.26it/s]\n",
      "  1%|          | 1/83 [00:00<00:09,  8.37it/s]"
     ]
    },
    {
     "name": "stdout",
     "output_type": "stream",
     "text": [
      "Validating\n"
     ]
    },
    {
     "name": "stderr",
     "output_type": "stream",
     "text": [
      "84it [00:13,  6.29it/s]                        \n",
      "  0%|          | 0/668 [00:00<?, ?it/s]"
     ]
    },
    {
     "name": "stdout",
     "output_type": "stream",
     "text": [
      "Train Loss: 1.7960, Train Acc: 52.65\n",
      "Val Loss: 1.3677, Val Acc: 61.32\n",
      "Epoch 56 of 100\n",
      "Training\n"
     ]
    },
    {
     "name": "stderr",
     "output_type": "stream",
     "text": [
      "100%|██████████| 668/668 [03:04<00:00,  3.63it/s]\n",
      "  2%|▏         | 2/83 [00:00<00:06, 11.61it/s]"
     ]
    },
    {
     "name": "stdout",
     "output_type": "stream",
     "text": [
      "Validating\n"
     ]
    },
    {
     "name": "stderr",
     "output_type": "stream",
     "text": [
      "84it [00:11,  7.33it/s]                        \n",
      "  0%|          | 1/668 [00:00<02:10,  5.10it/s]"
     ]
    },
    {
     "name": "stdout",
     "output_type": "stream",
     "text": [
      "Train Loss: 1.7904, Train Acc: 53.34\n",
      "Val Loss: 1.4008, Val Acc: 63.35\n",
      "Epoch 57 of 100\n",
      "Training\n"
     ]
    },
    {
     "name": "stderr",
     "output_type": "stream",
     "text": [
      "100%|██████████| 668/668 [02:39<00:00,  4.18it/s]\n",
      "  0%|          | 0/83 [00:00<?, ?it/s]"
     ]
    },
    {
     "name": "stdout",
     "output_type": "stream",
     "text": [
      "Validating\n"
     ]
    },
    {
     "name": "stderr",
     "output_type": "stream",
     "text": [
      "84it [00:12,  6.87it/s]                        \n",
      "  0%|          | 1/668 [00:00<02:06,  5.28it/s]"
     ]
    },
    {
     "name": "stdout",
     "output_type": "stream",
     "text": [
      "Train Loss: 1.7620, Train Acc: 53.19\n",
      "Val Loss: 1.3561, Val Acc: 61.68\n",
      "Epoch 58 of 100\n",
      "Training\n"
     ]
    },
    {
     "name": "stderr",
     "output_type": "stream",
     "text": [
      "100%|██████████| 668/668 [02:29<00:00,  4.48it/s]\n",
      "  1%|          | 1/83 [00:00<00:08,  9.41it/s]"
     ]
    },
    {
     "name": "stdout",
     "output_type": "stream",
     "text": [
      "Validating\n"
     ]
    },
    {
     "name": "stderr",
     "output_type": "stream",
     "text": [
      "84it [00:11,  7.14it/s]                        \n",
      "  0%|          | 0/668 [00:00<?, ?it/s]"
     ]
    },
    {
     "name": "stdout",
     "output_type": "stream",
     "text": [
      "Train Loss: 1.7725, Train Acc: 53.43\n",
      "Val Loss: 1.4722, Val Acc: 59.52\n",
      "Epoch 59 of 100\n",
      "Training\n"
     ]
    },
    {
     "name": "stderr",
     "output_type": "stream",
     "text": [
      "100%|██████████| 668/668 [02:30<00:00,  4.45it/s]\n",
      "  1%|          | 1/83 [00:00<00:10,  7.88it/s]"
     ]
    },
    {
     "name": "stdout",
     "output_type": "stream",
     "text": [
      "Validating\n"
     ]
    },
    {
     "name": "stderr",
     "output_type": "stream",
     "text": [
      "84it [00:11,  7.01it/s]                        \n",
      "  0%|          | 0/668 [00:00<?, ?it/s]"
     ]
    },
    {
     "name": "stdout",
     "output_type": "stream",
     "text": [
      "Train Loss: 1.6956, Train Acc: 55.84\n",
      "Val Loss: 1.3431, Val Acc: 62.63\n",
      "Epoch 60 of 100\n",
      "Training\n"
     ]
    },
    {
     "name": "stderr",
     "output_type": "stream",
     "text": [
      "100%|██████████| 668/668 [02:31<00:00,  4.42it/s]\n",
      "  1%|          | 1/83 [00:00<00:15,  5.22it/s]"
     ]
    },
    {
     "name": "stdout",
     "output_type": "stream",
     "text": [
      "Validating\n"
     ]
    },
    {
     "name": "stderr",
     "output_type": "stream",
     "text": [
      "84it [00:11,  7.14it/s]                        \n",
      "  0%|          | 0/668 [00:00<?, ?it/s]"
     ]
    },
    {
     "name": "stdout",
     "output_type": "stream",
     "text": [
      "Train Loss: 1.6587, Train Acc: 55.75\n",
      "Val Loss: 1.3431, Val Acc: 60.96\n",
      "Epoch 61 of 100\n",
      "Training\n"
     ]
    },
    {
     "name": "stderr",
     "output_type": "stream",
     "text": [
      "100%|██████████| 668/668 [02:30<00:00,  4.45it/s]\n",
      "  1%|          | 1/83 [00:00<00:09,  9.02it/s]"
     ]
    },
    {
     "name": "stdout",
     "output_type": "stream",
     "text": [
      "Validating\n"
     ]
    },
    {
     "name": "stderr",
     "output_type": "stream",
     "text": [
      "84it [00:12,  6.96it/s]                        \n",
      "  0%|          | 0/668 [00:00<?, ?it/s]"
     ]
    },
    {
     "name": "stdout",
     "output_type": "stream",
     "text": [
      "Train Loss: 1.6892, Train Acc: 55.52\n",
      "Val Loss: 1.2928, Val Acc: 63.59\n",
      "Epoch 62 of 100\n",
      "Training\n"
     ]
    },
    {
     "name": "stderr",
     "output_type": "stream",
     "text": [
      "100%|██████████| 668/668 [02:21<00:00,  4.71it/s]\n",
      "  1%|          | 1/83 [00:00<00:11,  7.40it/s]"
     ]
    },
    {
     "name": "stdout",
     "output_type": "stream",
     "text": [
      "Validating\n"
     ]
    },
    {
     "name": "stderr",
     "output_type": "stream",
     "text": [
      "84it [00:11,  7.32it/s]                        \n",
      "  0%|          | 1/668 [00:00<02:10,  5.13it/s]"
     ]
    },
    {
     "name": "stdout",
     "output_type": "stream",
     "text": [
      "Train Loss: 1.6933, Train Acc: 55.40\n",
      "Val Loss: 1.3322, Val Acc: 62.75\n",
      "Epoch 63 of 100\n",
      "Training\n"
     ]
    },
    {
     "name": "stderr",
     "output_type": "stream",
     "text": [
      "100%|██████████| 668/668 [02:13<00:00,  4.99it/s]\n",
      "  0%|          | 0/83 [00:00<?, ?it/s]"
     ]
    },
    {
     "name": "stdout",
     "output_type": "stream",
     "text": [
      "Validating\n"
     ]
    },
    {
     "name": "stderr",
     "output_type": "stream",
     "text": [
      "84it [00:11,  7.36it/s]                        \n",
      "  0%|          | 0/668 [00:00<?, ?it/s]"
     ]
    },
    {
     "name": "stdout",
     "output_type": "stream",
     "text": [
      "Train Loss: 1.6088, Train Acc: 57.93\n",
      "Val Loss: 1.3256, Val Acc: 62.28\n",
      "Epoch 64 of 100\n",
      "Training\n"
     ]
    },
    {
     "name": "stderr",
     "output_type": "stream",
     "text": [
      "100%|██████████| 668/668 [02:14<00:00,  4.98it/s]\n",
      "  1%|          | 1/83 [00:00<00:12,  6.48it/s]"
     ]
    },
    {
     "name": "stdout",
     "output_type": "stream",
     "text": [
      "Validating\n"
     ]
    },
    {
     "name": "stderr",
     "output_type": "stream",
     "text": [
      "84it [00:11,  7.25it/s]                        \n",
      "  0%|          | 0/668 [00:00<?, ?it/s]"
     ]
    },
    {
     "name": "stdout",
     "output_type": "stream",
     "text": [
      "Train Loss: 1.6432, Train Acc: 56.95\n",
      "Val Loss: 1.3080, Val Acc: 63.59\n",
      "Epoch 65 of 100\n",
      "Training\n"
     ]
    },
    {
     "name": "stderr",
     "output_type": "stream",
     "text": [
      "100%|██████████| 668/668 [02:14<00:00,  4.98it/s]\n",
      "  1%|          | 1/83 [00:00<00:11,  7.30it/s]"
     ]
    },
    {
     "name": "stdout",
     "output_type": "stream",
     "text": [
      "Validating\n"
     ]
    },
    {
     "name": "stderr",
     "output_type": "stream",
     "text": [
      "84it [00:11,  7.22it/s]                        \n",
      "  0%|          | 0/668 [00:00<?, ?it/s]"
     ]
    },
    {
     "name": "stdout",
     "output_type": "stream",
     "text": [
      "Train Loss: 1.6147, Train Acc: 57.60\n",
      "Val Loss: 1.2410, Val Acc: 64.07\n",
      "Epoch 66 of 100\n",
      "Training\n"
     ]
    },
    {
     "name": "stderr",
     "output_type": "stream",
     "text": [
      "100%|██████████| 668/668 [02:13<00:00,  4.99it/s]\n",
      "  1%|          | 1/83 [00:00<00:09,  8.33it/s]"
     ]
    },
    {
     "name": "stdout",
     "output_type": "stream",
     "text": [
      "Validating\n"
     ]
    },
    {
     "name": "stderr",
     "output_type": "stream",
     "text": [
      "84it [00:11,  7.07it/s]                        \n",
      "  0%|          | 0/668 [00:00<?, ?it/s]"
     ]
    },
    {
     "name": "stdout",
     "output_type": "stream",
     "text": [
      "Train Loss: 1.6368, Train Acc: 56.93\n",
      "Val Loss: 1.3031, Val Acc: 65.03\n",
      "Epoch 67 of 100\n",
      "Training\n"
     ]
    },
    {
     "name": "stderr",
     "output_type": "stream",
     "text": [
      "100%|██████████| 668/668 [02:38<00:00,  4.20it/s]\n",
      "  1%|          | 1/83 [00:00<00:09,  8.32it/s]"
     ]
    },
    {
     "name": "stdout",
     "output_type": "stream",
     "text": [
      "Validating\n"
     ]
    },
    {
     "name": "stderr",
     "output_type": "stream",
     "text": [
      "84it [00:12,  6.86it/s]                        \n",
      "  0%|          | 0/668 [00:00<?, ?it/s]"
     ]
    },
    {
     "name": "stdout",
     "output_type": "stream",
     "text": [
      "Train Loss: 1.5828, Train Acc: 58.10\n",
      "Val Loss: 1.2121, Val Acc: 66.47\n",
      "Epoch 68 of 100\n",
      "Training\n"
     ]
    },
    {
     "name": "stderr",
     "output_type": "stream",
     "text": [
      "100%|██████████| 668/668 [02:38<00:00,  4.22it/s]\n",
      "  1%|          | 1/83 [00:00<00:12,  6.51it/s]"
     ]
    },
    {
     "name": "stdout",
     "output_type": "stream",
     "text": [
      "Validating\n"
     ]
    },
    {
     "name": "stderr",
     "output_type": "stream",
     "text": [
      "84it [00:12,  6.83it/s]                        \n",
      "  0%|          | 1/668 [00:00<02:04,  5.35it/s]"
     ]
    },
    {
     "name": "stdout",
     "output_type": "stream",
     "text": [
      "Train Loss: 1.5547, Train Acc: 58.71\n",
      "Val Loss: 1.2184, Val Acc: 65.75\n",
      "Epoch 69 of 100\n",
      "Training\n"
     ]
    },
    {
     "name": "stderr",
     "output_type": "stream",
     "text": [
      "100%|██████████| 668/668 [02:40<00:00,  4.16it/s]\n",
      "  1%|          | 1/83 [00:00<00:12,  6.71it/s]"
     ]
    },
    {
     "name": "stdout",
     "output_type": "stream",
     "text": [
      "Validating\n"
     ]
    },
    {
     "name": "stderr",
     "output_type": "stream",
     "text": [
      "84it [00:12,  6.88it/s]                        \n",
      "  0%|          | 1/668 [00:00<01:41,  6.55it/s]"
     ]
    },
    {
     "name": "stdout",
     "output_type": "stream",
     "text": [
      "Train Loss: 1.5225, Train Acc: 59.90\n",
      "Val Loss: 1.2556, Val Acc: 65.39\n",
      "Epoch 70 of 100\n",
      "Training\n"
     ]
    },
    {
     "name": "stderr",
     "output_type": "stream",
     "text": [
      "100%|██████████| 668/668 [02:40<00:00,  4.17it/s]\n",
      "  1%|          | 1/83 [00:00<00:16,  5.06it/s]"
     ]
    },
    {
     "name": "stdout",
     "output_type": "stream",
     "text": [
      "Validating\n"
     ]
    },
    {
     "name": "stderr",
     "output_type": "stream",
     "text": [
      "84it [00:12,  6.91it/s]                        \n",
      "  0%|          | 0/668 [00:00<?, ?it/s]"
     ]
    },
    {
     "name": "stdout",
     "output_type": "stream",
     "text": [
      "Train Loss: 1.5518, Train Acc: 59.48\n",
      "Val Loss: 1.3284, Val Acc: 64.55\n",
      "Epoch 71 of 100\n",
      "Training\n"
     ]
    },
    {
     "name": "stderr",
     "output_type": "stream",
     "text": [
      "100%|██████████| 668/668 [02:39<00:00,  4.18it/s]\n",
      "  1%|          | 1/83 [00:00<00:09,  8.76it/s]"
     ]
    },
    {
     "name": "stdout",
     "output_type": "stream",
     "text": [
      "Validating\n"
     ]
    },
    {
     "name": "stderr",
     "output_type": "stream",
     "text": [
      "84it [00:12,  6.85it/s]                        \n",
      "  0%|          | 0/668 [00:00<?, ?it/s]"
     ]
    },
    {
     "name": "stdout",
     "output_type": "stream",
     "text": [
      "Train Loss: 1.5031, Train Acc: 60.36\n",
      "Val Loss: 1.2316, Val Acc: 65.39\n",
      "Epoch 72 of 100\n",
      "Training\n"
     ]
    },
    {
     "name": "stderr",
     "output_type": "stream",
     "text": [
      "100%|██████████| 668/668 [02:38<00:00,  4.21it/s]\n",
      "  1%|          | 1/83 [00:00<00:08,  9.13it/s]"
     ]
    },
    {
     "name": "stdout",
     "output_type": "stream",
     "text": [
      "Validating\n"
     ]
    },
    {
     "name": "stderr",
     "output_type": "stream",
     "text": [
      "84it [00:12,  6.93it/s]                        \n",
      "  0%|          | 1/668 [00:00<01:59,  5.57it/s]"
     ]
    },
    {
     "name": "stdout",
     "output_type": "stream",
     "text": [
      "Train Loss: 1.4997, Train Acc: 60.81\n",
      "Val Loss: 1.2527, Val Acc: 65.39\n",
      "Epoch 73 of 100\n",
      "Training\n"
     ]
    },
    {
     "name": "stderr",
     "output_type": "stream",
     "text": [
      "100%|██████████| 668/668 [02:38<00:00,  4.21it/s]\n",
      "  1%|          | 1/83 [00:00<00:08,  9.17it/s]"
     ]
    },
    {
     "name": "stdout",
     "output_type": "stream",
     "text": [
      "Validating\n"
     ]
    },
    {
     "name": "stderr",
     "output_type": "stream",
     "text": [
      "84it [00:12,  6.85it/s]                        \n",
      "  0%|          | 0/668 [00:00<?, ?it/s]"
     ]
    },
    {
     "name": "stdout",
     "output_type": "stream",
     "text": [
      "Train Loss: 1.4887, Train Acc: 60.30\n",
      "Val Loss: 1.2932, Val Acc: 64.07\n",
      "Epoch 74 of 100\n",
      "Training\n"
     ]
    },
    {
     "name": "stderr",
     "output_type": "stream",
     "text": [
      "100%|██████████| 668/668 [02:40<00:00,  4.15it/s]\n",
      "  1%|          | 1/83 [00:00<00:11,  7.42it/s]"
     ]
    },
    {
     "name": "stdout",
     "output_type": "stream",
     "text": [
      "Validating\n"
     ]
    },
    {
     "name": "stderr",
     "output_type": "stream",
     "text": [
      "84it [00:12,  6.94it/s]                        \n",
      "  0%|          | 1/668 [00:00<01:58,  5.61it/s]"
     ]
    },
    {
     "name": "stdout",
     "output_type": "stream",
     "text": [
      "Train Loss: 1.4758, Train Acc: 61.27\n",
      "Val Loss: 1.2926, Val Acc: 63.83\n",
      "Epoch 75 of 100\n",
      "Training\n"
     ]
    },
    {
     "name": "stderr",
     "output_type": "stream",
     "text": [
      "100%|██████████| 668/668 [02:38<00:00,  4.20it/s]\n",
      "  1%|          | 1/83 [00:00<00:09,  8.70it/s]"
     ]
    },
    {
     "name": "stdout",
     "output_type": "stream",
     "text": [
      "Validating\n"
     ]
    },
    {
     "name": "stderr",
     "output_type": "stream",
     "text": [
      "84it [00:12,  6.98it/s]                        \n",
      "  0%|          | 1/668 [00:00<01:36,  6.88it/s]"
     ]
    },
    {
     "name": "stdout",
     "output_type": "stream",
     "text": [
      "Train Loss: 1.4395, Train Acc: 61.60\n",
      "Val Loss: 1.2176, Val Acc: 67.19\n",
      "Epoch 76 of 100\n",
      "Training\n"
     ]
    },
    {
     "name": "stderr",
     "output_type": "stream",
     "text": [
      "100%|██████████| 668/668 [02:40<00:00,  4.17it/s]\n",
      "  0%|          | 0/83 [00:00<?, ?it/s]"
     ]
    },
    {
     "name": "stdout",
     "output_type": "stream",
     "text": [
      "Validating\n"
     ]
    },
    {
     "name": "stderr",
     "output_type": "stream",
     "text": [
      "84it [00:12,  6.86it/s]                        \n",
      "  0%|          | 0/668 [00:00<?, ?it/s]"
     ]
    },
    {
     "name": "stdout",
     "output_type": "stream",
     "text": [
      "Train Loss: 1.3936, Train Acc: 63.31\n",
      "Val Loss: 1.2313, Val Acc: 66.59\n",
      "Epoch 77 of 100\n",
      "Training\n"
     ]
    },
    {
     "name": "stderr",
     "output_type": "stream",
     "text": [
      "100%|██████████| 668/668 [02:38<00:00,  4.21it/s]\n",
      "  1%|          | 1/83 [00:00<00:10,  8.01it/s]"
     ]
    },
    {
     "name": "stdout",
     "output_type": "stream",
     "text": [
      "Validating\n"
     ]
    },
    {
     "name": "stderr",
     "output_type": "stream",
     "text": [
      "84it [00:12,  6.86it/s]                        \n",
      "  0%|          | 0/668 [00:00<?, ?it/s]"
     ]
    },
    {
     "name": "stdout",
     "output_type": "stream",
     "text": [
      "Train Loss: 1.3949, Train Acc: 62.90\n",
      "Val Loss: 1.2385, Val Acc: 66.35\n",
      "Epoch 78 of 100\n",
      "Training\n"
     ]
    },
    {
     "name": "stderr",
     "output_type": "stream",
     "text": [
      "100%|██████████| 668/668 [02:39<00:00,  4.19it/s]\n",
      "  1%|          | 1/83 [00:00<00:09,  8.65it/s]"
     ]
    },
    {
     "name": "stdout",
     "output_type": "stream",
     "text": [
      "Validating\n"
     ]
    },
    {
     "name": "stderr",
     "output_type": "stream",
     "text": [
      "84it [00:12,  6.89it/s]                        \n",
      "  0%|          | 0/668 [00:00<?, ?it/s]"
     ]
    },
    {
     "name": "stdout",
     "output_type": "stream",
     "text": [
      "Train Loss: 1.4602, Train Acc: 61.77\n",
      "Val Loss: 1.2738, Val Acc: 65.27\n",
      "Epoch 79 of 100\n",
      "Training\n"
     ]
    },
    {
     "name": "stderr",
     "output_type": "stream",
     "text": [
      "100%|██████████| 668/668 [02:40<00:00,  4.16it/s]\n",
      "  1%|          | 1/83 [00:00<00:12,  6.47it/s]"
     ]
    },
    {
     "name": "stdout",
     "output_type": "stream",
     "text": [
      "Validating\n"
     ]
    },
    {
     "name": "stderr",
     "output_type": "stream",
     "text": [
      "84it [00:12,  6.85it/s]                        \n",
      "  0%|          | 0/668 [00:00<?, ?it/s]"
     ]
    },
    {
     "name": "stdout",
     "output_type": "stream",
     "text": [
      "Train Loss: 1.4103, Train Acc: 63.16\n",
      "Val Loss: 1.2048, Val Acc: 67.19\n",
      "Epoch 80 of 100\n",
      "Training\n"
     ]
    },
    {
     "name": "stderr",
     "output_type": "stream",
     "text": [
      "100%|██████████| 668/668 [02:39<00:00,  4.19it/s]\n",
      "  1%|          | 1/83 [00:00<00:10,  7.71it/s]"
     ]
    },
    {
     "name": "stdout",
     "output_type": "stream",
     "text": [
      "Validating\n"
     ]
    },
    {
     "name": "stderr",
     "output_type": "stream",
     "text": [
      "84it [00:12,  6.84it/s]                        \n",
      "  0%|          | 0/668 [00:00<?, ?it/s]"
     ]
    },
    {
     "name": "stdout",
     "output_type": "stream",
     "text": [
      "Train Loss: 1.3527, Train Acc: 63.83\n",
      "Val Loss: 1.3363, Val Acc: 65.27\n",
      "Epoch 81 of 100\n",
      "Training\n"
     ]
    },
    {
     "name": "stderr",
     "output_type": "stream",
     "text": [
      "100%|██████████| 668/668 [02:38<00:00,  4.22it/s]\n",
      "  1%|          | 1/83 [00:00<00:11,  7.41it/s]"
     ]
    },
    {
     "name": "stdout",
     "output_type": "stream",
     "text": [
      "Validating\n"
     ]
    },
    {
     "name": "stderr",
     "output_type": "stream",
     "text": [
      "84it [00:12,  6.87it/s]                        \n",
      "  0%|          | 0/668 [00:00<?, ?it/s]"
     ]
    },
    {
     "name": "stdout",
     "output_type": "stream",
     "text": [
      "Train Loss: 1.3584, Train Acc: 64.27\n",
      "Val Loss: 1.1966, Val Acc: 68.14\n",
      "Epoch 82 of 100\n",
      "Training\n"
     ]
    },
    {
     "name": "stderr",
     "output_type": "stream",
     "text": [
      "100%|██████████| 668/668 [02:40<00:00,  4.16it/s]\n",
      "  1%|          | 1/83 [00:00<00:10,  7.89it/s]"
     ]
    },
    {
     "name": "stdout",
     "output_type": "stream",
     "text": [
      "Validating\n"
     ]
    },
    {
     "name": "stderr",
     "output_type": "stream",
     "text": [
      "84it [00:12,  6.81it/s]                        \n",
      "  0%|          | 0/668 [00:00<?, ?it/s]"
     ]
    },
    {
     "name": "stdout",
     "output_type": "stream",
     "text": [
      "Train Loss: 1.3450, Train Acc: 64.27\n",
      "Val Loss: 1.2780, Val Acc: 67.54\n",
      "Epoch 83 of 100\n",
      "Training\n"
     ]
    },
    {
     "name": "stderr",
     "output_type": "stream",
     "text": [
      "100%|██████████| 668/668 [02:39<00:00,  4.19it/s]\n",
      "  1%|          | 1/83 [00:00<00:11,  6.86it/s]"
     ]
    },
    {
     "name": "stdout",
     "output_type": "stream",
     "text": [
      "Validating\n"
     ]
    },
    {
     "name": "stderr",
     "output_type": "stream",
     "text": [
      "84it [00:12,  6.85it/s]                        \n",
      "  0%|          | 0/668 [00:00<?, ?it/s]"
     ]
    },
    {
     "name": "stdout",
     "output_type": "stream",
     "text": [
      "Train Loss: 1.3244, Train Acc: 64.49\n",
      "Val Loss: 1.1683, Val Acc: 69.22\n",
      "Epoch 84 of 100\n",
      "Training\n"
     ]
    },
    {
     "name": "stderr",
     "output_type": "stream",
     "text": [
      "100%|██████████| 668/668 [02:38<00:00,  4.20it/s]\n",
      "  0%|          | 0/83 [00:00<?, ?it/s]"
     ]
    },
    {
     "name": "stdout",
     "output_type": "stream",
     "text": [
      "Validating\n"
     ]
    },
    {
     "name": "stderr",
     "output_type": "stream",
     "text": [
      "84it [00:12,  6.83it/s]                        \n",
      "  0%|          | 0/668 [00:00<?, ?it/s]"
     ]
    },
    {
     "name": "stdout",
     "output_type": "stream",
     "text": [
      "Train Loss: 1.3562, Train Acc: 63.89\n",
      "Val Loss: 1.2974, Val Acc: 66.95\n",
      "Epoch 85 of 100\n",
      "Training\n"
     ]
    },
    {
     "name": "stderr",
     "output_type": "stream",
     "text": [
      "100%|██████████| 668/668 [02:39<00:00,  4.18it/s]\n",
      "  1%|          | 1/83 [00:00<00:10,  7.65it/s]"
     ]
    },
    {
     "name": "stdout",
     "output_type": "stream",
     "text": [
      "Validating\n"
     ]
    },
    {
     "name": "stderr",
     "output_type": "stream",
     "text": [
      "84it [00:11,  7.03it/s]                        \n",
      "  0%|          | 1/668 [00:00<02:05,  5.31it/s]"
     ]
    },
    {
     "name": "stdout",
     "output_type": "stream",
     "text": [
      "Train Loss: 1.2971, Train Acc: 65.31\n",
      "Val Loss: 1.2346, Val Acc: 65.99\n",
      "Epoch 86 of 100\n",
      "Training\n"
     ]
    },
    {
     "name": "stderr",
     "output_type": "stream",
     "text": [
      "100%|██████████| 668/668 [02:40<00:00,  4.17it/s]\n",
      "  0%|          | 0/83 [00:00<?, ?it/s]"
     ]
    },
    {
     "name": "stdout",
     "output_type": "stream",
     "text": [
      "Validating\n"
     ]
    },
    {
     "name": "stderr",
     "output_type": "stream",
     "text": [
      "84it [00:12,  6.88it/s]                        \n",
      "  0%|          | 0/668 [00:00<?, ?it/s]"
     ]
    },
    {
     "name": "stdout",
     "output_type": "stream",
     "text": [
      "Train Loss: 1.3016, Train Acc: 65.09\n",
      "Val Loss: 1.2220, Val Acc: 68.02\n",
      "Epoch 87 of 100\n",
      "Training\n"
     ]
    },
    {
     "name": "stderr",
     "output_type": "stream",
     "text": [
      "100%|██████████| 668/668 [02:40<00:00,  4.15it/s]\n",
      "  1%|          | 1/83 [00:00<00:12,  6.75it/s]"
     ]
    },
    {
     "name": "stdout",
     "output_type": "stream",
     "text": [
      "Validating\n"
     ]
    },
    {
     "name": "stderr",
     "output_type": "stream",
     "text": [
      "84it [00:12,  6.82it/s]                        \n",
      "  0%|          | 1/668 [00:00<01:43,  6.45it/s]"
     ]
    },
    {
     "name": "stdout",
     "output_type": "stream",
     "text": [
      "Train Loss: 1.2854, Train Acc: 66.06\n",
      "Val Loss: 1.2346, Val Acc: 67.07\n",
      "Epoch 88 of 100\n",
      "Training\n"
     ]
    },
    {
     "name": "stderr",
     "output_type": "stream",
     "text": [
      "100%|██████████| 668/668 [02:38<00:00,  4.21it/s]\n",
      "  1%|          | 1/83 [00:00<00:11,  7.03it/s]"
     ]
    },
    {
     "name": "stdout",
     "output_type": "stream",
     "text": [
      "Validating\n"
     ]
    },
    {
     "name": "stderr",
     "output_type": "stream",
     "text": [
      "84it [00:12,  6.90it/s]                        \n",
      "  0%|          | 1/668 [00:00<01:52,  5.91it/s]"
     ]
    },
    {
     "name": "stdout",
     "output_type": "stream",
     "text": [
      "Train Loss: 1.2979, Train Acc: 65.96\n",
      "Val Loss: 1.1749, Val Acc: 69.34\n",
      "Epoch 89 of 100\n",
      "Training\n"
     ]
    },
    {
     "name": "stderr",
     "output_type": "stream",
     "text": [
      "100%|██████████| 668/668 [02:40<00:00,  4.16it/s]\n",
      "  0%|          | 0/83 [00:00<?, ?it/s]"
     ]
    },
    {
     "name": "stdout",
     "output_type": "stream",
     "text": [
      "Validating\n"
     ]
    },
    {
     "name": "stderr",
     "output_type": "stream",
     "text": [
      "84it [00:12,  6.93it/s]                        \n",
      "  0%|          | 0/668 [00:00<?, ?it/s]"
     ]
    },
    {
     "name": "stdout",
     "output_type": "stream",
     "text": [
      "Train Loss: 1.2337, Train Acc: 67.25\n",
      "Val Loss: 1.2266, Val Acc: 65.39\n",
      "Epoch 90 of 100\n",
      "Training\n"
     ]
    },
    {
     "name": "stderr",
     "output_type": "stream",
     "text": [
      "100%|██████████| 668/668 [02:40<00:00,  4.16it/s]\n",
      "  1%|          | 1/83 [00:00<00:09,  8.29it/s]"
     ]
    },
    {
     "name": "stdout",
     "output_type": "stream",
     "text": [
      "Validating\n"
     ]
    },
    {
     "name": "stderr",
     "output_type": "stream",
     "text": [
      "84it [00:12,  6.86it/s]                        \n",
      "  0%|          | 0/668 [00:00<?, ?it/s]"
     ]
    },
    {
     "name": "stdout",
     "output_type": "stream",
     "text": [
      "Train Loss: 1.2627, Train Acc: 67.29\n",
      "Val Loss: 1.1908, Val Acc: 65.75\n",
      "Epoch 91 of 100\n",
      "Training\n"
     ]
    },
    {
     "name": "stderr",
     "output_type": "stream",
     "text": [
      "100%|██████████| 668/668 [02:39<00:00,  4.18it/s]\n",
      "  0%|          | 0/83 [00:00<?, ?it/s]"
     ]
    },
    {
     "name": "stdout",
     "output_type": "stream",
     "text": [
      "Validating\n"
     ]
    },
    {
     "name": "stderr",
     "output_type": "stream",
     "text": [
      "84it [00:12,  6.89it/s]                        \n",
      "  0%|          | 0/668 [00:00<?, ?it/s]"
     ]
    },
    {
     "name": "stdout",
     "output_type": "stream",
     "text": [
      "Train Loss: 1.2192, Train Acc: 67.78\n",
      "Val Loss: 1.1398, Val Acc: 69.46\n",
      "Epoch 92 of 100\n",
      "Training\n"
     ]
    },
    {
     "name": "stderr",
     "output_type": "stream",
     "text": [
      "100%|██████████| 668/668 [02:38<00:00,  4.21it/s]\n",
      "  1%|          | 1/83 [00:00<00:14,  5.64it/s]"
     ]
    },
    {
     "name": "stdout",
     "output_type": "stream",
     "text": [
      "Validating\n"
     ]
    },
    {
     "name": "stderr",
     "output_type": "stream",
     "text": [
      "84it [00:12,  6.93it/s]                        \n",
      "  0%|          | 0/668 [00:00<?, ?it/s]"
     ]
    },
    {
     "name": "stdout",
     "output_type": "stream",
     "text": [
      "Train Loss: 1.2343, Train Acc: 68.29\n",
      "Val Loss: 1.2379, Val Acc: 65.51\n",
      "Epoch 93 of 100\n",
      "Training\n"
     ]
    },
    {
     "name": "stderr",
     "output_type": "stream",
     "text": [
      "100%|██████████| 668/668 [02:40<00:00,  4.15it/s]\n",
      "  1%|          | 1/83 [00:00<00:13,  6.17it/s]"
     ]
    },
    {
     "name": "stdout",
     "output_type": "stream",
     "text": [
      "Validating\n"
     ]
    },
    {
     "name": "stderr",
     "output_type": "stream",
     "text": [
      "84it [00:12,  6.76it/s]                        \n",
      "  0%|          | 0/668 [00:00<?, ?it/s]"
     ]
    },
    {
     "name": "stdout",
     "output_type": "stream",
     "text": [
      "Train Loss: 1.2299, Train Acc: 67.62\n",
      "Val Loss: 1.2454, Val Acc: 67.31\n",
      "Epoch 94 of 100\n",
      "Training\n"
     ]
    },
    {
     "name": "stderr",
     "output_type": "stream",
     "text": [
      "100%|██████████| 668/668 [02:39<00:00,  4.19it/s]\n",
      "  1%|          | 1/83 [00:00<00:10,  7.97it/s]"
     ]
    },
    {
     "name": "stdout",
     "output_type": "stream",
     "text": [
      "Validating\n"
     ]
    },
    {
     "name": "stderr",
     "output_type": "stream",
     "text": [
      "84it [00:12,  6.86it/s]                        \n",
      "  0%|          | 0/668 [00:00<?, ?it/s]"
     ]
    },
    {
     "name": "stdout",
     "output_type": "stream",
     "text": [
      "Train Loss: 1.2468, Train Acc: 67.02\n",
      "Val Loss: 1.2343, Val Acc: 65.15\n",
      "Epoch 95 of 100\n",
      "Training\n"
     ]
    },
    {
     "name": "stderr",
     "output_type": "stream",
     "text": [
      "100%|██████████| 668/668 [02:40<00:00,  4.16it/s]\n",
      "  1%|          | 1/83 [00:00<00:09,  8.99it/s]"
     ]
    },
    {
     "name": "stdout",
     "output_type": "stream",
     "text": [
      "Validating\n"
     ]
    },
    {
     "name": "stderr",
     "output_type": "stream",
     "text": [
      "84it [00:12,  6.94it/s]                        \n",
      "  0%|          | 0/668 [00:00<?, ?it/s]"
     ]
    },
    {
     "name": "stdout",
     "output_type": "stream",
     "text": [
      "Train Loss: 1.2045, Train Acc: 67.75\n",
      "Val Loss: 1.0971, Val Acc: 68.86\n",
      "Epoch 96 of 100\n",
      "Training\n"
     ]
    },
    {
     "name": "stderr",
     "output_type": "stream",
     "text": [
      "100%|██████████| 668/668 [02:38<00:00,  4.22it/s]\n",
      "  1%|          | 1/83 [00:00<00:12,  6.76it/s]"
     ]
    },
    {
     "name": "stdout",
     "output_type": "stream",
     "text": [
      "Validating\n"
     ]
    },
    {
     "name": "stderr",
     "output_type": "stream",
     "text": [
      "84it [00:12,  6.83it/s]                        \n",
      "  0%|          | 0/668 [00:00<?, ?it/s]"
     ]
    },
    {
     "name": "stdout",
     "output_type": "stream",
     "text": [
      "Train Loss: 1.2491, Train Acc: 66.89\n",
      "Val Loss: 1.2302, Val Acc: 67.54\n",
      "Epoch 97 of 100\n",
      "Training\n"
     ]
    },
    {
     "name": "stderr",
     "output_type": "stream",
     "text": [
      "100%|██████████| 668/668 [02:40<00:00,  4.17it/s]\n",
      "  0%|          | 0/83 [00:00<?, ?it/s]"
     ]
    },
    {
     "name": "stdout",
     "output_type": "stream",
     "text": [
      "Validating\n"
     ]
    },
    {
     "name": "stderr",
     "output_type": "stream",
     "text": [
      "84it [00:12,  6.96it/s]                        \n",
      "  0%|          | 0/668 [00:00<?, ?it/s]"
     ]
    },
    {
     "name": "stdout",
     "output_type": "stream",
     "text": [
      "Train Loss: 1.1831, Train Acc: 68.65\n",
      "Val Loss: 1.1939, Val Acc: 67.66\n",
      "Epoch 98 of 100\n",
      "Training\n"
     ]
    },
    {
     "name": "stderr",
     "output_type": "stream",
     "text": [
      "100%|██████████| 668/668 [02:40<00:00,  4.16it/s]\n",
      "  1%|          | 1/83 [00:00<00:08,  9.58it/s]"
     ]
    },
    {
     "name": "stdout",
     "output_type": "stream",
     "text": [
      "Validating\n"
     ]
    },
    {
     "name": "stderr",
     "output_type": "stream",
     "text": [
      "84it [00:12,  6.87it/s]                        \n",
      "  0%|          | 0/668 [00:00<?, ?it/s]"
     ]
    },
    {
     "name": "stdout",
     "output_type": "stream",
     "text": [
      "Train Loss: 1.1375, Train Acc: 70.01\n",
      "Val Loss: 1.1697, Val Acc: 68.50\n",
      "Epoch 99 of 100\n",
      "Training\n"
     ]
    },
    {
     "name": "stderr",
     "output_type": "stream",
     "text": [
      "100%|██████████| 668/668 [02:39<00:00,  4.18it/s]\n",
      "  1%|          | 1/83 [00:00<00:10,  7.87it/s]"
     ]
    },
    {
     "name": "stdout",
     "output_type": "stream",
     "text": [
      "Validating\n"
     ]
    },
    {
     "name": "stderr",
     "output_type": "stream",
     "text": [
      "84it [00:12,  6.87it/s]                        \n",
      "  0%|          | 0/668 [00:00<?, ?it/s]"
     ]
    },
    {
     "name": "stdout",
     "output_type": "stream",
     "text": [
      "Train Loss: 1.2155, Train Acc: 67.77\n",
      "Val Loss: 1.1987, Val Acc: 68.26\n",
      "Epoch 100 of 100\n",
      "Training\n"
     ]
    },
    {
     "name": "stderr",
     "output_type": "stream",
     "text": [
      "100%|██████████| 668/668 [02:39<00:00,  4.19it/s]\n",
      "  0%|          | 0/83 [00:00<?, ?it/s]"
     ]
    },
    {
     "name": "stdout",
     "output_type": "stream",
     "text": [
      "Validating\n"
     ]
    },
    {
     "name": "stderr",
     "output_type": "stream",
     "text": [
      "84it [00:12,  6.94it/s]                        \n"
     ]
    },
    {
     "name": "stdout",
     "output_type": "stream",
     "text": [
      "Train Loss: 1.1357, Train Acc: 70.54\n",
      "Val Loss: 1.1761, Val Acc: 68.38\n",
      "Took 262.821 minutes to train for 100 epochs\n"
     ]
    },
    {
     "data": {
      "image/png": "[encoded data removed]",
      "text/plain": [
       "<Figure size 720x504 with 1 Axes>"
      ]
     },
     "metadata": {
      "needs_background": "light"
     },
     "output_type": "display_data"
    },
    {
     "data": {
      "image/png": "[encoded data removed]",
      "text/plain": [
       "<Figure size 720x504 with 1 Axes>"
      ]
     },
     "metadata": {
      "needs_background": "light"
     },
     "output_type": "display_data"
    }
   ],
   "source": [
    "# train the model\n",
    "train_loss, val_loss, train_acc, val_acc, use_amp = train(100, model_scratch, criterion_scratch, optimizer_scratch, exp_lr_scheduler)\n",
    "\n",
    "# accuracy plots\n",
    "plt.figure(figsize=(10, 7))\n",
    "plt.plot(train_acc, color='green', label='train accuracy')\n",
    "plt.plot(val_acc, color='blue', label='validataion accuracy')\n",
    "plt.xlabel('Epochs')\n",
    "plt.ylabel('Accuracy')\n",
    "plt.legend()\n",
    "plt.savefig(f\"./graphs/condense_amp_{use_amp}_accuracy.png\")\n",
    "plt.show()\n",
    "\n",
    "# loss plots\n",
    "plt.figure(figsize=(10, 7))\n",
    "plt.plot(train_loss, color='orange', label='train loss')\n",
    "plt.plot(val_loss, color='red', label='validataion loss')\n",
    "plt.xlabel('Epochs')\n",
    "plt.ylabel('Loss')\n",
    "plt.legend()\n",
    "plt.savefig(f\"./graphs/condense_amp_{use_amp}_loss.png\")\n",
    "plt.show()"
   ]
  },
  {
   "cell_type": "code",
   "execution_count": 7,
   "id": "36b0d35f",
   "metadata": {},
   "outputs": [],
   "source": [
    "def test(model, criterion):\n",
    "    since = time.time()\n",
    "    # monitor test loss and accuracy\n",
    "    print(\"Evaluating model\")\n",
    "    print(\"-\" * 10)\n",
    "    model.eval()\n",
    "    \n",
    "    test_loss = 0.\n",
    "    test_acc = 0.\n",
    "    correct = 0.\n",
    "    total = 0.\n",
    "    \n",
    "    for i, data in enumerate(dataloaders[TEST]):\n",
    "        images, target = data\n",
    "        # move to GPU\n",
    "        images, target = images.to(device), target.to(device)\n",
    "                \n",
    "        # forward pass: compute predicted outputs by passing inputs to the model\n",
    "        with torch.no_grad():\n",
    "            outputs = model(images)\n",
    "            # calculate the loss\n",
    "            _, preds = torch.max(outputs.data, 1)\n",
    "            \n",
    "            #pred = output.data.max(1, keepdim=True)[1]\n",
    "            loss = criterion(outputs, target)\n",
    "            # update average test loss  \n",
    "            test_loss = test_loss + ((1 / (i + 1)) * (loss.item() - test_loss))\n",
    "                       \n",
    "            # compare predictions to true label\n",
    "            total += target.size(0)\n",
    "            correct += (preds == target).double().sum().item()\n",
    "            \n",
    "    avg_loss = test_loss\n",
    "    elapsed_time = time.time() - since\n",
    "\n",
    "    print(\"Evaluation completed in {:.0f}m {:.0f}s\".format(elapsed_time // 60, elapsed_time % 60))\n",
    "    print(\"\\nTest Loss: {:.6f}\\n\".format(avg_loss))\n",
    "    print(\"\\nTest Accuracy: {:.3f}% {:.0f}/{:.0f}\".format(100. * correct / total, correct, total))\n",
    "    print('-' * 10)"
   ]
  },
  {
   "cell_type": "code",
   "execution_count": 8,
   "id": "f2fee76c",
   "metadata": {},
   "outputs": [
    {
     "name": "stdout",
     "output_type": "stream",
     "text": [
      "Evaluating model\n",
      "----------\n",
      "Evaluation completed in 0m 12s\n",
      "\n",
      "Test Loss: 1.118846\n",
      "\n",
      "\n",
      "Test Accuracy: 70.335% 588/836\n",
      "----------\n"
     ]
    }
   ],
   "source": [
    "# call test function    \n",
    "test(model_scratch, criterion_scratch)"
   ]
  },
  {
   "cell_type": "code",
   "execution_count": null,
   "id": "c580d995",
   "metadata": {},
   "outputs": [],
   "source": []
  }
 ],
 "metadata": {
  "kernelspec": {
   "display_name": "Python 3",
   "language": "python",
   "name": "python3"
  },
  "language_info": {
   "codemirror_mode": {
    "name": "ipython",
    "version": 3
   },
   "file_extension": ".py",
   "mimetype": "text/x-python",
   "name": "python",
   "nbconvert_exporter": "python",
   "pygments_lexer": "ipython3",
   "version": "3.9.4"
  }
 },
 "nbformat": 4,
 "nbformat_minor": 5
}
