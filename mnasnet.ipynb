{
 "cells": [
  {
   "cell_type": "code",
   "execution_count": 6,
   "id": "8b71f6ac",
   "metadata": {},
   "outputs": [
    {
     "name": "stdout",
     "output_type": "stream",
     "text": [
      "number of training images: 6680\n",
      "numbe of validation images: 835\n",
      "number of testing images: 836\n"
     ]
    }
   ],
   "source": [
    "import os\n",
    "import torch\n",
    "from torch.autograd import Variable\n",
    "import torchvision.datasets as dsets\n",
    "import torchvision.transforms as transforms\n",
    "import torch.nn.init\n",
    "from PIL import ImageFile\n",
    "\n",
    "\n",
    "ImageFile.LOAD_TRUNCATED_IMAGES = True\n",
    "\n",
    "torch.manual_seed(777)  # reproducibility\n",
    "\n",
    "# parameters\n",
    "total_dog_classes = 133\n",
    "learning_rate = 0.001\n",
    "batch_size = 10\n",
    "keep_prob = 0.7\n",
    "data_dir=\"./all_images/dogImages/\"\n",
    "TRAIN = 'train'\n",
    "VAL = 'valid'\n",
    "TEST = 'test'\n",
    "\n",
    "\n",
    "# TODO: Define your transforms for the training, validation, and testing sets\n",
    "data_transforms = {TRAIN: transforms.Compose([\n",
    "        transforms.RandomResizedCrop(224),    \n",
    "        transforms.RandomHorizontalFlip(),\n",
    "        transforms.ToTensor(),\n",
    "        transforms.Normalize([0.485, 0.456, 0.406], [0.229, 0.224, 0.225])\n",
    "    ]),\n",
    "                  VAL: transforms.Compose([\n",
    "        transforms.Resize(256),\n",
    "        transforms.CenterCrop(224),\n",
    "        transforms.ToTensor(),\n",
    "        transforms.Normalize([0.485, 0.456, 0.406], [0.229, 0.224, 0.225])\n",
    "    ]),\n",
    "                  TEST: transforms.Compose([\n",
    "        transforms.Resize(256),\n",
    "        transforms.CenterCrop(224),\n",
    "        transforms.ToTensor(),\n",
    "        transforms.Normalize([0.485, 0.456, 0.406], [0.229, 0.224, 0.225])\n",
    "    ])}\n",
    "\n",
    "image_datasets = {x: dsets.ImageFolder(os.path.join(data_dir, x), data_transforms[x]) for x in [TRAIN, VAL, TEST]}\n",
    "\n",
    "\n",
    "\n",
    "dataloaders = {x: torch.utils.data.DataLoader(image_datasets[x], batch_size=10,\n",
    "                                             shuffle=True, num_workers=0)\n",
    "              for x in [TRAIN, VAL, TEST]}\n",
    "\n",
    "dataset_sizes = {x: len(image_datasets[x]) for x in [TRAIN, VAL, TEST]}\n",
    "class_names = image_datasets[TRAIN].classes\n",
    "\n",
    "device = torch.device(\"cuda:0\" if torch.cuda.is_available() else \"cpu\")\n",
    "\n",
    "print(\"number of training images:\", len(image_datasets[TRAIN]))\n",
    "print(\"numbe of validation images:\", len(image_datasets[VAL]))\n",
    "print(\"number of testing images:\", len(image_datasets[TEST]))"
   ]
  },
  {
   "cell_type": "code",
   "execution_count": 17,
   "id": "ac0b3ee3",
   "metadata": {},
   "outputs": [],
   "source": [
    "import numpy as np\n",
    "import torch\n",
    "import torch.nn.functional as F\n",
    "from torch import nn\n",
    "\n",
    "class DropBlock2D(nn.Module):\n",
    "    r\"\"\"Randomly zeroes 2D spatial blocks of the input tensor.\n",
    "    As described in the paper\n",
    "    `DropBlock: A regularization method for convolutional networks`_ ,\n",
    "    dropping whole blocks of feature map allows to remove semantic\n",
    "    information as compared to regular dropout.\n",
    "    Args:\n",
    "        drop_prob (float): probability of an element to be dropped.\n",
    "        block_size (int): size of the block to drop\n",
    "    Shape:\n",
    "        - Input: `(N, C, H, W)`\n",
    "        - Output: `(N, C, H, W)`\n",
    "    .. _DropBlock: A regularization method for convolutional networks:\n",
    "       https://arxiv.org/abs/1810.12890\n",
    "    \"\"\"\n",
    "\n",
    "    def __init__(self, drop_prob, block_size):\n",
    "        super(DropBlock2D, self).__init__()\n",
    "\n",
    "        self.drop_prob = drop_prob\n",
    "        self.block_size = block_size\n",
    "\n",
    "    def forward(self, x):\n",
    "        # shape: (bsize, channels, height, width)\n",
    "\n",
    "        assert x.dim() == 4, \\\n",
    "            \"Expected input with 4 dimensions (bsize, channels, height, width)\"\n",
    "\n",
    "        if not self.training or self.drop_prob == 0.:\n",
    "            return x\n",
    "        else:\n",
    "            # get gamma value\n",
    "            gamma = self._compute_gamma(x)\n",
    "\n",
    "            # sample mask and place on input device\n",
    "            mask = (torch.rand(x.shape[0], *x.shape[2:]) < gamma).to(x)\n",
    "\n",
    "            # compute block mask\n",
    "            block_mask = self._compute_block_mask(mask)\n",
    "\n",
    "            # apply block mask\n",
    "            out = x * block_mask[:, None, :, :]\n",
    "\n",
    "            # scale output\n",
    "            out = out * block_mask.numel() / block_mask.sum()\n",
    "\n",
    "            return out\n",
    "\n",
    "    def _compute_block_mask(self, mask):\n",
    "        block_mask = F.max_pool2d(input=mask[:, None, :, :],\n",
    "                                  kernel_size=(self.block_size, self.block_size),\n",
    "                                  stride=(1, 1),\n",
    "                                  padding=self.block_size // 2)\n",
    "\n",
    "        if self.block_size % 2 == 0:\n",
    "            block_mask = block_mask[:, :, :-1, :-1]\n",
    "\n",
    "        block_mask = 1 - block_mask.squeeze(1)\n",
    "\n",
    "        return block_mask\n",
    "\n",
    "    def _compute_gamma(self, x):\n",
    "        return self.drop_prob / (self.block_size ** 2)\n",
    "    \n",
    "class DropBlockScheduled(nn.Module):\n",
    "    def __init__(self, dropblock, start_value, stop_value, nr_steps):\n",
    "        super(DropBlockScheduled, self).__init__()\n",
    "        self.dropblock = dropblock\n",
    "        self.i = 0\n",
    "        self.drop_values = np.linspace(start=start_value, stop=stop_value, num=int(nr_steps))\n",
    "\n",
    "    def forward(self, x):\n",
    "        if self.training:\n",
    "            self.step()\n",
    "        return self.dropblock(x)\n",
    "\n",
    "    def step(self):\n",
    "        if self.i < len(self.drop_values):\n",
    "            self.dropblock.drop_prob = self.drop_values[self.i]\n",
    "\n",
    "        self.i += 1"
   ]
  },
  {
   "cell_type": "code",
   "execution_count": 18,
   "id": "015d5a1e",
   "metadata": {},
   "outputs": [
    {
     "name": "stdout",
     "output_type": "stream",
     "text": [
      "MnasNet(\n",
      "  (features): Sequential(\n",
      "    (0): Sequential(\n",
      "      (0): Conv2d(3, 32, kernel_size=(3, 3), stride=(2, 2), padding=(1, 1), bias=False)\n",
      "      (1): BatchNorm2d(32, eps=1e-05, momentum=0.1, affine=True, track_running_stats=True)\n",
      "      (2): ReLU6(inplace=True)\n",
      "    )\n",
      "    (1): Sequential(\n",
      "      (0): Conv2d(32, 32, kernel_size=(3, 3), stride=(1, 1), padding=(1, 1), groups=32, bias=False)\n",
      "      (1): BatchNorm2d(32, eps=1e-05, momentum=0.1, affine=True, track_running_stats=True)\n",
      "      (2): ReLU6(inplace=True)\n",
      "      (3): Conv2d(32, 16, kernel_size=(1, 1), stride=(1, 1), bias=False)\n",
      "      (4): BatchNorm2d(16, eps=1e-05, momentum=0.1, affine=True, track_running_stats=True)\n",
      "    )\n",
      "    (2): InvertedResidual(\n",
      "      (conv): Sequential(\n",
      "        (0): Conv2d(16, 48, kernel_size=(1, 1), stride=(1, 1), bias=False)\n",
      "        (1): BatchNorm2d(48, eps=1e-05, momentum=0.1, affine=True, track_running_stats=True)\n",
      "        (2): DropBlockScheduled(\n",
      "          (dropblock): DropBlock2D()\n",
      "        )\n",
      "        (3): ReLU6(inplace=True)\n",
      "        (4): Conv2d(48, 48, kernel_size=(3, 3), stride=(2, 2), padding=(1, 1), groups=48, bias=False)\n",
      "        (5): BatchNorm2d(48, eps=1e-05, momentum=0.1, affine=True, track_running_stats=True)\n",
      "        (6): DropBlockScheduled(\n",
      "          (dropblock): DropBlock2D()\n",
      "        )\n",
      "        (7): ReLU6(inplace=True)\n",
      "        (8): Conv2d(48, 24, kernel_size=(1, 1), stride=(1, 1), bias=False)\n",
      "        (9): BatchNorm2d(24, eps=1e-05, momentum=0.1, affine=True, track_running_stats=True)\n",
      "        (10): DropBlockScheduled(\n",
      "          (dropblock): DropBlock2D()\n",
      "        )\n",
      "      )\n",
      "    )\n",
      "    (3): InvertedResidual(\n",
      "      (conv): Sequential(\n",
      "        (0): Conv2d(24, 72, kernel_size=(1, 1), stride=(1, 1), bias=False)\n",
      "        (1): BatchNorm2d(72, eps=1e-05, momentum=0.1, affine=True, track_running_stats=True)\n",
      "        (2): DropBlockScheduled(\n",
      "          (dropblock): DropBlock2D()\n",
      "        )\n",
      "        (3): ReLU6(inplace=True)\n",
      "        (4): Conv2d(72, 72, kernel_size=(3, 3), stride=(1, 1), padding=(1, 1), groups=72, bias=False)\n",
      "        (5): BatchNorm2d(72, eps=1e-05, momentum=0.1, affine=True, track_running_stats=True)\n",
      "        (6): DropBlockScheduled(\n",
      "          (dropblock): DropBlock2D()\n",
      "        )\n",
      "        (7): ReLU6(inplace=True)\n",
      "        (8): Conv2d(72, 24, kernel_size=(1, 1), stride=(1, 1), bias=False)\n",
      "        (9): BatchNorm2d(24, eps=1e-05, momentum=0.1, affine=True, track_running_stats=True)\n",
      "        (10): DropBlockScheduled(\n",
      "          (dropblock): DropBlock2D()\n",
      "        )\n",
      "      )\n",
      "      (skip_drop): DropBlockScheduled(\n",
      "        (dropblock): DropBlock2D()\n",
      "      )\n",
      "    )\n",
      "    (4): InvertedResidual(\n",
      "      (conv): Sequential(\n",
      "        (0): Conv2d(24, 72, kernel_size=(1, 1), stride=(1, 1), bias=False)\n",
      "        (1): BatchNorm2d(72, eps=1e-05, momentum=0.1, affine=True, track_running_stats=True)\n",
      "        (2): DropBlockScheduled(\n",
      "          (dropblock): DropBlock2D()\n",
      "        )\n",
      "        (3): ReLU6(inplace=True)\n",
      "        (4): Conv2d(72, 72, kernel_size=(3, 3), stride=(1, 1), padding=(1, 1), groups=72, bias=False)\n",
      "        (5): BatchNorm2d(72, eps=1e-05, momentum=0.1, affine=True, track_running_stats=True)\n",
      "        (6): DropBlockScheduled(\n",
      "          (dropblock): DropBlock2D()\n",
      "        )\n",
      "        (7): ReLU6(inplace=True)\n",
      "        (8): Conv2d(72, 24, kernel_size=(1, 1), stride=(1, 1), bias=False)\n",
      "        (9): BatchNorm2d(24, eps=1e-05, momentum=0.1, affine=True, track_running_stats=True)\n",
      "        (10): DropBlockScheduled(\n",
      "          (dropblock): DropBlock2D()\n",
      "        )\n",
      "      )\n",
      "      (skip_drop): DropBlockScheduled(\n",
      "        (dropblock): DropBlock2D()\n",
      "      )\n",
      "    )\n",
      "    (5): InvertedResidual(\n",
      "      (conv): Sequential(\n",
      "        (0): Conv2d(24, 72, kernel_size=(1, 1), stride=(1, 1), bias=False)\n",
      "        (1): BatchNorm2d(72, eps=1e-05, momentum=0.1, affine=True, track_running_stats=True)\n",
      "        (2): DropBlockScheduled(\n",
      "          (dropblock): DropBlock2D()\n",
      "        )\n",
      "        (3): ReLU6(inplace=True)\n",
      "        (4): Conv2d(72, 72, kernel_size=(5, 5), stride=(2, 2), padding=(2, 2), groups=72, bias=False)\n",
      "        (5): BatchNorm2d(72, eps=1e-05, momentum=0.1, affine=True, track_running_stats=True)\n",
      "        (6): DropBlockScheduled(\n",
      "          (dropblock): DropBlock2D()\n",
      "        )\n",
      "        (7): ReLU6(inplace=True)\n",
      "        (8): Conv2d(72, 40, kernel_size=(1, 1), stride=(1, 1), bias=False)\n",
      "        (9): BatchNorm2d(40, eps=1e-05, momentum=0.1, affine=True, track_running_stats=True)\n",
      "        (10): DropBlockScheduled(\n",
      "          (dropblock): DropBlock2D()\n",
      "        )\n",
      "      )\n",
      "    )\n",
      "    (6): InvertedResidual(\n",
      "      (conv): Sequential(\n",
      "        (0): Conv2d(40, 120, kernel_size=(1, 1), stride=(1, 1), bias=False)\n",
      "        (1): BatchNorm2d(120, eps=1e-05, momentum=0.1, affine=True, track_running_stats=True)\n",
      "        (2): DropBlockScheduled(\n",
      "          (dropblock): DropBlock2D()\n",
      "        )\n",
      "        (3): ReLU6(inplace=True)\n",
      "        (4): Conv2d(120, 120, kernel_size=(5, 5), stride=(1, 1), padding=(2, 2), groups=120, bias=False)\n",
      "        (5): BatchNorm2d(120, eps=1e-05, momentum=0.1, affine=True, track_running_stats=True)\n",
      "        (6): DropBlockScheduled(\n",
      "          (dropblock): DropBlock2D()\n",
      "        )\n",
      "        (7): ReLU6(inplace=True)\n",
      "        (8): Conv2d(120, 40, kernel_size=(1, 1), stride=(1, 1), bias=False)\n",
      "        (9): BatchNorm2d(40, eps=1e-05, momentum=0.1, affine=True, track_running_stats=True)\n",
      "        (10): DropBlockScheduled(\n",
      "          (dropblock): DropBlock2D()\n",
      "        )\n",
      "      )\n",
      "      (skip_drop): DropBlockScheduled(\n",
      "        (dropblock): DropBlock2D()\n",
      "      )\n",
      "    )\n",
      "    (7): InvertedResidual(\n",
      "      (conv): Sequential(\n",
      "        (0): Conv2d(40, 120, kernel_size=(1, 1), stride=(1, 1), bias=False)\n",
      "        (1): BatchNorm2d(120, eps=1e-05, momentum=0.1, affine=True, track_running_stats=True)\n",
      "        (2): DropBlockScheduled(\n",
      "          (dropblock): DropBlock2D()\n",
      "        )\n",
      "        (3): ReLU6(inplace=True)\n",
      "        (4): Conv2d(120, 120, kernel_size=(5, 5), stride=(1, 1), padding=(2, 2), groups=120, bias=False)\n",
      "        (5): BatchNorm2d(120, eps=1e-05, momentum=0.1, affine=True, track_running_stats=True)\n",
      "        (6): DropBlockScheduled(\n",
      "          (dropblock): DropBlock2D()\n",
      "        )\n",
      "        (7): ReLU6(inplace=True)\n",
      "        (8): Conv2d(120, 40, kernel_size=(1, 1), stride=(1, 1), bias=False)\n",
      "        (9): BatchNorm2d(40, eps=1e-05, momentum=0.1, affine=True, track_running_stats=True)\n",
      "        (10): DropBlockScheduled(\n",
      "          (dropblock): DropBlock2D()\n",
      "        )\n",
      "      )\n",
      "      (skip_drop): DropBlockScheduled(\n",
      "        (dropblock): DropBlock2D()\n",
      "      )\n",
      "    )\n",
      "    (8): InvertedResidual(\n",
      "      (conv): Sequential(\n",
      "        (0): Conv2d(40, 240, kernel_size=(1, 1), stride=(1, 1), bias=False)\n",
      "        (1): BatchNorm2d(240, eps=1e-05, momentum=0.1, affine=True, track_running_stats=True)\n",
      "        (2): DropBlockScheduled(\n",
      "          (dropblock): DropBlock2D()\n",
      "        )\n",
      "        (3): ReLU6(inplace=True)\n",
      "        (4): Conv2d(240, 240, kernel_size=(5, 5), stride=(2, 2), padding=(2, 2), groups=240, bias=False)\n",
      "        (5): BatchNorm2d(240, eps=1e-05, momentum=0.1, affine=True, track_running_stats=True)\n",
      "        (6): DropBlockScheduled(\n",
      "          (dropblock): DropBlock2D()\n",
      "        )\n",
      "        (7): ReLU6(inplace=True)\n",
      "        (8): Conv2d(240, 80, kernel_size=(1, 1), stride=(1, 1), bias=False)\n",
      "        (9): BatchNorm2d(80, eps=1e-05, momentum=0.1, affine=True, track_running_stats=True)\n",
      "        (10): DropBlockScheduled(\n",
      "          (dropblock): DropBlock2D()\n",
      "        )\n",
      "      )\n",
      "    )\n",
      "    (9): InvertedResidual(\n",
      "      (conv): Sequential(\n",
      "        (0): Conv2d(80, 480, kernel_size=(1, 1), stride=(1, 1), bias=False)\n",
      "        (1): BatchNorm2d(480, eps=1e-05, momentum=0.1, affine=True, track_running_stats=True)\n",
      "        (2): DropBlockScheduled(\n",
      "          (dropblock): DropBlock2D()\n",
      "        )\n",
      "        (3): ReLU6(inplace=True)\n",
      "        (4): Conv2d(480, 480, kernel_size=(5, 5), stride=(1, 1), padding=(2, 2), groups=480, bias=False)\n",
      "        (5): BatchNorm2d(480, eps=1e-05, momentum=0.1, affine=True, track_running_stats=True)\n",
      "        (6): DropBlockScheduled(\n",
      "          (dropblock): DropBlock2D()\n",
      "        )\n",
      "        (7): ReLU6(inplace=True)\n",
      "        (8): Conv2d(480, 80, kernel_size=(1, 1), stride=(1, 1), bias=False)\n",
      "        (9): BatchNorm2d(80, eps=1e-05, momentum=0.1, affine=True, track_running_stats=True)\n",
      "        (10): DropBlockScheduled(\n",
      "          (dropblock): DropBlock2D()\n",
      "        )\n",
      "      )\n",
      "      (skip_drop): DropBlockScheduled(\n",
      "        (dropblock): DropBlock2D()\n",
      "      )\n",
      "    )\n",
      "    (10): InvertedResidual(\n",
      "      (conv): Sequential(\n",
      "        (0): Conv2d(80, 480, kernel_size=(1, 1), stride=(1, 1), bias=False)\n",
      "        (1): BatchNorm2d(480, eps=1e-05, momentum=0.1, affine=True, track_running_stats=True)\n",
      "        (2): DropBlockScheduled(\n",
      "          (dropblock): DropBlock2D()\n",
      "        )\n",
      "        (3): ReLU6(inplace=True)\n",
      "        (4): Conv2d(480, 480, kernel_size=(5, 5), stride=(1, 1), padding=(2, 2), groups=480, bias=False)\n",
      "        (5): BatchNorm2d(480, eps=1e-05, momentum=0.1, affine=True, track_running_stats=True)\n",
      "        (6): DropBlockScheduled(\n",
      "          (dropblock): DropBlock2D()\n",
      "        )\n",
      "        (7): ReLU6(inplace=True)\n",
      "        (8): Conv2d(480, 80, kernel_size=(1, 1), stride=(1, 1), bias=False)\n",
      "        (9): BatchNorm2d(80, eps=1e-05, momentum=0.1, affine=True, track_running_stats=True)\n",
      "        (10): DropBlockScheduled(\n",
      "          (dropblock): DropBlock2D()\n",
      "        )\n",
      "      )\n",
      "      (skip_drop): DropBlockScheduled(\n",
      "        (dropblock): DropBlock2D()\n",
      "      )\n",
      "    )\n",
      "    (11): InvertedResidual(\n",
      "      (conv): Sequential(\n",
      "        (0): Conv2d(80, 480, kernel_size=(1, 1), stride=(1, 1), bias=False)\n",
      "        (1): BatchNorm2d(480, eps=1e-05, momentum=0.1, affine=True, track_running_stats=True)\n",
      "        (2): DropBlockScheduled(\n",
      "          (dropblock): DropBlock2D()\n",
      "        )\n",
      "        (3): ReLU6(inplace=True)\n",
      "        (4): Conv2d(480, 480, kernel_size=(3, 3), stride=(1, 1), padding=(1, 1), groups=480, bias=False)\n",
      "        (5): BatchNorm2d(480, eps=1e-05, momentum=0.1, affine=True, track_running_stats=True)\n",
      "        (6): DropBlockScheduled(\n",
      "          (dropblock): DropBlock2D()\n",
      "        )\n",
      "        (7): ReLU6(inplace=True)\n",
      "        (8): Conv2d(480, 96, kernel_size=(1, 1), stride=(1, 1), bias=False)\n",
      "        (9): BatchNorm2d(96, eps=1e-05, momentum=0.1, affine=True, track_running_stats=True)\n",
      "        (10): DropBlockScheduled(\n",
      "          (dropblock): DropBlock2D()\n",
      "        )\n",
      "      )\n",
      "    )\n",
      "    (12): InvertedResidual(\n",
      "      (conv): Sequential(\n",
      "        (0): Conv2d(96, 576, kernel_size=(1, 1), stride=(1, 1), bias=False)\n",
      "        (1): BatchNorm2d(576, eps=1e-05, momentum=0.1, affine=True, track_running_stats=True)\n",
      "        (2): DropBlockScheduled(\n",
      "          (dropblock): DropBlock2D()\n",
      "        )\n",
      "        (3): ReLU6(inplace=True)\n",
      "        (4): Conv2d(576, 576, kernel_size=(3, 3), stride=(1, 1), padding=(1, 1), groups=576, bias=False)\n",
      "        (5): BatchNorm2d(576, eps=1e-05, momentum=0.1, affine=True, track_running_stats=True)\n",
      "        (6): DropBlockScheduled(\n",
      "          (dropblock): DropBlock2D()\n",
      "        )\n",
      "        (7): ReLU6(inplace=True)\n",
      "        (8): Conv2d(576, 96, kernel_size=(1, 1), stride=(1, 1), bias=False)\n",
      "        (9): BatchNorm2d(96, eps=1e-05, momentum=0.1, affine=True, track_running_stats=True)\n",
      "        (10): DropBlockScheduled(\n",
      "          (dropblock): DropBlock2D()\n",
      "        )\n",
      "      )\n",
      "      (skip_drop): DropBlockScheduled(\n",
      "        (dropblock): DropBlock2D()\n",
      "      )\n",
      "    )\n",
      "    (13): InvertedResidual(\n",
      "      (conv): Sequential(\n",
      "        (0): Conv2d(96, 576, kernel_size=(1, 1), stride=(1, 1), bias=False)\n",
      "        (1): BatchNorm2d(576, eps=1e-05, momentum=0.1, affine=True, track_running_stats=True)\n",
      "        (2): DropBlockScheduled(\n",
      "          (dropblock): DropBlock2D()\n",
      "        )\n",
      "        (3): ReLU6(inplace=True)\n",
      "        (4): Conv2d(576, 576, kernel_size=(5, 5), stride=(2, 2), padding=(2, 2), groups=576, bias=False)\n",
      "        (5): BatchNorm2d(576, eps=1e-05, momentum=0.1, affine=True, track_running_stats=True)\n",
      "        (6): DropBlockScheduled(\n",
      "          (dropblock): DropBlock2D()\n",
      "        )\n",
      "        (7): ReLU6(inplace=True)\n",
      "        (8): Conv2d(576, 192, kernel_size=(1, 1), stride=(1, 1), bias=False)\n",
      "        (9): BatchNorm2d(192, eps=1e-05, momentum=0.1, affine=True, track_running_stats=True)\n",
      "        (10): DropBlockScheduled(\n",
      "          (dropblock): DropBlock2D()\n",
      "        )\n",
      "      )\n",
      "    )\n",
      "    (14): InvertedResidual(\n",
      "      (conv): Sequential(\n",
      "        (0): Conv2d(192, 1152, kernel_size=(1, 1), stride=(1, 1), bias=False)\n",
      "        (1): BatchNorm2d(1152, eps=1e-05, momentum=0.1, affine=True, track_running_stats=True)\n",
      "        (2): DropBlockScheduled(\n",
      "          (dropblock): DropBlock2D()\n",
      "        )\n",
      "        (3): ReLU6(inplace=True)\n",
      "        (4): Conv2d(1152, 1152, kernel_size=(5, 5), stride=(1, 1), padding=(2, 2), groups=1152, bias=False)\n",
      "        (5): BatchNorm2d(1152, eps=1e-05, momentum=0.1, affine=True, track_running_stats=True)\n",
      "        (6): DropBlockScheduled(\n",
      "          (dropblock): DropBlock2D()\n",
      "        )\n",
      "        (7): ReLU6(inplace=True)\n",
      "        (8): Conv2d(1152, 192, kernel_size=(1, 1), stride=(1, 1), bias=False)\n",
      "        (9): BatchNorm2d(192, eps=1e-05, momentum=0.1, affine=True, track_running_stats=True)\n",
      "        (10): DropBlockScheduled(\n",
      "          (dropblock): DropBlock2D()\n",
      "        )\n",
      "      )\n",
      "      (skip_drop): DropBlockScheduled(\n",
      "        (dropblock): DropBlock2D()\n",
      "      )\n",
      "    )\n",
      "    (15): InvertedResidual(\n",
      "      (conv): Sequential(\n",
      "        (0): Conv2d(192, 1152, kernel_size=(1, 1), stride=(1, 1), bias=False)\n",
      "        (1): BatchNorm2d(1152, eps=1e-05, momentum=0.1, affine=True, track_running_stats=True)\n",
      "        (2): DropBlockScheduled(\n",
      "          (dropblock): DropBlock2D()\n",
      "        )\n",
      "        (3): ReLU6(inplace=True)\n",
      "        (4): Conv2d(1152, 1152, kernel_size=(5, 5), stride=(1, 1), padding=(2, 2), groups=1152, bias=False)\n",
      "        (5): BatchNorm2d(1152, eps=1e-05, momentum=0.1, affine=True, track_running_stats=True)\n",
      "        (6): DropBlockScheduled(\n",
      "          (dropblock): DropBlock2D()\n",
      "        )\n",
      "        (7): ReLU6(inplace=True)\n",
      "        (8): Conv2d(1152, 192, kernel_size=(1, 1), stride=(1, 1), bias=False)\n",
      "        (9): BatchNorm2d(192, eps=1e-05, momentum=0.1, affine=True, track_running_stats=True)\n",
      "        (10): DropBlockScheduled(\n",
      "          (dropblock): DropBlock2D()\n",
      "        )\n",
      "      )\n",
      "      (skip_drop): DropBlockScheduled(\n",
      "        (dropblock): DropBlock2D()\n",
      "      )\n",
      "    )\n",
      "    (16): InvertedResidual(\n",
      "      (conv): Sequential(\n",
      "        (0): Conv2d(192, 1152, kernel_size=(1, 1), stride=(1, 1), bias=False)\n",
      "        (1): BatchNorm2d(1152, eps=1e-05, momentum=0.1, affine=True, track_running_stats=True)\n",
      "        (2): DropBlockScheduled(\n",
      "          (dropblock): DropBlock2D()\n",
      "        )\n",
      "        (3): ReLU6(inplace=True)\n",
      "        (4): Conv2d(1152, 1152, kernel_size=(5, 5), stride=(1, 1), padding=(2, 2), groups=1152, bias=False)\n",
      "        (5): BatchNorm2d(1152, eps=1e-05, momentum=0.1, affine=True, track_running_stats=True)\n",
      "        (6): DropBlockScheduled(\n",
      "          (dropblock): DropBlock2D()\n",
      "        )\n",
      "        (7): ReLU6(inplace=True)\n",
      "        (8): Conv2d(1152, 192, kernel_size=(1, 1), stride=(1, 1), bias=False)\n",
      "        (9): BatchNorm2d(192, eps=1e-05, momentum=0.1, affine=True, track_running_stats=True)\n",
      "        (10): DropBlockScheduled(\n",
      "          (dropblock): DropBlock2D()\n",
      "        )\n",
      "      )\n",
      "      (skip_drop): DropBlockScheduled(\n",
      "        (dropblock): DropBlock2D()\n",
      "      )\n",
      "    )\n",
      "    (17): InvertedResidual(\n",
      "      (conv): Sequential(\n",
      "        (0): Conv2d(192, 1152, kernel_size=(1, 1), stride=(1, 1), bias=False)\n",
      "        (1): BatchNorm2d(1152, eps=1e-05, momentum=0.1, affine=True, track_running_stats=True)\n",
      "        (2): DropBlockScheduled(\n",
      "          (dropblock): DropBlock2D()\n",
      "        )\n",
      "        (3): ReLU6(inplace=True)\n",
      "        (4): Conv2d(1152, 1152, kernel_size=(3, 3), stride=(1, 1), padding=(1, 1), groups=1152, bias=False)\n",
      "        (5): BatchNorm2d(1152, eps=1e-05, momentum=0.1, affine=True, track_running_stats=True)\n",
      "        (6): DropBlockScheduled(\n",
      "          (dropblock): DropBlock2D()\n",
      "        )\n",
      "        (7): ReLU6(inplace=True)\n",
      "        (8): Conv2d(1152, 320, kernel_size=(1, 1), stride=(1, 1), bias=False)\n",
      "        (9): BatchNorm2d(320, eps=1e-05, momentum=0.1, affine=True, track_running_stats=True)\n",
      "        (10): DropBlockScheduled(\n",
      "          (dropblock): DropBlock2D()\n",
      "        )\n",
      "      )\n",
      "    )\n",
      "    (18): Sequential(\n",
      "      (0): Conv2d(320, 1280, kernel_size=(1, 1), stride=(1, 1), bias=False)\n",
      "      (1): BatchNorm2d(1280, eps=1e-05, momentum=0.1, affine=True, track_running_stats=True)\n",
      "      (2): ReLU6(inplace=True)\n",
      "    )\n",
      "    (19): AdaptiveAvgPool2d(output_size=1)\n",
      "  )\n",
      "  (classifier): Sequential(\n",
      "    (0): Dropout(p=0.0, inplace=False)\n",
      "    (1): Linear(in_features=1280, out_features=133, bias=True)\n",
      "  )\n",
      ")\n"
     ]
    }
   ],
   "source": [
    "import torch\n",
    "import torch.nn as nn\n",
    "from torch.autograd import Variable\n",
    "\n",
    "def Conv_3x3(inp, oup, stride, activation=nn.ReLU6, act_params={\"inplace\": True}):\n",
    "    return nn.Sequential(\n",
    "        nn.Conv2d(inp, oup, 3, stride, 1, bias=False),\n",
    "        nn.BatchNorm2d(oup),\n",
    "        activation(**act_params)\n",
    "    )\n",
    "\n",
    "\n",
    "def Conv_1x1(inp, oup, activation=nn.ReLU6, act_params={\"inplace\": True}):\n",
    "    return nn.Sequential(\n",
    "        nn.Conv2d(inp, oup, 1, 1, 0, bias=False),\n",
    "        nn.BatchNorm2d(oup),\n",
    "        activation(**act_params)\n",
    "    )\n",
    "\n",
    "\n",
    "def SepConv_3x3(inp, oup, activation=nn.ReLU6, act_params={\"inplace\": True}):  # input=32, output=16\n",
    "    return nn.Sequential(\n",
    "        # dw\n",
    "        nn.Conv2d(inp, inp, 3, 1, 1, groups=inp, bias=False),\n",
    "        nn.BatchNorm2d(inp),\n",
    "        activation(**act_params),\n",
    "        # pw-linear\n",
    "        nn.Conv2d(inp, oup, 1, 1, 0, bias=False),\n",
    "        nn.BatchNorm2d(oup),\n",
    "    )\n",
    "\n",
    "\n",
    "class InvertedResidual(nn.Module):\n",
    "    def __init__(self, inp, oup, stride, expand_ratio, kernel, drop_prob=0.0, num_steps=3e5, activation=nn.ReLU6,\n",
    "                 act_params={\"inplace\": True}):\n",
    "        super(InvertedResidual, self).__init__()\n",
    "        self.stride = stride\n",
    "        assert stride in [1, 2]\n",
    "\n",
    "        self.use_res_connect = self.stride == 1 and inp == oup\n",
    "\n",
    "        self.conv = nn.Sequential(\n",
    "            # pw\n",
    "            nn.Conv2d(inp, inp * expand_ratio, 1, 1, 0, bias=False),\n",
    "            nn.BatchNorm2d(inp * expand_ratio),\n",
    "            DropBlockScheduled(\n",
    "                DropBlock2D(drop_prob=drop_prob, block_size=7),\n",
    "                start_value=0.,\n",
    "                stop_value=drop_prob,\n",
    "                nr_steps=num_steps),\n",
    "            activation(**act_params),\n",
    "            # dw\n",
    "            nn.Conv2d(inp * expand_ratio, inp * expand_ratio, kernel, stride, kernel // 2, groups=inp * expand_ratio,\n",
    "                      bias=False),\n",
    "            nn.BatchNorm2d(inp * expand_ratio),\n",
    "            DropBlockScheduled(\n",
    "                DropBlock2D(drop_prob=drop_prob, block_size=7),\n",
    "                start_value=0.,\n",
    "                stop_value=drop_prob,\n",
    "                nr_steps=num_steps),\n",
    "            activation(**act_params),\n",
    "            # pw-linear\n",
    "            nn.Conv2d(inp * expand_ratio, oup, 1, 1, 0, bias=False),\n",
    "            nn.BatchNorm2d(oup),\n",
    "            DropBlockScheduled(\n",
    "                DropBlock2D(drop_prob=drop_prob, block_size=7),\n",
    "                start_value=0.,\n",
    "                stop_value=drop_prob,\n",
    "                nr_steps=num_steps),\n",
    "        )\n",
    "        if self.use_res_connect:\n",
    "            self.skip_drop = DropBlockScheduled(\n",
    "                DropBlock2D(drop_prob=drop_prob, block_size=7),\n",
    "                start_value=0.,\n",
    "                stop_value=drop_prob,\n",
    "                nr_steps=num_steps)\n",
    "\n",
    "    def forward(self, x):\n",
    "        if self.use_res_connect:\n",
    "            return self.skip_drop(x + self.conv(x))\n",
    "        else:\n",
    "            return self.conv(x)\n",
    "\n",
    "\n",
    "class MnasNet(nn.Module):\n",
    "    def __init__(self, n_class=total_dog_classes, input_size=224, width_mult=1., drop_prob=0.0, num_steps=3e5, activation=nn.ReLU6,\n",
    "                 act_params={\"inplace\": True}):\n",
    "        super(MnasNet, self).__init__()\n",
    "\n",
    "        self.activation = activation\n",
    "        self.act_params = act_params\n",
    "\n",
    "        # setting of inverted residual blocks\n",
    "        self.interverted_residual_setting = [\n",
    "            # t, c, n, s, k, dp\n",
    "            [3, 24, 3, 2, 3, 0],  # -> 56x56\n",
    "            [3, 40, 3, 2, 5, 0],  # -> 28x28\n",
    "            [6, 80, 3, 2, 5, 0],  # -> 14x14\n",
    "            [6, 96, 2, 1, 3, drop_prob],  # -> 14x14\n",
    "            [6, 192, 4, 2, 5, drop_prob],  # -> 7x7\n",
    "            [6, 320, 1, 1, 3, drop_prob],  # -> 7x7\n",
    "        ]\n",
    "        self.num_steps = num_steps\n",
    "\n",
    "        assert input_size % 32 == 0\n",
    "        input_channel = int(32 * width_mult)\n",
    "        self.last_channel = int(1280 * width_mult) if width_mult > 1.0 else 1280\n",
    "\n",
    "        # building first two layer\n",
    "        self.features = [Conv_3x3(3, input_channel, 2, self.activation, self.act_params),\n",
    "                         SepConv_3x3(input_channel, 16, self.activation, self.act_params)]\n",
    "        input_channel = 16\n",
    "\n",
    "        # building inverted residual blocks (MBConv)\n",
    "        for t, c, n, s, k, dp in self.interverted_residual_setting:\n",
    "            output_channel = int(c * width_mult)\n",
    "            for i in range(n):\n",
    "                if i == 0:\n",
    "                    self.features.append(InvertedResidual(input_channel, output_channel, s, t, k, dp, self.num_steps,\n",
    "                                                          self.activation, self.act_params))\n",
    "                else:\n",
    "                    self.features.append(InvertedResidual(input_channel, output_channel, 1, t, k, dp, self.num_steps,\n",
    "                                                          self.activation, self.act_params))\n",
    "                input_channel = output_channel\n",
    "\n",
    "        # building last several layers\n",
    "        self.features.append(Conv_1x1(input_channel, self.last_channel, self.activation, self.act_params))\n",
    "        self.features.append(nn.AdaptiveAvgPool2d(1))\n",
    "\n",
    "        # make it nn.Sequential\n",
    "        self.features = nn.Sequential(*self.features)\n",
    "\n",
    "        # building classifier\n",
    "        self.classifier = nn.Sequential(\n",
    "            nn.Dropout(0.0),  # TODO\n",
    "            nn.Linear(self.last_channel, n_class),\n",
    "        )\n",
    "\n",
    "    def forward(self, x):\n",
    "        x = self.features(x)\n",
    "        x = x.view(-1, self.last_channel)\n",
    "        x = self.classifier(x)\n",
    "        return x\n",
    "                \n",
    "model_scratch = MnasNet()\n",
    "\n",
    "print(model_scratch)\n",
    "\n",
    "# move tensors to GPU if CUDA is available\n",
    "use_cuda = torch.cuda.is_available()\n",
    "if use_cuda:\n",
    "    model_scratch.cuda()\n",
    "else:\n",
    "    print(\"cuda is not available.\")"
   ]
  },
  {
   "cell_type": "code",
   "execution_count": 19,
   "id": "2efa44ce",
   "metadata": {},
   "outputs": [],
   "source": [
    "import torch.optim as optim\n",
    "from torch.optim import lr_scheduler\n",
    "### TODO: select loss function\n",
    "criterion_scratch = nn.CrossEntropyLoss()\n",
    "\n",
    "### TODO: select optimizer\n",
    "optimizer_scratch = optim.SGD(model_scratch.parameters(), lr=learning_rate, momentum=0.9)\n",
    "exp_lr_scheduler = lr_scheduler.StepLR(optimizer_scratch, step_size = 7, gamma=0.1)"
   ]
  },
  {
   "cell_type": "code",
   "execution_count": 20,
   "id": "b32a0be2",
   "metadata": {},
   "outputs": [],
   "source": [
    "import matplotlib.pyplot as plt\n",
    "from PIL import ImageFile\n",
    "import numpy as np\n",
    "import time\n",
    "import copy\n",
    "\n",
    "%matplotlib inline\n",
    "ImageFile.LOAD_TRUNCATED_IMAGES = True\n",
    "\n",
    "from tqdm import tqdm\n",
    "import torch\n",
    "\n",
    "batch_size = 10\n",
    "train_data = image_datasets[TRAIN]\n",
    "test_data = image_datasets[TEST]\n",
    "# dataloaders\n",
    "train_data_loader = dataloaders[TRAIN]\n",
    "valid_data_loader = dataloaders[VAL]\n",
    "\n",
    "# training function\n",
    "def fit(model, dataloader, optimizer, criterion, train_data, device, use_amp):\n",
    "    print('Training')\n",
    "    if use_amp == 'yes':\n",
    "        scaler = torch.cuda.amp.GradScaler() \n",
    "    model.train()\n",
    "    train_running_loss = 0.0\n",
    "    train_running_correct = 0\n",
    "    for i, (image,target) in tqdm(enumerate(dataloader), total=int(len(train_data)/batch_size)):\n",
    "        image, target = image.to(device), target.to(device)\n",
    "        optimizer.zero_grad()\n",
    "        \n",
    "        if use_amp == 'yes':\n",
    "            with torch.cuda.amp.autocast():\n",
    "                outputs = model(image)\n",
    "                loss = criterion(outputs, target)\n",
    "        \n",
    "        elif use_amp == 'no':\n",
    "            outputs = model(image)\n",
    "            loss = criterion(outputs, target)\n",
    "            \n",
    "        train_running_loss += (1/(i+1))*(loss.item() - train_running_loss)\n",
    "        _, preds = torch.max(outputs, 1)\n",
    "        train_running_correct += (preds == target).sum().item()\n",
    "        \n",
    "        if use_amp == 'yes':\n",
    "            scaler.scale(loss).backward()\n",
    "            scaler.step(optimizer)\n",
    "            scaler.update()\n",
    "        \n",
    "        elif use_amp == 'no':\n",
    "            loss.backward()\n",
    "            optimizer.step()\n",
    "        \n",
    "    train_loss = train_running_loss\n",
    "    train_accuracy = 100. * train_running_correct/dataset_sizes[TRAIN]    \n",
    "    return train_loss, train_accuracy\n",
    "\n",
    "# validation function\n",
    "def validate(model, dataloader, optimizer, criterion, val_data, device, use_amp):\n",
    "    print('Validating')\n",
    "    if use_amp == True:\n",
    "        scaler = torch.cuda.amp.GradScaler() \n",
    "        \n",
    "    model.eval()\n",
    "    val_running_loss = 0.0\n",
    "    val_running_correct = 0\n",
    "    with torch.no_grad():\n",
    "        for i, (image,target) in tqdm(enumerate(dataloader), total=int(len(val_data)/batch_size)):\n",
    "            image, target = image.to(device), target.to(device)\n",
    "            \n",
    "            if use_amp == 'yes':\n",
    "                with torch.cuda.amp.autocast():\n",
    "                    outputs = model(image)\n",
    "                    loss = criterion(outputs, target)\n",
    "        \n",
    "            elif use_amp == 'no':\n",
    "                outputs = model(image)\n",
    "                loss = criterion(outputs, target)\n",
    "            \n",
    "            val_running_loss += (1/(i+1))*(loss.item() - val_running_loss)\n",
    "            _, preds = torch.max(outputs, 1)\n",
    "            val_running_correct += (preds == target).sum().item()\n",
    "        \n",
    "        val_loss = val_running_loss\n",
    "        val_accuracy = 100. * val_running_correct/dataset_sizes[VAL]        \n",
    "        return val_loss, val_accuracy\n",
    "    \n",
    "def train(epochs, model, criterion, optimizer, scheduler):\n",
    "    since = time.time()\n",
    "     \n",
    "    train_loss = []\n",
    "    train_acc = []\n",
    "    val_loss = []\n",
    "    val_acc = []\n",
    "\n",
    "    use_amp = input(\"Do you want to use amp? (yes/no)\")\n",
    "    if use_amp == 'yes':\n",
    "        print('Tranining and validating with Automatic Mixed Precision')\n",
    "    else:\n",
    "        print('Tranining and validating without Automatic Mixed Precision')\n",
    "    \n",
    "    start = time.time()\n",
    "    for epoch in range(epochs):\n",
    "        print(f\"Epoch {epoch+1} of {epochs}\")\n",
    "        train_epoch_loss, train_epoch_accuracy = fit(model, train_data_loader, \n",
    "                                                     optimizer, criterion, \n",
    "                                                     train_data, device, use_amp)\n",
    "        val_epoch_loss, val_epoch_accuracy = validate(model, valid_data_loader, \n",
    "                                                     optimizer, criterion, \n",
    "                                                     test_data, device, use_amp)\n",
    "        train_loss.append(train_epoch_loss)\n",
    "        train_acc.append(train_epoch_accuracy)\n",
    "        val_loss.append(val_epoch_loss)\n",
    "        val_acc.append(val_epoch_accuracy)\n",
    "        print(f\"Train Loss: {train_epoch_loss:.4f}, Train Acc: {train_epoch_accuracy:.2f}\")\n",
    "        print(f'Val Loss: {val_epoch_loss:.4f}, Val Acc: {val_epoch_accuracy:.2f}')\n",
    "    end = time.time()\n",
    "    print(f\"Took {((end-start)/60):.3f} minutes to train for {epochs} epochs\")\n",
    "\n",
    "    # save model checkpoint\n",
    "    torch.save({\n",
    "                'epoch': epochs,\n",
    "                'model_state_dict': model.state_dict(),\n",
    "                'optimizer_state_dict': optimizer.state_dict(),\n",
    "                'loss': criterion,\n",
    "                }, f\"./graphs/mnasnet_amp_{use_amp}_model.pt\")\n",
    "    \n",
    "    return train_loss, val_loss, train_acc, val_acc, use_amp"
   ]
  },
  {
   "cell_type": "code",
   "execution_count": 21,
   "id": "6826c581",
   "metadata": {},
   "outputs": [
    {
     "name": "stdout",
     "output_type": "stream",
     "text": [
      "Do you want to use amp? (yes/no)yes\n"
     ]
    },
    {
     "name": "stderr",
     "output_type": "stream",
     "text": [
      "  0%|          | 1/668 [00:00<01:27,  7.65it/s]"
     ]
    },
    {
     "name": "stdout",
     "output_type": "stream",
     "text": [
      "Tranining and validating with Automatic Mixed Precision\n",
      "Epoch 1 of 100\n",
      "Training\n"
     ]
    },
    {
     "name": "stderr",
     "output_type": "stream",
     "text": [
      "100%|██████████| 668/668 [02:23<00:00,  4.65it/s]\n",
      "  0%|          | 0/83 [00:00<?, ?it/s]"
     ]
    },
    {
     "name": "stdout",
     "output_type": "stream",
     "text": [
      "Validating\n"
     ]
    },
    {
     "name": "stderr",
     "output_type": "stream",
     "text": [
      "84it [00:11,  7.16it/s]                        \n",
      "  0%|          | 1/668 [00:00<01:35,  7.00it/s]"
     ]
    },
    {
     "name": "stdout",
     "output_type": "stream",
     "text": [
      "Train Loss: 4.8841, Train Acc: 1.15\n",
      "Val Loss: 4.7825, Val Acc: 2.04\n",
      "Epoch 2 of 100\n",
      "Training\n"
     ]
    },
    {
     "name": "stderr",
     "output_type": "stream",
     "text": [
      "100%|██████████| 668/668 [02:22<00:00,  4.68it/s]\n",
      "  1%|          | 1/83 [00:00<00:10,  8.00it/s]"
     ]
    },
    {
     "name": "stdout",
     "output_type": "stream",
     "text": [
      "Validating\n"
     ]
    },
    {
     "name": "stderr",
     "output_type": "stream",
     "text": [
      "84it [00:11,  7.24it/s]                        \n",
      "  0%|          | 1/668 [00:00<01:36,  6.93it/s]"
     ]
    },
    {
     "name": "stdout",
     "output_type": "stream",
     "text": [
      "Train Loss: 4.7313, Train Acc: 2.31\n",
      "Val Loss: 4.5977, Val Acc: 3.23\n",
      "Epoch 3 of 100\n",
      "Training\n"
     ]
    },
    {
     "name": "stderr",
     "output_type": "stream",
     "text": [
      "100%|██████████| 668/668 [02:24<00:00,  4.61it/s]\n",
      "  1%|          | 1/83 [00:00<00:15,  5.20it/s]"
     ]
    },
    {
     "name": "stdout",
     "output_type": "stream",
     "text": [
      "Validating\n"
     ]
    },
    {
     "name": "stderr",
     "output_type": "stream",
     "text": [
      "84it [00:11,  7.18it/s]                        \n",
      "  0%|          | 1/668 [00:00<01:52,  5.94it/s]"
     ]
    },
    {
     "name": "stdout",
     "output_type": "stream",
     "text": [
      "Train Loss: 4.5970, Train Acc: 3.01\n",
      "Val Loss: 4.6495, Val Acc: 2.16\n",
      "Epoch 4 of 100\n",
      "Training\n"
     ]
    },
    {
     "name": "stderr",
     "output_type": "stream",
     "text": [
      "100%|██████████| 668/668 [02:24<00:00,  4.61it/s]\n",
      "  1%|          | 1/83 [00:00<00:11,  7.32it/s]"
     ]
    },
    {
     "name": "stdout",
     "output_type": "stream",
     "text": [
      "Validating\n"
     ]
    },
    {
     "name": "stderr",
     "output_type": "stream",
     "text": [
      "84it [00:11,  7.21it/s]                        \n",
      "  0%|          | 1/668 [00:00<01:32,  7.18it/s]"
     ]
    },
    {
     "name": "stdout",
     "output_type": "stream",
     "text": [
      "Train Loss: 4.4969, Train Acc: 3.26\n",
      "Val Loss: 4.3467, Val Acc: 4.43\n",
      "Epoch 5 of 100\n",
      "Training\n"
     ]
    },
    {
     "name": "stderr",
     "output_type": "stream",
     "text": [
      "100%|██████████| 668/668 [02:23<00:00,  4.64it/s]\n",
      "  1%|          | 1/83 [00:00<00:10,  8.12it/s]"
     ]
    },
    {
     "name": "stdout",
     "output_type": "stream",
     "text": [
      "Validating\n"
     ]
    },
    {
     "name": "stderr",
     "output_type": "stream",
     "text": [
      "84it [00:11,  7.25it/s]                        \n",
      "  0%|          | 1/668 [00:00<01:56,  5.71it/s]"
     ]
    },
    {
     "name": "stdout",
     "output_type": "stream",
     "text": [
      "Train Loss: 4.4248, Train Acc: 4.64\n",
      "Val Loss: 4.3000, Val Acc: 4.43\n",
      "Epoch 6 of 100\n",
      "Training\n"
     ]
    },
    {
     "name": "stderr",
     "output_type": "stream",
     "text": [
      "100%|██████████| 668/668 [02:23<00:00,  4.67it/s]\n",
      "  0%|          | 0/83 [00:00<?, ?it/s]"
     ]
    },
    {
     "name": "stdout",
     "output_type": "stream",
     "text": [
      "Validating\n"
     ]
    },
    {
     "name": "stderr",
     "output_type": "stream",
     "text": [
      "84it [00:11,  7.15it/s]                        \n",
      "  0%|          | 0/668 [00:00<?, ?it/s]"
     ]
    },
    {
     "name": "stdout",
     "output_type": "stream",
     "text": [
      "Train Loss: 4.3459, Train Acc: 5.03\n",
      "Val Loss: 4.1008, Val Acc: 6.83\n",
      "Epoch 7 of 100\n",
      "Training\n"
     ]
    },
    {
     "name": "stderr",
     "output_type": "stream",
     "text": [
      "100%|██████████| 668/668 [02:23<00:00,  4.66it/s]\n",
      "  1%|          | 1/83 [00:00<00:11,  7.10it/s]"
     ]
    },
    {
     "name": "stdout",
     "output_type": "stream",
     "text": [
      "Validating\n"
     ]
    },
    {
     "name": "stderr",
     "output_type": "stream",
     "text": [
      "84it [00:11,  7.22it/s]                        \n",
      "  0%|          | 0/668 [00:00<?, ?it/s]"
     ]
    },
    {
     "name": "stdout",
     "output_type": "stream",
     "text": [
      "Train Loss: 4.2749, Train Acc: 5.72\n",
      "Val Loss: 4.0191, Val Acc: 8.38\n",
      "Epoch 8 of 100\n",
      "Training\n"
     ]
    },
    {
     "name": "stderr",
     "output_type": "stream",
     "text": [
      "100%|██████████| 668/668 [02:24<00:00,  4.63it/s]\n",
      "  0%|          | 0/83 [00:00<?, ?it/s]"
     ]
    },
    {
     "name": "stdout",
     "output_type": "stream",
     "text": [
      "Validating\n"
     ]
    },
    {
     "name": "stderr",
     "output_type": "stream",
     "text": [
      "84it [00:11,  7.16it/s]                        \n",
      "  0%|          | 1/668 [00:00<01:57,  5.69it/s]"
     ]
    },
    {
     "name": "stdout",
     "output_type": "stream",
     "text": [
      "Train Loss: 4.1983, Train Acc: 6.50\n",
      "Val Loss: 3.9629, Val Acc: 8.50\n",
      "Epoch 9 of 100\n",
      "Training\n"
     ]
    },
    {
     "name": "stderr",
     "output_type": "stream",
     "text": [
      "100%|██████████| 668/668 [02:24<00:00,  4.63it/s]\n",
      "  1%|          | 1/83 [00:00<00:09,  9.04it/s]"
     ]
    },
    {
     "name": "stdout",
     "output_type": "stream",
     "text": [
      "Validating\n"
     ]
    },
    {
     "name": "stderr",
     "output_type": "stream",
     "text": [
      "84it [00:11,  7.19it/s]                        \n",
      "  0%|          | 1/668 [00:00<01:52,  5.94it/s]"
     ]
    },
    {
     "name": "stdout",
     "output_type": "stream",
     "text": [
      "Train Loss: 4.1605, Train Acc: 6.84\n",
      "Val Loss: 3.8126, Val Acc: 10.90\n",
      "Epoch 10 of 100\n",
      "Training\n"
     ]
    },
    {
     "name": "stderr",
     "output_type": "stream",
     "text": [
      "100%|██████████| 668/668 [02:24<00:00,  4.63it/s]\n",
      "  1%|          | 1/83 [00:00<00:08,  9.61it/s]"
     ]
    },
    {
     "name": "stdout",
     "output_type": "stream",
     "text": [
      "Validating\n"
     ]
    },
    {
     "name": "stderr",
     "output_type": "stream",
     "text": [
      "84it [00:11,  7.29it/s]                        \n",
      "  0%|          | 1/668 [00:00<01:31,  7.30it/s]"
     ]
    },
    {
     "name": "stdout",
     "output_type": "stream",
     "text": [
      "Train Loss: 4.0512, Train Acc: 7.98\n",
      "Val Loss: 3.7724, Val Acc: 12.81\n",
      "Epoch 11 of 100\n",
      "Training\n"
     ]
    },
    {
     "name": "stderr",
     "output_type": "stream",
     "text": [
      "100%|██████████| 668/668 [02:24<00:00,  4.61it/s]\n",
      "  0%|          | 0/83 [00:00<?, ?it/s]"
     ]
    },
    {
     "name": "stdout",
     "output_type": "stream",
     "text": [
      "Validating\n"
     ]
    },
    {
     "name": "stderr",
     "output_type": "stream",
     "text": [
      "84it [00:11,  7.16it/s]                        \n",
      "  0%|          | 0/668 [00:00<?, ?it/s]"
     ]
    },
    {
     "name": "stdout",
     "output_type": "stream",
     "text": [
      "Train Loss: 3.9809, Train Acc: 8.80\n",
      "Val Loss: 3.6450, Val Acc: 12.46\n",
      "Epoch 12 of 100\n",
      "Training\n"
     ]
    },
    {
     "name": "stderr",
     "output_type": "stream",
     "text": [
      "100%|██████████| 668/668 [02:23<00:00,  4.67it/s]\n",
      "  0%|          | 0/83 [00:00<?, ?it/s]"
     ]
    },
    {
     "name": "stdout",
     "output_type": "stream",
     "text": [
      "Validating\n"
     ]
    },
    {
     "name": "stderr",
     "output_type": "stream",
     "text": [
      "84it [00:11,  7.15it/s]                        \n",
      "  0%|          | 1/668 [00:00<01:42,  6.51it/s]"
     ]
    },
    {
     "name": "stdout",
     "output_type": "stream",
     "text": [
      "Train Loss: 3.9429, Train Acc: 9.67\n",
      "Val Loss: 3.6314, Val Acc: 13.53\n",
      "Epoch 13 of 100\n",
      "Training\n"
     ]
    },
    {
     "name": "stderr",
     "output_type": "stream",
     "text": [
      "100%|██████████| 668/668 [02:23<00:00,  4.66it/s]\n",
      "  1%|          | 1/83 [00:00<00:10,  7.46it/s]"
     ]
    },
    {
     "name": "stdout",
     "output_type": "stream",
     "text": [
      "Validating\n"
     ]
    },
    {
     "name": "stderr",
     "output_type": "stream",
     "text": [
      "84it [00:11,  7.19it/s]                        \n",
      "  0%|          | 0/668 [00:00<?, ?it/s]"
     ]
    },
    {
     "name": "stdout",
     "output_type": "stream",
     "text": [
      "Train Loss: 3.8613, Train Acc: 10.42\n",
      "Val Loss: 3.4616, Val Acc: 15.81\n",
      "Epoch 14 of 100\n",
      "Training\n"
     ]
    },
    {
     "name": "stderr",
     "output_type": "stream",
     "text": [
      "100%|██████████| 668/668 [02:24<00:00,  4.61it/s]\n",
      "  1%|          | 1/83 [00:00<00:10,  7.82it/s]"
     ]
    },
    {
     "name": "stdout",
     "output_type": "stream",
     "text": [
      "Validating\n"
     ]
    },
    {
     "name": "stderr",
     "output_type": "stream",
     "text": [
      "84it [00:11,  7.24it/s]                        \n",
      "  0%|          | 0/668 [00:00<?, ?it/s]"
     ]
    },
    {
     "name": "stdout",
     "output_type": "stream",
     "text": [
      "Train Loss: 3.8308, Train Acc: 11.68\n",
      "Val Loss: 3.4998, Val Acc: 15.45\n",
      "Epoch 15 of 100\n",
      "Training\n"
     ]
    },
    {
     "name": "stderr",
     "output_type": "stream",
     "text": [
      "100%|██████████| 668/668 [02:24<00:00,  4.62it/s]\n",
      "  1%|          | 1/83 [00:00<00:09,  8.64it/s]"
     ]
    },
    {
     "name": "stdout",
     "output_type": "stream",
     "text": [
      "Validating\n"
     ]
    },
    {
     "name": "stderr",
     "output_type": "stream",
     "text": [
      "84it [00:11,  7.22it/s]                        \n",
      "  0%|          | 0/668 [00:00<?, ?it/s]"
     ]
    },
    {
     "name": "stdout",
     "output_type": "stream",
     "text": [
      "Train Loss: 3.7010, Train Acc: 13.13\n",
      "Val Loss: 3.4297, Val Acc: 17.72\n",
      "Epoch 16 of 100\n",
      "Training\n"
     ]
    },
    {
     "name": "stderr",
     "output_type": "stream",
     "text": [
      "100%|██████████| 668/668 [02:23<00:00,  4.67it/s]\n",
      "  1%|          | 1/83 [00:00<00:12,  6.54it/s]"
     ]
    },
    {
     "name": "stdout",
     "output_type": "stream",
     "text": [
      "Validating\n"
     ]
    },
    {
     "name": "stderr",
     "output_type": "stream",
     "text": [
      "84it [00:11,  7.24it/s]                        \n",
      "  0%|          | 0/668 [00:00<?, ?it/s]"
     ]
    },
    {
     "name": "stdout",
     "output_type": "stream",
     "text": [
      "Train Loss: 3.6494, Train Acc: 13.49\n",
      "Val Loss: 3.4202, Val Acc: 18.20\n",
      "Epoch 17 of 100\n",
      "Training\n"
     ]
    },
    {
     "name": "stderr",
     "output_type": "stream",
     "text": [
      "100%|██████████| 668/668 [02:23<00:00,  4.65it/s]\n",
      "  1%|          | 1/83 [00:00<00:08,  9.25it/s]"
     ]
    },
    {
     "name": "stdout",
     "output_type": "stream",
     "text": [
      "Validating\n"
     ]
    },
    {
     "name": "stderr",
     "output_type": "stream",
     "text": [
      "84it [00:11,  7.19it/s]                        \n",
      "  0%|          | 1/668 [00:00<01:49,  6.10it/s]"
     ]
    },
    {
     "name": "stdout",
     "output_type": "stream",
     "text": [
      "Train Loss: 3.5968, Train Acc: 14.61\n",
      "Val Loss: 3.2228, Val Acc: 19.88\n",
      "Epoch 18 of 100\n",
      "Training\n"
     ]
    },
    {
     "name": "stderr",
     "output_type": "stream",
     "text": [
      "100%|██████████| 668/668 [02:24<00:00,  4.63it/s]\n",
      "  1%|          | 1/83 [00:00<00:09,  8.26it/s]"
     ]
    },
    {
     "name": "stdout",
     "output_type": "stream",
     "text": [
      "Validating\n"
     ]
    },
    {
     "name": "stderr",
     "output_type": "stream",
     "text": [
      "84it [00:11,  7.22it/s]                        \n",
      "  0%|          | 0/668 [00:00<?, ?it/s]"
     ]
    },
    {
     "name": "stdout",
     "output_type": "stream",
     "text": [
      "Train Loss: 3.4967, Train Acc: 16.44\n",
      "Val Loss: 3.2128, Val Acc: 20.36\n",
      "Epoch 19 of 100\n",
      "Training\n"
     ]
    },
    {
     "name": "stderr",
     "output_type": "stream",
     "text": [
      "100%|██████████| 668/668 [02:24<00:00,  4.62it/s]\n",
      "  1%|          | 1/83 [00:00<00:13,  5.96it/s]"
     ]
    },
    {
     "name": "stdout",
     "output_type": "stream",
     "text": [
      "Validating\n"
     ]
    },
    {
     "name": "stderr",
     "output_type": "stream",
     "text": [
      "84it [00:11,  7.24it/s]                        \n",
      "  0%|          | 1/668 [00:00<01:42,  6.50it/s]"
     ]
    },
    {
     "name": "stdout",
     "output_type": "stream",
     "text": [
      "Train Loss: 3.4563, Train Acc: 16.83\n",
      "Val Loss: 3.1523, Val Acc: 23.59\n",
      "Epoch 20 of 100\n",
      "Training\n"
     ]
    },
    {
     "name": "stderr",
     "output_type": "stream",
     "text": [
      "100%|██████████| 668/668 [02:23<00:00,  4.64it/s]\n",
      "  0%|          | 0/83 [00:00<?, ?it/s]"
     ]
    },
    {
     "name": "stdout",
     "output_type": "stream",
     "text": [
      "Validating\n"
     ]
    },
    {
     "name": "stderr",
     "output_type": "stream",
     "text": [
      "84it [00:11,  7.22it/s]                        \n",
      "  0%|          | 0/668 [00:00<?, ?it/s]"
     ]
    },
    {
     "name": "stdout",
     "output_type": "stream",
     "text": [
      "Train Loss: 3.3884, Train Acc: 18.47\n",
      "Val Loss: 2.9758, Val Acc: 24.91\n",
      "Epoch 21 of 100\n",
      "Training\n"
     ]
    },
    {
     "name": "stderr",
     "output_type": "stream",
     "text": [
      "100%|██████████| 668/668 [02:24<00:00,  4.62it/s]\n",
      "  0%|          | 0/83 [00:00<?, ?it/s]"
     ]
    },
    {
     "name": "stdout",
     "output_type": "stream",
     "text": [
      "Validating\n"
     ]
    },
    {
     "name": "stderr",
     "output_type": "stream",
     "text": [
      "84it [00:11,  7.36it/s]                        \n",
      "  0%|          | 1/668 [00:00<01:55,  5.79it/s]"
     ]
    },
    {
     "name": "stdout",
     "output_type": "stream",
     "text": [
      "Train Loss: 3.3264, Train Acc: 19.31\n",
      "Val Loss: 2.9762, Val Acc: 25.87\n",
      "Epoch 22 of 100\n",
      "Training\n"
     ]
    },
    {
     "name": "stderr",
     "output_type": "stream",
     "text": [
      "100%|██████████| 668/668 [02:24<00:00,  4.62it/s]\n",
      "  0%|          | 0/83 [00:00<?, ?it/s]"
     ]
    },
    {
     "name": "stdout",
     "output_type": "stream",
     "text": [
      "Validating\n"
     ]
    },
    {
     "name": "stderr",
     "output_type": "stream",
     "text": [
      "84it [00:11,  7.21it/s]                        \n",
      "  0%|          | 1/668 [00:00<01:36,  6.91it/s]"
     ]
    },
    {
     "name": "stdout",
     "output_type": "stream",
     "text": [
      "Train Loss: 3.2773, Train Acc: 19.96\n",
      "Val Loss: 3.0809, Val Acc: 25.39\n",
      "Epoch 23 of 100\n",
      "Training\n"
     ]
    },
    {
     "name": "stderr",
     "output_type": "stream",
     "text": [
      "100%|██████████| 668/668 [02:23<00:00,  4.64it/s]\n",
      "  1%|          | 1/83 [00:00<00:13,  5.96it/s]"
     ]
    },
    {
     "name": "stdout",
     "output_type": "stream",
     "text": [
      "Validating\n"
     ]
    },
    {
     "name": "stderr",
     "output_type": "stream",
     "text": [
      "84it [00:11,  7.21it/s]                        \n",
      "  0%|          | 1/668 [00:00<02:07,  5.23it/s]"
     ]
    },
    {
     "name": "stdout",
     "output_type": "stream",
     "text": [
      "Train Loss: 3.2344, Train Acc: 20.76\n",
      "Val Loss: 2.8252, Val Acc: 27.90\n",
      "Epoch 24 of 100\n",
      "Training\n"
     ]
    },
    {
     "name": "stderr",
     "output_type": "stream",
     "text": [
      "100%|██████████| 668/668 [02:23<00:00,  4.65it/s]\n",
      "  1%|          | 1/83 [00:00<00:13,  6.13it/s]"
     ]
    },
    {
     "name": "stdout",
     "output_type": "stream",
     "text": [
      "Validating\n"
     ]
    },
    {
     "name": "stderr",
     "output_type": "stream",
     "text": [
      "84it [00:11,  7.17it/s]                        \n",
      "  0%|          | 1/668 [00:00<01:54,  5.80it/s]"
     ]
    },
    {
     "name": "stdout",
     "output_type": "stream",
     "text": [
      "Train Loss: 3.1373, Train Acc: 23.43\n",
      "Val Loss: 2.8187, Val Acc: 28.62\n",
      "Epoch 25 of 100\n",
      "Training\n"
     ]
    },
    {
     "name": "stderr",
     "output_type": "stream",
     "text": [
      "100%|██████████| 668/668 [02:24<00:00,  4.62it/s]\n",
      "  1%|          | 1/83 [00:00<00:08,  9.80it/s]"
     ]
    },
    {
     "name": "stdout",
     "output_type": "stream",
     "text": [
      "Validating\n"
     ]
    },
    {
     "name": "stderr",
     "output_type": "stream",
     "text": [
      "84it [00:11,  7.13it/s]                        \n",
      "  0%|          | 1/668 [00:00<01:46,  6.28it/s]"
     ]
    },
    {
     "name": "stdout",
     "output_type": "stream",
     "text": [
      "Train Loss: 3.1460, Train Acc: 22.59\n",
      "Val Loss: 2.7153, Val Acc: 31.14\n",
      "Epoch 26 of 100\n",
      "Training\n"
     ]
    },
    {
     "name": "stderr",
     "output_type": "stream",
     "text": [
      "100%|██████████| 668/668 [02:25<00:00,  4.60it/s]\n",
      "  1%|          | 1/83 [00:00<00:10,  7.58it/s]"
     ]
    },
    {
     "name": "stdout",
     "output_type": "stream",
     "text": [
      "Validating\n"
     ]
    },
    {
     "name": "stderr",
     "output_type": "stream",
     "text": [
      "84it [00:11,  7.24it/s]                        \n",
      "  0%|          | 0/668 [00:00<?, ?it/s]"
     ]
    },
    {
     "name": "stdout",
     "output_type": "stream",
     "text": [
      "Train Loss: 3.0693, Train Acc: 24.39\n",
      "Val Loss: 2.5490, Val Acc: 32.10\n",
      "Epoch 27 of 100\n",
      "Training\n"
     ]
    },
    {
     "name": "stderr",
     "output_type": "stream",
     "text": [
      "100%|██████████| 668/668 [02:24<00:00,  4.62it/s]\n",
      "  1%|          | 1/83 [00:00<00:12,  6.56it/s]"
     ]
    },
    {
     "name": "stdout",
     "output_type": "stream",
     "text": [
      "Validating\n"
     ]
    },
    {
     "name": "stderr",
     "output_type": "stream",
     "text": [
      "84it [00:11,  7.13it/s]                        \n",
      "  0%|          | 0/668 [00:00<?, ?it/s]"
     ]
    },
    {
     "name": "stdout",
     "output_type": "stream",
     "text": [
      "Train Loss: 3.0291, Train Acc: 24.12\n",
      "Val Loss: 2.5433, Val Acc: 31.86\n",
      "Epoch 28 of 100\n",
      "Training\n"
     ]
    },
    {
     "name": "stderr",
     "output_type": "stream",
     "text": [
      "100%|██████████| 668/668 [02:24<00:00,  4.63it/s]\n",
      "  1%|          | 1/83 [00:00<00:13,  6.00it/s]"
     ]
    },
    {
     "name": "stdout",
     "output_type": "stream",
     "text": [
      "Validating\n"
     ]
    },
    {
     "name": "stderr",
     "output_type": "stream",
     "text": [
      "84it [00:11,  7.28it/s]                        \n",
      "  0%|          | 0/668 [00:00<?, ?it/s]"
     ]
    },
    {
     "name": "stdout",
     "output_type": "stream",
     "text": [
      "Train Loss: 2.9576, Train Acc: 26.39\n",
      "Val Loss: 2.5889, Val Acc: 31.50\n",
      "Epoch 29 of 100\n",
      "Training\n"
     ]
    },
    {
     "name": "stderr",
     "output_type": "stream",
     "text": [
      "100%|██████████| 668/668 [02:22<00:00,  4.70it/s]\n",
      "  1%|          | 1/83 [00:00<00:10,  7.98it/s]"
     ]
    },
    {
     "name": "stdout",
     "output_type": "stream",
     "text": [
      "Validating\n"
     ]
    },
    {
     "name": "stderr",
     "output_type": "stream",
     "text": [
      "84it [00:11,  7.18it/s]                        \n",
      "  0%|          | 1/668 [00:00<02:04,  5.38it/s]"
     ]
    },
    {
     "name": "stdout",
     "output_type": "stream",
     "text": [
      "Train Loss: 2.9061, Train Acc: 27.75\n",
      "Val Loss: 2.4311, Val Acc: 37.72\n",
      "Epoch 30 of 100\n",
      "Training\n"
     ]
    },
    {
     "name": "stderr",
     "output_type": "stream",
     "text": [
      "100%|██████████| 668/668 [02:24<00:00,  4.61it/s]\n",
      "  0%|          | 0/83 [00:00<?, ?it/s]"
     ]
    },
    {
     "name": "stdout",
     "output_type": "stream",
     "text": [
      "Validating\n"
     ]
    },
    {
     "name": "stderr",
     "output_type": "stream",
     "text": [
      "84it [00:11,  7.17it/s]                        \n",
      "  0%|          | 0/668 [00:00<?, ?it/s]"
     ]
    },
    {
     "name": "stdout",
     "output_type": "stream",
     "text": [
      "Train Loss: 2.8384, Train Acc: 29.24\n",
      "Val Loss: 2.4524, Val Acc: 35.33\n",
      "Epoch 31 of 100\n",
      "Training\n"
     ]
    },
    {
     "name": "stderr",
     "output_type": "stream",
     "text": [
      "100%|██████████| 668/668 [02:24<00:00,  4.62it/s]\n",
      "  1%|          | 1/83 [00:00<00:09,  9.09it/s]"
     ]
    },
    {
     "name": "stdout",
     "output_type": "stream",
     "text": [
      "Validating\n"
     ]
    },
    {
     "name": "stderr",
     "output_type": "stream",
     "text": [
      "84it [00:11,  7.23it/s]                        \n",
      "  0%|          | 0/668 [00:00<?, ?it/s]"
     ]
    },
    {
     "name": "stdout",
     "output_type": "stream",
     "text": [
      "Train Loss: 2.7895, Train Acc: 30.13\n",
      "Val Loss: 2.3042, Val Acc: 37.13\n",
      "Epoch 32 of 100\n",
      "Training\n"
     ]
    },
    {
     "name": "stderr",
     "output_type": "stream",
     "text": [
      "100%|██████████| 668/668 [02:25<00:00,  4.58it/s]\n",
      "  1%|          | 1/83 [00:00<00:11,  6.90it/s]"
     ]
    },
    {
     "name": "stdout",
     "output_type": "stream",
     "text": [
      "Validating\n"
     ]
    },
    {
     "name": "stderr",
     "output_type": "stream",
     "text": [
      "84it [00:11,  7.22it/s]                        \n",
      "  0%|          | 0/668 [00:00<?, ?it/s]"
     ]
    },
    {
     "name": "stdout",
     "output_type": "stream",
     "text": [
      "Train Loss: 2.7128, Train Acc: 31.27\n",
      "Val Loss: 2.2995, Val Acc: 38.44\n",
      "Epoch 33 of 100\n",
      "Training\n"
     ]
    },
    {
     "name": "stderr",
     "output_type": "stream",
     "text": [
      "100%|██████████| 668/668 [02:23<00:00,  4.65it/s]\n",
      "  1%|          | 1/83 [00:00<00:09,  8.77it/s]"
     ]
    },
    {
     "name": "stdout",
     "output_type": "stream",
     "text": [
      "Validating\n"
     ]
    },
    {
     "name": "stderr",
     "output_type": "stream",
     "text": [
      "84it [00:11,  7.18it/s]                        \n",
      "  0%|          | 0/668 [00:00<?, ?it/s]"
     ]
    },
    {
     "name": "stdout",
     "output_type": "stream",
     "text": [
      "Train Loss: 2.6656, Train Acc: 32.11\n",
      "Val Loss: 2.2022, Val Acc: 42.04\n",
      "Epoch 34 of 100\n",
      "Training\n"
     ]
    },
    {
     "name": "stderr",
     "output_type": "stream",
     "text": [
      "100%|██████████| 668/668 [02:23<00:00,  4.64it/s]\n",
      "  0%|          | 0/83 [00:00<?, ?it/s]"
     ]
    },
    {
     "name": "stdout",
     "output_type": "stream",
     "text": [
      "Validating\n"
     ]
    },
    {
     "name": "stderr",
     "output_type": "stream",
     "text": [
      "84it [00:11,  7.17it/s]                        \n",
      "  0%|          | 1/668 [00:00<01:32,  7.25it/s]"
     ]
    },
    {
     "name": "stdout",
     "output_type": "stream",
     "text": [
      "Train Loss: 2.6875, Train Acc: 31.99\n",
      "Val Loss: 2.2778, Val Acc: 40.00\n",
      "Epoch 35 of 100\n",
      "Training\n"
     ]
    },
    {
     "name": "stderr",
     "output_type": "stream",
     "text": [
      "100%|██████████| 668/668 [02:23<00:00,  4.64it/s]\n",
      "  0%|          | 0/83 [00:00<?, ?it/s]"
     ]
    },
    {
     "name": "stdout",
     "output_type": "stream",
     "text": [
      "Validating\n"
     ]
    },
    {
     "name": "stderr",
     "output_type": "stream",
     "text": [
      "84it [00:11,  7.24it/s]                        \n",
      "  0%|          | 1/668 [00:00<02:11,  5.08it/s]"
     ]
    },
    {
     "name": "stdout",
     "output_type": "stream",
     "text": [
      "Train Loss: 2.6129, Train Acc: 33.40\n",
      "Val Loss: 2.2441, Val Acc: 40.48\n",
      "Epoch 36 of 100\n",
      "Training\n"
     ]
    },
    {
     "name": "stderr",
     "output_type": "stream",
     "text": [
      "100%|██████████| 668/668 [02:24<00:00,  4.63it/s]\n",
      "  1%|          | 1/83 [00:00<00:10,  8.15it/s]"
     ]
    },
    {
     "name": "stdout",
     "output_type": "stream",
     "text": [
      "Validating\n"
     ]
    },
    {
     "name": "stderr",
     "output_type": "stream",
     "text": [
      "84it [00:11,  7.17it/s]                        \n",
      "  0%|          | 0/668 [00:00<?, ?it/s]"
     ]
    },
    {
     "name": "stdout",
     "output_type": "stream",
     "text": [
      "Train Loss: 2.5249, Train Acc: 35.19\n",
      "Val Loss: 2.2282, Val Acc: 42.99\n",
      "Epoch 37 of 100\n",
      "Training\n"
     ]
    },
    {
     "name": "stderr",
     "output_type": "stream",
     "text": [
      "100%|██████████| 668/668 [02:24<00:00,  4.61it/s]\n",
      "  0%|          | 0/83 [00:00<?, ?it/s]"
     ]
    },
    {
     "name": "stdout",
     "output_type": "stream",
     "text": [
      "Validating\n"
     ]
    },
    {
     "name": "stderr",
     "output_type": "stream",
     "text": [
      "84it [00:11,  7.25it/s]                        \n",
      "  0%|          | 1/668 [00:00<01:42,  6.54it/s]"
     ]
    },
    {
     "name": "stdout",
     "output_type": "stream",
     "text": [
      "Train Loss: 2.4979, Train Acc: 36.06\n",
      "Val Loss: 2.0844, Val Acc: 44.31\n",
      "Epoch 38 of 100\n",
      "Training\n"
     ]
    },
    {
     "name": "stderr",
     "output_type": "stream",
     "text": [
      "100%|██████████| 668/668 [02:15<00:00,  4.95it/s]\n",
      "  1%|          | 1/83 [00:00<00:12,  6.35it/s]"
     ]
    },
    {
     "name": "stdout",
     "output_type": "stream",
     "text": [
      "Validating\n"
     ]
    },
    {
     "name": "stderr",
     "output_type": "stream",
     "text": [
      "84it [00:11,  7.49it/s]                        \n",
      "  0%|          | 0/668 [00:00<?, ?it/s]"
     ]
    },
    {
     "name": "stdout",
     "output_type": "stream",
     "text": [
      "Train Loss: 2.4639, Train Acc: 36.39\n",
      "Val Loss: 2.0001, Val Acc: 45.15\n",
      "Epoch 39 of 100\n",
      "Training\n"
     ]
    },
    {
     "name": "stderr",
     "output_type": "stream",
     "text": [
      "100%|██████████| 668/668 [02:02<00:00,  5.44it/s]\n",
      "  1%|          | 1/83 [00:00<00:09,  8.76it/s]"
     ]
    },
    {
     "name": "stdout",
     "output_type": "stream",
     "text": [
      "Validating\n"
     ]
    },
    {
     "name": "stderr",
     "output_type": "stream",
     "text": [
      "84it [00:11,  7.45it/s]                        \n",
      "  0%|          | 0/668 [00:00<?, ?it/s]"
     ]
    },
    {
     "name": "stdout",
     "output_type": "stream",
     "text": [
      "Train Loss: 2.4497, Train Acc: 37.01\n",
      "Val Loss: 1.9116, Val Acc: 47.43\n",
      "Epoch 40 of 100\n",
      "Training\n"
     ]
    },
    {
     "name": "stderr",
     "output_type": "stream",
     "text": [
      "100%|██████████| 668/668 [02:02<00:00,  5.44it/s]\n",
      "  2%|▏         | 2/83 [00:00<00:06, 11.71it/s]"
     ]
    },
    {
     "name": "stdout",
     "output_type": "stream",
     "text": [
      "Validating\n"
     ]
    },
    {
     "name": "stderr",
     "output_type": "stream",
     "text": [
      "84it [00:11,  7.53it/s]                        \n",
      "  0%|          | 0/668 [00:00<?, ?it/s]"
     ]
    },
    {
     "name": "stdout",
     "output_type": "stream",
     "text": [
      "Train Loss: 2.4188, Train Acc: 37.29\n",
      "Val Loss: 1.8229, Val Acc: 50.42\n",
      "Epoch 41 of 100\n",
      "Training\n"
     ]
    },
    {
     "name": "stderr",
     "output_type": "stream",
     "text": [
      "100%|██████████| 668/668 [02:02<00:00,  5.43it/s]\n",
      "  2%|▏         | 2/83 [00:00<00:07, 11.56it/s]"
     ]
    },
    {
     "name": "stdout",
     "output_type": "stream",
     "text": [
      "Validating\n"
     ]
    },
    {
     "name": "stderr",
     "output_type": "stream",
     "text": [
      "84it [00:11,  7.49it/s]                        \n",
      "  0%|          | 0/668 [00:00<?, ?it/s]"
     ]
    },
    {
     "name": "stdout",
     "output_type": "stream",
     "text": [
      "Train Loss: 2.3731, Train Acc: 38.56\n",
      "Val Loss: 1.8333, Val Acc: 48.38\n",
      "Epoch 42 of 100\n",
      "Training\n"
     ]
    },
    {
     "name": "stderr",
     "output_type": "stream",
     "text": [
      "100%|██████████| 668/668 [02:03<00:00,  5.41it/s]\n",
      "  1%|          | 1/83 [00:00<00:14,  5.61it/s]"
     ]
    },
    {
     "name": "stdout",
     "output_type": "stream",
     "text": [
      "Validating\n"
     ]
    },
    {
     "name": "stderr",
     "output_type": "stream",
     "text": [
      "84it [00:11,  7.41it/s]                        \n",
      "  0%|          | 0/668 [00:00<?, ?it/s]"
     ]
    },
    {
     "name": "stdout",
     "output_type": "stream",
     "text": [
      "Train Loss: 2.3481, Train Acc: 39.31\n",
      "Val Loss: 1.8709, Val Acc: 48.14\n",
      "Epoch 43 of 100\n",
      "Training\n"
     ]
    },
    {
     "name": "stderr",
     "output_type": "stream",
     "text": [
      "100%|██████████| 668/668 [02:03<00:00,  5.43it/s]\n",
      "  1%|          | 1/83 [00:00<00:09,  8.41it/s]"
     ]
    },
    {
     "name": "stdout",
     "output_type": "stream",
     "text": [
      "Validating\n"
     ]
    },
    {
     "name": "stderr",
     "output_type": "stream",
     "text": [
      "84it [00:11,  7.42it/s]                        \n",
      "  0%|          | 0/668 [00:00<?, ?it/s]"
     ]
    },
    {
     "name": "stdout",
     "output_type": "stream",
     "text": [
      "Train Loss: 2.2964, Train Acc: 40.52\n",
      "Val Loss: 1.8144, Val Acc: 50.42\n",
      "Epoch 44 of 100\n",
      "Training\n"
     ]
    },
    {
     "name": "stderr",
     "output_type": "stream",
     "text": [
      "100%|██████████| 668/668 [02:02<00:00,  5.44it/s]\n",
      "  0%|          | 0/83 [00:00<?, ?it/s]"
     ]
    },
    {
     "name": "stdout",
     "output_type": "stream",
     "text": [
      "Validating\n"
     ]
    },
    {
     "name": "stderr",
     "output_type": "stream",
     "text": [
      "84it [00:11,  7.51it/s]                        \n",
      "  0%|          | 1/668 [00:00<02:11,  5.08it/s]"
     ]
    },
    {
     "name": "stdout",
     "output_type": "stream",
     "text": [
      "Train Loss: 2.2529, Train Acc: 41.23\n",
      "Val Loss: 1.6784, Val Acc: 51.62\n",
      "Epoch 45 of 100\n",
      "Training\n"
     ]
    },
    {
     "name": "stderr",
     "output_type": "stream",
     "text": [
      "100%|██████████| 668/668 [02:02<00:00,  5.43it/s]\n",
      "  0%|          | 0/83 [00:00<?, ?it/s]"
     ]
    },
    {
     "name": "stdout",
     "output_type": "stream",
     "text": [
      "Validating\n"
     ]
    },
    {
     "name": "stderr",
     "output_type": "stream",
     "text": [
      "84it [00:11,  7.44it/s]                        \n",
      "  0%|          | 0/668 [00:00<?, ?it/s]"
     ]
    },
    {
     "name": "stdout",
     "output_type": "stream",
     "text": [
      "Train Loss: 2.2134, Train Acc: 42.29\n",
      "Val Loss: 1.8208, Val Acc: 50.90\n",
      "Epoch 46 of 100\n",
      "Training\n"
     ]
    },
    {
     "name": "stderr",
     "output_type": "stream",
     "text": [
      "100%|██████████| 668/668 [02:02<00:00,  5.44it/s]\n",
      "  2%|▏         | 2/83 [00:00<00:07, 10.47it/s]"
     ]
    },
    {
     "name": "stdout",
     "output_type": "stream",
     "text": [
      "Validating\n"
     ]
    },
    {
     "name": "stderr",
     "output_type": "stream",
     "text": [
      "84it [00:11,  7.52it/s]                        \n",
      "  0%|          | 1/668 [00:00<02:09,  5.13it/s]"
     ]
    },
    {
     "name": "stdout",
     "output_type": "stream",
     "text": [
      "Train Loss: 2.2002, Train Acc: 42.74\n",
      "Val Loss: 1.7444, Val Acc: 51.14\n",
      "Epoch 47 of 100\n",
      "Training\n"
     ]
    },
    {
     "name": "stderr",
     "output_type": "stream",
     "text": [
      "100%|██████████| 668/668 [02:02<00:00,  5.44it/s]\n",
      "  2%|▏         | 2/83 [00:00<00:07, 10.34it/s]"
     ]
    },
    {
     "name": "stdout",
     "output_type": "stream",
     "text": [
      "Validating\n"
     ]
    },
    {
     "name": "stderr",
     "output_type": "stream",
     "text": [
      "84it [00:11,  7.45it/s]                        \n",
      "  0%|          | 0/668 [00:00<?, ?it/s]"
     ]
    },
    {
     "name": "stdout",
     "output_type": "stream",
     "text": [
      "Train Loss: 2.1485, Train Acc: 43.19\n",
      "Val Loss: 1.7361, Val Acc: 51.26\n",
      "Epoch 48 of 100\n",
      "Training\n"
     ]
    },
    {
     "name": "stderr",
     "output_type": "stream",
     "text": [
      "100%|██████████| 668/668 [02:03<00:00,  5.41it/s]\n",
      "  1%|          | 1/83 [00:00<00:09,  8.43it/s]"
     ]
    },
    {
     "name": "stdout",
     "output_type": "stream",
     "text": [
      "Validating\n"
     ]
    },
    {
     "name": "stderr",
     "output_type": "stream",
     "text": [
      "84it [00:11,  7.46it/s]                        \n",
      "  0%|          | 0/668 [00:00<?, ?it/s]"
     ]
    },
    {
     "name": "stdout",
     "output_type": "stream",
     "text": [
      "Train Loss: 2.1495, Train Acc: 43.46\n",
      "Val Loss: 1.6768, Val Acc: 54.49\n",
      "Epoch 49 of 100\n",
      "Training\n"
     ]
    },
    {
     "name": "stderr",
     "output_type": "stream",
     "text": [
      "100%|██████████| 668/668 [02:02<00:00,  5.43it/s]\n",
      "  1%|          | 1/83 [00:00<00:08,  9.85it/s]"
     ]
    },
    {
     "name": "stdout",
     "output_type": "stream",
     "text": [
      "Validating\n"
     ]
    },
    {
     "name": "stderr",
     "output_type": "stream",
     "text": [
      "84it [00:11,  7.46it/s]                        \n",
      "  0%|          | 0/668 [00:00<?, ?it/s]"
     ]
    },
    {
     "name": "stdout",
     "output_type": "stream",
     "text": [
      "Train Loss: 2.1004, Train Acc: 44.93\n",
      "Val Loss: 1.6730, Val Acc: 55.69\n",
      "Epoch 50 of 100\n",
      "Training\n"
     ]
    },
    {
     "name": "stderr",
     "output_type": "stream",
     "text": [
      " 53%|█████▎    | 352/668 [01:04<00:56,  5.58it/s]IOPub message rate exceeded.\n",
      "The notebook server will temporarily stop sending output\n",
      "to the client in order to avoid crashing it.\n",
      "To change this limit, set the config variable\n",
      "`--NotebookApp.iopub_msg_rate_limit`.\n",
      "\n",
      "Current values:\n",
      "NotebookApp.iopub_msg_rate_limit=1000.0 (msgs/sec)\n",
      "NotebookApp.rate_limit_window=3.0 (secs)\n",
      "\n",
      "  0%|          | 1/668 [00:00<02:07,  5.23it/s]"
     ]
    },
    {
     "name": "stdout",
     "output_type": "stream",
     "text": [
      "Train Loss: 1.9231, Train Acc: 49.37\n",
      "Val Loss: 1.4528, Val Acc: 59.28\n",
      "Epoch 56 of 100\n",
      "Training\n"
     ]
    },
    {
     "name": "stderr",
     "output_type": "stream",
     "text": [
      "100%|██████████| 668/668 [02:03<00:00,  5.43it/s]\n",
      "  1%|          | 1/83 [00:00<00:12,  6.79it/s]"
     ]
    },
    {
     "name": "stdout",
     "output_type": "stream",
     "text": [
      "Validating\n"
     ]
    },
    {
     "name": "stderr",
     "output_type": "stream",
     "text": [
      "84it [00:11,  7.37it/s]                        \n",
      "  0%|          | 1/668 [00:00<02:09,  5.16it/s]"
     ]
    },
    {
     "name": "stdout",
     "output_type": "stream",
     "text": [
      "Train Loss: 1.9120, Train Acc: 49.97\n",
      "Val Loss: 1.6306, Val Acc: 56.53\n",
      "Epoch 57 of 100\n",
      "Training\n"
     ]
    },
    {
     "name": "stderr",
     "output_type": "stream",
     "text": [
      "100%|██████████| 668/668 [02:03<00:00,  5.42it/s]\n",
      "  1%|          | 1/83 [00:00<00:13,  5.98it/s]"
     ]
    },
    {
     "name": "stdout",
     "output_type": "stream",
     "text": [
      "Validating\n"
     ]
    },
    {
     "name": "stderr",
     "output_type": "stream",
     "text": [
      "84it [00:11,  7.42it/s]                        \n",
      "  0%|          | 0/668 [00:00<?, ?it/s]"
     ]
    },
    {
     "name": "stdout",
     "output_type": "stream",
     "text": [
      "Train Loss: 1.8548, Train Acc: 50.93\n",
      "Val Loss: 1.5211, Val Acc: 57.13\n",
      "Epoch 58 of 100\n",
      "Training\n"
     ]
    },
    {
     "name": "stderr",
     "output_type": "stream",
     "text": [
      "100%|██████████| 668/668 [02:02<00:00,  5.43it/s]\n",
      "  2%|▏         | 2/83 [00:00<00:07, 10.62it/s]"
     ]
    },
    {
     "name": "stdout",
     "output_type": "stream",
     "text": [
      "Validating\n"
     ]
    },
    {
     "name": "stderr",
     "output_type": "stream",
     "text": [
      "84it [00:11,  7.41it/s]                        \n",
      "  0%|          | 0/668 [00:00<?, ?it/s]"
     ]
    },
    {
     "name": "stdout",
     "output_type": "stream",
     "text": [
      "Train Loss: 1.8691, Train Acc: 50.57\n",
      "Val Loss: 1.3791, Val Acc: 60.48\n",
      "Epoch 59 of 100\n",
      "Training\n"
     ]
    },
    {
     "name": "stderr",
     "output_type": "stream",
     "text": [
      "100%|██████████| 668/668 [02:02<00:00,  5.44it/s]\n",
      "  0%|          | 0/83 [00:00<?, ?it/s]"
     ]
    },
    {
     "name": "stdout",
     "output_type": "stream",
     "text": [
      "Validating\n"
     ]
    },
    {
     "name": "stderr",
     "output_type": "stream",
     "text": [
      "84it [00:11,  7.45it/s]                        \n",
      "  0%|          | 0/668 [00:00<?, ?it/s]"
     ]
    },
    {
     "name": "stdout",
     "output_type": "stream",
     "text": [
      "Train Loss: 1.8320, Train Acc: 52.46\n",
      "Val Loss: 1.3808, Val Acc: 61.20\n",
      "Epoch 60 of 100\n",
      "Training\n"
     ]
    },
    {
     "name": "stderr",
     "output_type": "stream",
     "text": [
      "100%|██████████| 668/668 [02:03<00:00,  5.43it/s]\n",
      "  2%|▏         | 2/83 [00:00<00:07, 10.61it/s]"
     ]
    },
    {
     "name": "stdout",
     "output_type": "stream",
     "text": [
      "Validating\n"
     ]
    },
    {
     "name": "stderr",
     "output_type": "stream",
     "text": [
      "84it [00:11,  7.47it/s]                        \n",
      "  0%|          | 0/668 [00:00<?, ?it/s]"
     ]
    },
    {
     "name": "stdout",
     "output_type": "stream",
     "text": [
      "Train Loss: 1.8382, Train Acc: 51.69\n",
      "Val Loss: 1.3759, Val Acc: 62.87\n",
      "Epoch 61 of 100\n",
      "Training\n"
     ]
    },
    {
     "name": "stderr",
     "output_type": "stream",
     "text": [
      "100%|██████████| 668/668 [02:02<00:00,  5.44it/s]\n",
      "  2%|▏         | 2/83 [00:00<00:07, 10.83it/s]"
     ]
    },
    {
     "name": "stdout",
     "output_type": "stream",
     "text": [
      "Validating\n"
     ]
    },
    {
     "name": "stderr",
     "output_type": "stream",
     "text": [
      "84it [00:11,  7.59it/s]                        \n",
      "  0%|          | 0/668 [00:00<?, ?it/s]"
     ]
    },
    {
     "name": "stdout",
     "output_type": "stream",
     "text": [
      "Train Loss: 1.7880, Train Acc: 52.71\n",
      "Val Loss: 1.4026, Val Acc: 60.84\n",
      "Epoch 62 of 100\n",
      "Training\n"
     ]
    },
    {
     "name": "stderr",
     "output_type": "stream",
     "text": [
      "100%|██████████| 668/668 [02:03<00:00,  5.43it/s]\n",
      "  1%|          | 1/83 [00:00<00:09,  8.32it/s]"
     ]
    },
    {
     "name": "stdout",
     "output_type": "stream",
     "text": [
      "Validating\n"
     ]
    },
    {
     "name": "stderr",
     "output_type": "stream",
     "text": [
      "84it [00:11,  7.57it/s]                        \n",
      "  0%|          | 1/668 [00:00<02:05,  5.34it/s]"
     ]
    },
    {
     "name": "stdout",
     "output_type": "stream",
     "text": [
      "Train Loss: 1.7898, Train Acc: 52.98\n",
      "Val Loss: 1.3825, Val Acc: 60.24\n",
      "Epoch 63 of 100\n",
      "Training\n"
     ]
    },
    {
     "name": "stderr",
     "output_type": "stream",
     "text": [
      "100%|██████████| 668/668 [02:03<00:00,  5.43it/s]\n",
      "  0%|          | 0/83 [00:00<?, ?it/s]"
     ]
    },
    {
     "name": "stdout",
     "output_type": "stream",
     "text": [
      "Validating\n"
     ]
    },
    {
     "name": "stderr",
     "output_type": "stream",
     "text": [
      "84it [00:11,  7.46it/s]                        \n",
      "  0%|          | 0/668 [00:00<?, ?it/s]"
     ]
    },
    {
     "name": "stdout",
     "output_type": "stream",
     "text": [
      "Train Loss: 1.7512, Train Acc: 54.39\n",
      "Val Loss: 1.4288, Val Acc: 58.68\n",
      "Epoch 64 of 100\n",
      "Training\n"
     ]
    },
    {
     "name": "stderr",
     "output_type": "stream",
     "text": [
      "100%|██████████| 668/668 [02:02<00:00,  5.43it/s]\n",
      "  1%|          | 1/83 [00:00<00:08,  9.93it/s]"
     ]
    },
    {
     "name": "stdout",
     "output_type": "stream",
     "text": [
      "Validating\n"
     ]
    },
    {
     "name": "stderr",
     "output_type": "stream",
     "text": [
      "84it [00:11,  7.58it/s]                        \n",
      "  0%|          | 0/668 [00:00<?, ?it/s]"
     ]
    },
    {
     "name": "stdout",
     "output_type": "stream",
     "text": [
      "Train Loss: 1.7321, Train Acc: 53.17\n",
      "Val Loss: 1.4032, Val Acc: 60.36\n",
      "Epoch 65 of 100\n",
      "Training\n"
     ]
    },
    {
     "name": "stderr",
     "output_type": "stream",
     "text": [
      "100%|██████████| 668/668 [02:02<00:00,  5.45it/s]\n",
      "  1%|          | 1/83 [00:00<00:10,  7.74it/s]"
     ]
    },
    {
     "name": "stdout",
     "output_type": "stream",
     "text": [
      "Validating\n"
     ]
    },
    {
     "name": "stderr",
     "output_type": "stream",
     "text": [
      "84it [00:11,  7.56it/s]                        \n",
      "  0%|          | 0/668 [00:00<?, ?it/s]"
     ]
    },
    {
     "name": "stdout",
     "output_type": "stream",
     "text": [
      "Train Loss: 1.7261, Train Acc: 53.86\n",
      "Val Loss: 1.3617, Val Acc: 61.08\n",
      "Epoch 66 of 100\n",
      "Training\n"
     ]
    },
    {
     "name": "stderr",
     "output_type": "stream",
     "text": [
      "100%|██████████| 668/668 [02:02<00:00,  5.45it/s]\n",
      "  0%|          | 0/83 [00:00<?, ?it/s]"
     ]
    },
    {
     "name": "stdout",
     "output_type": "stream",
     "text": [
      "Validating\n"
     ]
    },
    {
     "name": "stderr",
     "output_type": "stream",
     "text": [
      "84it [00:11,  7.44it/s]                        \n",
      "  0%|          | 0/668 [00:00<?, ?it/s]"
     ]
    },
    {
     "name": "stdout",
     "output_type": "stream",
     "text": [
      "Train Loss: 1.7114, Train Acc: 54.91\n",
      "Val Loss: 1.3483, Val Acc: 61.80\n",
      "Epoch 67 of 100\n",
      "Training\n"
     ]
    },
    {
     "name": "stderr",
     "output_type": "stream",
     "text": [
      "100%|██████████| 668/668 [02:03<00:00,  5.42it/s]\n",
      "  2%|▏         | 2/83 [00:00<00:07, 10.81it/s]"
     ]
    },
    {
     "name": "stdout",
     "output_type": "stream",
     "text": [
      "Validating\n"
     ]
    },
    {
     "name": "stderr",
     "output_type": "stream",
     "text": [
      "84it [00:11,  7.48it/s]                        \n",
      "  0%|          | 0/668 [00:00<?, ?it/s]"
     ]
    },
    {
     "name": "stdout",
     "output_type": "stream",
     "text": [
      "Train Loss: 1.6915, Train Acc: 55.43\n",
      "Val Loss: 1.2864, Val Acc: 64.19\n",
      "Epoch 68 of 100\n",
      "Training\n"
     ]
    },
    {
     "name": "stderr",
     "output_type": "stream",
     "text": [
      "100%|██████████| 668/668 [02:03<00:00,  5.42it/s]\n",
      "  0%|          | 0/83 [00:00<?, ?it/s]"
     ]
    },
    {
     "name": "stdout",
     "output_type": "stream",
     "text": [
      "Validating\n"
     ]
    },
    {
     "name": "stderr",
     "output_type": "stream",
     "text": [
      "84it [00:11,  7.47it/s]                        \n",
      "  0%|          | 0/668 [00:00<?, ?it/s]"
     ]
    },
    {
     "name": "stdout",
     "output_type": "stream",
     "text": [
      "Train Loss: 1.6437, Train Acc: 56.42\n",
      "Val Loss: 1.3554, Val Acc: 62.16\n",
      "Epoch 69 of 100\n",
      "Training\n"
     ]
    },
    {
     "name": "stderr",
     "output_type": "stream",
     "text": [
      "100%|██████████| 668/668 [02:03<00:00,  5.43it/s]\n",
      "  1%|          | 1/83 [00:00<00:08,  9.53it/s]"
     ]
    },
    {
     "name": "stdout",
     "output_type": "stream",
     "text": [
      "Validating\n"
     ]
    },
    {
     "name": "stderr",
     "output_type": "stream",
     "text": [
      "84it [00:11,  7.39it/s]                        \n",
      "  0%|          | 1/668 [00:00<02:09,  5.16it/s]"
     ]
    },
    {
     "name": "stdout",
     "output_type": "stream",
     "text": [
      "Train Loss: 1.7409, Train Acc: 54.01\n",
      "Val Loss: 1.2960, Val Acc: 63.83\n",
      "Epoch 70 of 100\n",
      "Training\n"
     ]
    },
    {
     "name": "stderr",
     "output_type": "stream",
     "text": [
      "100%|██████████| 668/668 [02:03<00:00,  5.43it/s]\n",
      "  1%|          | 1/83 [00:00<00:09,  9.10it/s]"
     ]
    },
    {
     "name": "stdout",
     "output_type": "stream",
     "text": [
      "Validating\n"
     ]
    },
    {
     "name": "stderr",
     "output_type": "stream",
     "text": [
      "84it [00:11,  7.45it/s]                        \n",
      "  0%|          | 0/668 [00:00<?, ?it/s]"
     ]
    },
    {
     "name": "stdout",
     "output_type": "stream",
     "text": [
      "Train Loss: 1.6485, Train Acc: 55.49\n",
      "Val Loss: 1.2657, Val Acc: 63.47\n",
      "Epoch 71 of 100\n",
      "Training\n"
     ]
    },
    {
     "name": "stderr",
     "output_type": "stream",
     "text": [
      "100%|██████████| 668/668 [02:02<00:00,  5.44it/s]\n",
      "  2%|▏         | 2/83 [00:00<00:06, 11.59it/s]"
     ]
    },
    {
     "name": "stdout",
     "output_type": "stream",
     "text": [
      "Validating\n"
     ]
    },
    {
     "name": "stderr",
     "output_type": "stream",
     "text": [
      "84it [00:11,  7.45it/s]                        \n",
      "  0%|          | 0/668 [00:00<?, ?it/s]"
     ]
    },
    {
     "name": "stdout",
     "output_type": "stream",
     "text": [
      "Train Loss: 1.5804, Train Acc: 57.65\n",
      "Val Loss: 1.3031, Val Acc: 62.75\n",
      "Epoch 72 of 100\n",
      "Training\n"
     ]
    },
    {
     "name": "stderr",
     "output_type": "stream",
     "text": [
      "100%|██████████| 668/668 [02:03<00:00,  5.43it/s]\n",
      "  2%|▏         | 2/83 [00:00<00:07, 11.40it/s]"
     ]
    },
    {
     "name": "stdout",
     "output_type": "stream",
     "text": [
      "Validating\n"
     ]
    },
    {
     "name": "stderr",
     "output_type": "stream",
     "text": [
      "84it [00:11,  7.44it/s]                        \n",
      "  0%|          | 1/668 [00:00<01:53,  5.86it/s]"
     ]
    },
    {
     "name": "stdout",
     "output_type": "stream",
     "text": [
      "Train Loss: 1.5838, Train Acc: 58.53\n",
      "Val Loss: 1.3080, Val Acc: 62.51\n",
      "Epoch 73 of 100\n",
      "Training\n"
     ]
    },
    {
     "name": "stderr",
     "output_type": "stream",
     "text": [
      "100%|██████████| 668/668 [02:02<00:00,  5.43it/s]\n",
      "  2%|▏         | 2/83 [00:00<00:07, 10.40it/s]"
     ]
    },
    {
     "name": "stdout",
     "output_type": "stream",
     "text": [
      "Validating\n"
     ]
    },
    {
     "name": "stderr",
     "output_type": "stream",
     "text": [
      "84it [00:11,  7.39it/s]                        \n",
      "  0%|          | 0/668 [00:00<?, ?it/s]"
     ]
    },
    {
     "name": "stdout",
     "output_type": "stream",
     "text": [
      "Train Loss: 1.6269, Train Acc: 56.99\n",
      "Val Loss: 1.2558, Val Acc: 63.71\n",
      "Epoch 74 of 100\n",
      "Training\n"
     ]
    },
    {
     "name": "stderr",
     "output_type": "stream",
     "text": [
      "100%|██████████| 668/668 [02:06<00:00,  5.28it/s]\n",
      "  1%|          | 1/83 [00:00<00:09,  9.05it/s]"
     ]
    },
    {
     "name": "stdout",
     "output_type": "stream",
     "text": [
      "Validating\n"
     ]
    },
    {
     "name": "stderr",
     "output_type": "stream",
     "text": [
      "84it [00:11,  7.61it/s]                        \n",
      "  0%|          | 0/668 [00:00<?, ?it/s]"
     ]
    },
    {
     "name": "stdout",
     "output_type": "stream",
     "text": [
      "Train Loss: 1.5710, Train Acc: 57.98\n",
      "Val Loss: 1.2034, Val Acc: 65.63\n",
      "Epoch 75 of 100\n",
      "Training\n"
     ]
    },
    {
     "name": "stderr",
     "output_type": "stream",
     "text": [
      "100%|██████████| 668/668 [02:03<00:00,  5.42it/s]\n",
      "  2%|▏         | 2/83 [00:00<00:07, 10.41it/s]"
     ]
    },
    {
     "name": "stdout",
     "output_type": "stream",
     "text": [
      "Validating\n"
     ]
    },
    {
     "name": "stderr",
     "output_type": "stream",
     "text": [
      "84it [00:11,  7.39it/s]                        \n",
      "  0%|          | 0/668 [00:00<?, ?it/s]"
     ]
    },
    {
     "name": "stdout",
     "output_type": "stream",
     "text": [
      "Train Loss: 1.5572, Train Acc: 58.71\n",
      "Val Loss: 1.2973, Val Acc: 63.71\n",
      "Epoch 76 of 100\n",
      "Training\n"
     ]
    },
    {
     "name": "stderr",
     "output_type": "stream",
     "text": [
      "100%|██████████| 668/668 [02:03<00:00,  5.40it/s]\n",
      "  1%|          | 1/83 [00:00<00:09,  8.61it/s]"
     ]
    },
    {
     "name": "stdout",
     "output_type": "stream",
     "text": [
      "Validating\n"
     ]
    },
    {
     "name": "stderr",
     "output_type": "stream",
     "text": [
      "84it [00:11,  7.45it/s]                        \n",
      "  0%|          | 1/668 [00:00<02:05,  5.32it/s]"
     ]
    },
    {
     "name": "stdout",
     "output_type": "stream",
     "text": [
      "Train Loss: 1.5278, Train Acc: 59.46\n",
      "Val Loss: 1.1757, Val Acc: 65.99\n",
      "Epoch 77 of 100\n",
      "Training\n"
     ]
    },
    {
     "name": "stderr",
     "output_type": "stream",
     "text": [
      "100%|██████████| 668/668 [02:02<00:00,  5.44it/s]\n",
      "  0%|          | 0/83 [00:00<?, ?it/s]"
     ]
    },
    {
     "name": "stdout",
     "output_type": "stream",
     "text": [
      "Validating\n"
     ]
    },
    {
     "name": "stderr",
     "output_type": "stream",
     "text": [
      "84it [00:11,  7.44it/s]                        \n",
      "  0%|          | 0/668 [00:00<?, ?it/s]"
     ]
    },
    {
     "name": "stdout",
     "output_type": "stream",
     "text": [
      "Train Loss: 1.5264, Train Acc: 60.24\n",
      "Val Loss: 1.2858, Val Acc: 65.27\n",
      "Epoch 78 of 100\n",
      "Training\n"
     ]
    },
    {
     "name": "stderr",
     "output_type": "stream",
     "text": [
      "100%|██████████| 668/668 [02:03<00:00,  5.43it/s]\n",
      "  1%|          | 1/83 [00:00<00:10,  7.59it/s]"
     ]
    },
    {
     "name": "stdout",
     "output_type": "stream",
     "text": [
      "Validating\n"
     ]
    },
    {
     "name": "stderr",
     "output_type": "stream",
     "text": [
      "84it [00:11,  7.44it/s]                        \n",
      "  0%|          | 0/668 [00:00<?, ?it/s]"
     ]
    },
    {
     "name": "stdout",
     "output_type": "stream",
     "text": [
      "Train Loss: 1.5224, Train Acc: 59.09\n",
      "Val Loss: 1.1861, Val Acc: 65.15\n",
      "Epoch 79 of 100\n",
      "Training\n"
     ]
    },
    {
     "name": "stderr",
     "output_type": "stream",
     "text": [
      "100%|██████████| 668/668 [02:03<00:00,  5.42it/s]\n",
      "  1%|          | 1/83 [00:00<00:12,  6.77it/s]"
     ]
    },
    {
     "name": "stdout",
     "output_type": "stream",
     "text": [
      "Validating\n"
     ]
    },
    {
     "name": "stderr",
     "output_type": "stream",
     "text": [
      "84it [00:11,  7.43it/s]                        \n",
      "  0%|          | 0/668 [00:00<?, ?it/s]"
     ]
    },
    {
     "name": "stdout",
     "output_type": "stream",
     "text": [
      "Train Loss: 1.4678, Train Acc: 60.75\n",
      "Val Loss: 1.2193, Val Acc: 66.59\n",
      "Epoch 80 of 100\n",
      "Training\n"
     ]
    },
    {
     "name": "stderr",
     "output_type": "stream",
     "text": [
      "100%|██████████| 668/668 [02:02<00:00,  5.44it/s]\n",
      "  1%|          | 1/83 [00:00<00:11,  7.25it/s]"
     ]
    },
    {
     "name": "stdout",
     "output_type": "stream",
     "text": [
      "Validating\n"
     ]
    },
    {
     "name": "stderr",
     "output_type": "stream",
     "text": [
      "84it [00:11,  7.54it/s]                        \n",
      "  0%|          | 0/668 [00:00<?, ?it/s]"
     ]
    },
    {
     "name": "stdout",
     "output_type": "stream",
     "text": [
      "Train Loss: 1.4670, Train Acc: 60.43\n",
      "Val Loss: 1.2787, Val Acc: 63.83\n",
      "Epoch 81 of 100\n",
      "Training\n"
     ]
    },
    {
     "name": "stderr",
     "output_type": "stream",
     "text": [
      "100%|██████████| 668/668 [02:02<00:00,  5.45it/s]\n",
      "  2%|▏         | 2/83 [00:00<00:08, 10.11it/s]"
     ]
    },
    {
     "name": "stdout",
     "output_type": "stream",
     "text": [
      "Validating\n"
     ]
    },
    {
     "name": "stderr",
     "output_type": "stream",
     "text": [
      "84it [00:11,  7.48it/s]                        \n",
      "  0%|          | 1/668 [00:00<02:09,  5.15it/s]"
     ]
    },
    {
     "name": "stdout",
     "output_type": "stream",
     "text": [
      "Train Loss: 1.4820, Train Acc: 59.63\n",
      "Val Loss: 1.2442, Val Acc: 65.87\n",
      "Epoch 82 of 100\n",
      "Training\n"
     ]
    },
    {
     "name": "stderr",
     "output_type": "stream",
     "text": [
      "100%|██████████| 668/668 [02:02<00:00,  5.44it/s]\n",
      "  1%|          | 1/83 [00:00<00:09,  8.24it/s]"
     ]
    },
    {
     "name": "stdout",
     "output_type": "stream",
     "text": [
      "Validating\n"
     ]
    },
    {
     "name": "stderr",
     "output_type": "stream",
     "text": [
      "84it [00:12,  6.78it/s]                        \n",
      "  0%|          | 0/668 [00:00<?, ?it/s]"
     ]
    },
    {
     "name": "stdout",
     "output_type": "stream",
     "text": [
      "Train Loss: 1.4531, Train Acc: 61.65\n",
      "Val Loss: 1.2619, Val Acc: 65.51\n",
      "Epoch 83 of 100\n",
      "Training\n"
     ]
    },
    {
     "name": "stderr",
     "output_type": "stream",
     "text": [
      "100%|██████████| 668/668 [02:03<00:00,  5.43it/s]\n",
      "  0%|          | 0/83 [00:00<?, ?it/s]"
     ]
    },
    {
     "name": "stdout",
     "output_type": "stream",
     "text": [
      "Validating\n"
     ]
    },
    {
     "name": "stderr",
     "output_type": "stream",
     "text": [
      "84it [00:11,  7.46it/s]                        \n",
      "  0%|          | 0/668 [00:00<?, ?it/s]"
     ]
    },
    {
     "name": "stdout",
     "output_type": "stream",
     "text": [
      "Train Loss: 1.4689, Train Acc: 60.85\n",
      "Val Loss: 1.1771, Val Acc: 65.27\n",
      "Epoch 84 of 100\n",
      "Training\n"
     ]
    },
    {
     "name": "stderr",
     "output_type": "stream",
     "text": [
      "100%|██████████| 668/668 [02:02<00:00,  5.43it/s]\n",
      "  1%|          | 1/83 [00:00<00:11,  7.05it/s]"
     ]
    },
    {
     "name": "stdout",
     "output_type": "stream",
     "text": [
      "Validating\n"
     ]
    },
    {
     "name": "stderr",
     "output_type": "stream",
     "text": [
      "84it [00:11,  7.42it/s]                        \n",
      "  0%|          | 0/668 [00:00<?, ?it/s]"
     ]
    },
    {
     "name": "stdout",
     "output_type": "stream",
     "text": [
      "Train Loss: 1.4440, Train Acc: 61.81\n",
      "Val Loss: 1.2343, Val Acc: 66.95\n",
      "Epoch 85 of 100\n",
      "Training\n"
     ]
    },
    {
     "name": "stderr",
     "output_type": "stream",
     "text": [
      "100%|██████████| 668/668 [02:03<00:00,  5.42it/s]\n",
      "  2%|▏         | 2/83 [00:00<00:07, 11.01it/s]"
     ]
    },
    {
     "name": "stdout",
     "output_type": "stream",
     "text": [
      "Validating\n"
     ]
    },
    {
     "name": "stderr",
     "output_type": "stream",
     "text": [
      "84it [00:11,  7.44it/s]                        \n",
      "  0%|          | 0/668 [00:00<?, ?it/s]"
     ]
    },
    {
     "name": "stdout",
     "output_type": "stream",
     "text": [
      "Train Loss: 1.4416, Train Acc: 61.39\n",
      "Val Loss: 1.1494, Val Acc: 67.07\n",
      "Epoch 86 of 100\n",
      "Training\n"
     ]
    },
    {
     "name": "stderr",
     "output_type": "stream",
     "text": [
      "100%|██████████| 668/668 [02:02<00:00,  5.44it/s]\n",
      "  1%|          | 1/83 [00:00<00:08,  9.95it/s]"
     ]
    },
    {
     "name": "stdout",
     "output_type": "stream",
     "text": [
      "Validating\n"
     ]
    },
    {
     "name": "stderr",
     "output_type": "stream",
     "text": [
      "84it [00:11,  7.41it/s]                        \n",
      "  0%|          | 0/668 [00:00<?, ?it/s]"
     ]
    },
    {
     "name": "stdout",
     "output_type": "stream",
     "text": [
      "Train Loss: 1.4391, Train Acc: 61.50\n",
      "Val Loss: 1.1989, Val Acc: 65.75\n",
      "Epoch 87 of 100\n",
      "Training\n"
     ]
    },
    {
     "name": "stderr",
     "output_type": "stream",
     "text": [
      "100%|██████████| 668/668 [02:03<00:00,  5.42it/s]\n",
      "  1%|          | 1/83 [00:00<00:08,  9.77it/s]"
     ]
    },
    {
     "name": "stdout",
     "output_type": "stream",
     "text": [
      "Validating\n"
     ]
    },
    {
     "name": "stderr",
     "output_type": "stream",
     "text": [
      "84it [00:11,  7.51it/s]                        \n",
      "  0%|          | 0/668 [00:00<?, ?it/s]"
     ]
    },
    {
     "name": "stdout",
     "output_type": "stream",
     "text": [
      "Train Loss: 1.3834, Train Acc: 63.10\n",
      "Val Loss: 1.1334, Val Acc: 66.95\n",
      "Epoch 88 of 100\n",
      "Training\n"
     ]
    },
    {
     "name": "stderr",
     "output_type": "stream",
     "text": [
      "100%|██████████| 668/668 [02:03<00:00,  5.43it/s]\n",
      "  2%|▏         | 2/83 [00:00<00:06, 12.57it/s]"
     ]
    },
    {
     "name": "stdout",
     "output_type": "stream",
     "text": [
      "Validating\n"
     ]
    },
    {
     "name": "stderr",
     "output_type": "stream",
     "text": [
      "84it [00:11,  7.43it/s]                        \n",
      "  0%|          | 0/668 [00:00<?, ?it/s]"
     ]
    },
    {
     "name": "stdout",
     "output_type": "stream",
     "text": [
      "Train Loss: 1.3737, Train Acc: 63.44\n",
      "Val Loss: 1.1475, Val Acc: 67.07\n",
      "Epoch 89 of 100\n",
      "Training\n"
     ]
    },
    {
     "name": "stderr",
     "output_type": "stream",
     "text": [
      "100%|██████████| 668/668 [02:03<00:00,  5.43it/s]\n",
      "  1%|          | 1/83 [00:00<00:08,  9.71it/s]"
     ]
    },
    {
     "name": "stdout",
     "output_type": "stream",
     "text": [
      "Validating\n"
     ]
    },
    {
     "name": "stderr",
     "output_type": "stream",
     "text": [
      "84it [00:11,  7.41it/s]                        \n",
      "  0%|          | 0/668 [00:00<?, ?it/s]"
     ]
    },
    {
     "name": "stdout",
     "output_type": "stream",
     "text": [
      "Train Loss: 1.3506, Train Acc: 63.61\n",
      "Val Loss: 1.1492, Val Acc: 67.19\n",
      "Epoch 90 of 100\n",
      "Training\n"
     ]
    },
    {
     "name": "stderr",
     "output_type": "stream",
     "text": [
      "100%|██████████| 668/668 [02:03<00:00,  5.42it/s]\n",
      "  1%|          | 1/83 [00:00<00:09,  8.47it/s]"
     ]
    },
    {
     "name": "stdout",
     "output_type": "stream",
     "text": [
      "Validating\n"
     ]
    },
    {
     "name": "stderr",
     "output_type": "stream",
     "text": [
      "84it [00:11,  7.45it/s]                        \n",
      "  0%|          | 0/668 [00:00<?, ?it/s]"
     ]
    },
    {
     "name": "stdout",
     "output_type": "stream",
     "text": [
      "Train Loss: 1.3184, Train Acc: 64.04\n",
      "Val Loss: 1.1915, Val Acc: 66.95\n",
      "Epoch 91 of 100\n",
      "Training\n"
     ]
    },
    {
     "name": "stderr",
     "output_type": "stream",
     "text": [
      "100%|██████████| 668/668 [02:03<00:00,  5.42it/s]\n",
      "  1%|          | 1/83 [00:00<00:10,  8.02it/s]"
     ]
    },
    {
     "name": "stdout",
     "output_type": "stream",
     "text": [
      "Validating\n"
     ]
    },
    {
     "name": "stderr",
     "output_type": "stream",
     "text": [
      "84it [00:11,  7.54it/s]                        \n",
      "  0%|          | 0/668 [00:00<?, ?it/s]"
     ]
    },
    {
     "name": "stdout",
     "output_type": "stream",
     "text": [
      "Train Loss: 1.3318, Train Acc: 64.48\n",
      "Val Loss: 1.1083, Val Acc: 68.86\n",
      "Epoch 92 of 100\n",
      "Training\n"
     ]
    },
    {
     "name": "stderr",
     "output_type": "stream",
     "text": [
      "100%|██████████| 668/668 [02:03<00:00,  5.43it/s]\n",
      "  0%|          | 0/83 [00:00<?, ?it/s]"
     ]
    },
    {
     "name": "stdout",
     "output_type": "stream",
     "text": [
      "Validating\n"
     ]
    },
    {
     "name": "stderr",
     "output_type": "stream",
     "text": [
      "84it [00:11,  7.45it/s]                        \n",
      "  0%|          | 0/668 [00:00<?, ?it/s]"
     ]
    },
    {
     "name": "stdout",
     "output_type": "stream",
     "text": [
      "Train Loss: 1.3638, Train Acc: 64.13\n",
      "Val Loss: 1.1159, Val Acc: 68.02\n",
      "Epoch 93 of 100\n",
      "Training\n"
     ]
    },
    {
     "name": "stderr",
     "output_type": "stream",
     "text": [
      "100%|██████████| 668/668 [02:02<00:00,  5.43it/s]\n",
      "  0%|          | 0/83 [00:00<?, ?it/s]"
     ]
    },
    {
     "name": "stdout",
     "output_type": "stream",
     "text": [
      "Validating\n"
     ]
    },
    {
     "name": "stderr",
     "output_type": "stream",
     "text": [
      "84it [00:11,  7.41it/s]                        \n",
      "  0%|          | 1/668 [00:00<02:04,  5.36it/s]"
     ]
    },
    {
     "name": "stdout",
     "output_type": "stream",
     "text": [
      "Train Loss: 1.3258, Train Acc: 64.33\n",
      "Val Loss: 1.1490, Val Acc: 68.26\n",
      "Epoch 94 of 100\n",
      "Training\n"
     ]
    },
    {
     "name": "stderr",
     "output_type": "stream",
     "text": [
      "100%|██████████| 668/668 [02:02<00:00,  5.43it/s]\n",
      "  1%|          | 1/83 [00:00<00:09,  8.72it/s]"
     ]
    },
    {
     "name": "stdout",
     "output_type": "stream",
     "text": [
      "Validating\n"
     ]
    },
    {
     "name": "stderr",
     "output_type": "stream",
     "text": [
      "84it [00:11,  7.42it/s]                        \n",
      "  0%|          | 1/668 [00:00<02:11,  5.07it/s]"
     ]
    },
    {
     "name": "stdout",
     "output_type": "stream",
     "text": [
      "Train Loss: 1.2884, Train Acc: 65.45\n",
      "Val Loss: 1.1696, Val Acc: 67.43\n",
      "Epoch 95 of 100\n",
      "Training\n"
     ]
    },
    {
     "name": "stderr",
     "output_type": "stream",
     "text": [
      "100%|██████████| 668/668 [02:03<00:00,  5.43it/s]\n",
      "  1%|          | 1/83 [00:00<00:10,  7.77it/s]"
     ]
    },
    {
     "name": "stdout",
     "output_type": "stream",
     "text": [
      "Validating\n"
     ]
    },
    {
     "name": "stderr",
     "output_type": "stream",
     "text": [
      "84it [00:11,  7.54it/s]                        \n",
      "  0%|          | 0/668 [00:00<?, ?it/s]"
     ]
    },
    {
     "name": "stdout",
     "output_type": "stream",
     "text": [
      "Train Loss: 1.3282, Train Acc: 64.46\n",
      "Val Loss: 1.1763, Val Acc: 67.43\n",
      "Epoch 96 of 100\n",
      "Training\n"
     ]
    },
    {
     "name": "stderr",
     "output_type": "stream",
     "text": [
      "100%|██████████| 668/668 [02:03<00:00,  5.42it/s]\n",
      "  0%|          | 0/83 [00:00<?, ?it/s]"
     ]
    },
    {
     "name": "stdout",
     "output_type": "stream",
     "text": [
      "Validating\n"
     ]
    },
    {
     "name": "stderr",
     "output_type": "stream",
     "text": [
      "84it [00:11,  7.45it/s]                        \n",
      "  0%|          | 1/668 [00:00<02:03,  5.42it/s]"
     ]
    },
    {
     "name": "stdout",
     "output_type": "stream",
     "text": [
      "Train Loss: 1.2752, Train Acc: 66.06\n",
      "Val Loss: 1.1369, Val Acc: 67.90\n",
      "Epoch 97 of 100\n",
      "Training\n"
     ]
    },
    {
     "name": "stderr",
     "output_type": "stream",
     "text": [
      "100%|██████████| 668/668 [02:02<00:00,  5.45it/s]\n",
      "  0%|          | 0/83 [00:00<?, ?it/s]"
     ]
    },
    {
     "name": "stdout",
     "output_type": "stream",
     "text": [
      "Validating\n"
     ]
    },
    {
     "name": "stderr",
     "output_type": "stream",
     "text": [
      "84it [00:11,  7.45it/s]                        \n",
      "  0%|          | 0/668 [00:00<?, ?it/s]"
     ]
    },
    {
     "name": "stdout",
     "output_type": "stream",
     "text": [
      "Train Loss: 1.2752, Train Acc: 65.88\n",
      "Val Loss: 1.0673, Val Acc: 68.26\n",
      "Epoch 98 of 100\n",
      "Training\n"
     ]
    },
    {
     "name": "stderr",
     "output_type": "stream",
     "text": [
      "100%|██████████| 668/668 [02:02<00:00,  5.43it/s]\n",
      "  1%|          | 1/83 [00:00<00:08,  9.62it/s]"
     ]
    },
    {
     "name": "stdout",
     "output_type": "stream",
     "text": [
      "Validating\n"
     ]
    },
    {
     "name": "stderr",
     "output_type": "stream",
     "text": [
      "84it [00:11,  7.43it/s]                        \n",
      "  0%|          | 0/668 [00:00<?, ?it/s]"
     ]
    },
    {
     "name": "stdout",
     "output_type": "stream",
     "text": [
      "Train Loss: 1.2837, Train Acc: 65.75\n",
      "Val Loss: 1.1614, Val Acc: 66.71\n",
      "Epoch 99 of 100\n",
      "Training\n"
     ]
    },
    {
     "name": "stderr",
     "output_type": "stream",
     "text": [
      "100%|██████████| 668/668 [02:03<00:00,  5.42it/s]\n",
      "  2%|▏         | 2/83 [00:00<00:07, 10.62it/s]"
     ]
    },
    {
     "name": "stdout",
     "output_type": "stream",
     "text": [
      "Validating\n"
     ]
    },
    {
     "name": "stderr",
     "output_type": "stream",
     "text": [
      "84it [00:11,  7.46it/s]                        \n",
      "  0%|          | 0/668 [00:00<?, ?it/s]"
     ]
    },
    {
     "name": "stdout",
     "output_type": "stream",
     "text": [
      "Train Loss: 1.2668, Train Acc: 67.14\n",
      "Val Loss: 1.0803, Val Acc: 69.94\n",
      "Epoch 100 of 100\n",
      "Training\n"
     ]
    },
    {
     "name": "stderr",
     "output_type": "stream",
     "text": [
      "100%|██████████| 668/668 [02:02<00:00,  5.43it/s]\n",
      "  1%|          | 1/83 [00:00<00:11,  7.30it/s]"
     ]
    },
    {
     "name": "stdout",
     "output_type": "stream",
     "text": [
      "Validating\n"
     ]
    },
    {
     "name": "stderr",
     "output_type": "stream",
     "text": [
      "84it [00:11,  7.43it/s]                        \n"
     ]
    },
    {
     "name": "stdout",
     "output_type": "stream",
     "text": [
      "Train Loss: 1.2776, Train Acc: 65.43\n",
      "Val Loss: 1.1459, Val Acc: 66.71\n",
      "Took 237.375 minutes to train for 100 epochs\n"
     ]
    },
    {
     "data": {
      "image/png": "[encoded data removed]",
      "text/plain": [
       "<Figure size 720x504 with 1 Axes>"
      ]
     },
     "metadata": {
      "needs_background": "light"
     },
     "output_type": "display_data"
    },
    {
     "data": {
      "image/png": "[encoded data removed]",
      "text/plain": [
       "<Figure size 720x504 with 1 Axes>"
      ]
     },
     "metadata": {
      "needs_background": "light"
     },
     "output_type": "display_data"
    }
   ],
   "source": [
    "# train the model\n",
    "train_loss, val_loss, train_acc, val_acc, use_amp = train(100, model_scratch, criterion_scratch, optimizer_scratch, exp_lr_scheduler)\n",
    "\n",
    "# accuracy plots\n",
    "plt.figure(figsize=(10, 7))\n",
    "plt.plot(train_acc, color='green', label='train accuracy')\n",
    "plt.plot(val_acc, color='blue', label='validataion accuracy')\n",
    "plt.xlabel('Epochs')\n",
    "plt.ylabel('Accuracy')\n",
    "plt.legend()\n",
    "plt.savefig(f\"./graphs/mnasnet_amp_{use_amp}_accuracy.png\")\n",
    "plt.show()\n",
    "\n",
    "# loss plots\n",
    "plt.figure(figsize=(10, 7))\n",
    "plt.plot(train_loss, color='orange', label='train loss')\n",
    "plt.plot(val_loss, color='red', label='validataion loss')\n",
    "plt.xlabel('Epochs')\n",
    "plt.ylabel('Loss')\n",
    "plt.legend()\n",
    "plt.savefig(f\"./graphs/mnasnet_amp_{use_amp}_loss.png\")\n",
    "plt.show()"
   ]
  },
  {
   "cell_type": "code",
   "execution_count": 22,
   "id": "02eef1c1",
   "metadata": {},
   "outputs": [],
   "source": [
    "def test(model, criterion):\n",
    "    since = time.time()\n",
    "    # monitor test loss and accuracy\n",
    "    print(\"Evaluating model\")\n",
    "    print(\"-\" * 10)\n",
    "    model.eval()\n",
    "    \n",
    "    test_loss = 0.\n",
    "    test_acc = 0.\n",
    "    correct = 0.\n",
    "    total = 0.\n",
    "    \n",
    "    for i, data in enumerate(dataloaders[TEST]):\n",
    "        images, target = data\n",
    "        # move to GPU\n",
    "        images, target = images.to(device), target.to(device)\n",
    "                \n",
    "        # forward pass: compute predicted outputs by passing inputs to the model\n",
    "        with torch.no_grad():\n",
    "            outputs = model(images)\n",
    "            # calculate the loss\n",
    "            _, preds = torch.max(outputs.data, 1)\n",
    "            \n",
    "            #pred = output.data.max(1, keepdim=True)[1]\n",
    "            loss = criterion(outputs, target)\n",
    "            # update average test loss  \n",
    "            test_loss = test_loss + ((1 / (i + 1)) * (loss.item() - test_loss))\n",
    "                       \n",
    "            # compare predictions to true label\n",
    "            total += target.size(0)\n",
    "            correct += (preds == target).double().sum().item()\n",
    "            \n",
    "    avg_loss = test_loss\n",
    "    elapsed_time = time.time() - since\n",
    "\n",
    "    print(\"Evaluation completed in {:.0f}m {:.0f}s\".format(elapsed_time // 60, elapsed_time % 60))\n",
    "    print(\"\\nTest Loss: {:.6f}\\n\".format(avg_loss))\n",
    "    print(\"\\nTest Accuracy: {:.3f}% {:.0f}/{:.0f}\".format(100. * correct / total, correct, total))\n",
    "    print('-' * 10)"
   ]
  },
  {
   "cell_type": "code",
   "execution_count": 23,
   "id": "bec4455c",
   "metadata": {},
   "outputs": [
    {
     "name": "stdout",
     "output_type": "stream",
     "text": [
      "Evaluating model\n",
      "----------\n",
      "Evaluation completed in 0m 12s\n",
      "\n",
      "Test Loss: 1.143257\n",
      "\n",
      "\n",
      "Test Accuracy: 69.856% 584/836\n",
      "----------\n"
     ]
    }
   ],
   "source": [
    "# call test function    \n",
    "test(model_scratch, criterion_scratch)"
   ]
  },
  {
   "cell_type": "code",
   "execution_count": null,
   "id": "bc1b0ba7",
   "metadata": {},
   "outputs": [],
   "source": []
  }
 ],
 "metadata": {
  "kernelspec": {
   "display_name": "Python 3",
   "language": "python",
   "name": "python3"
  },
  "language_info": {
   "codemirror_mode": {
    "name": "ipython",
    "version": 3
   },
   "file_extension": ".py",
   "mimetype": "text/x-python",
   "name": "python",
   "nbconvert_exporter": "python",
   "pygments_lexer": "ipython3",
   "version": "3.9.4"
  }
 },
 "nbformat": 4,
 "nbformat_minor": 5
}
